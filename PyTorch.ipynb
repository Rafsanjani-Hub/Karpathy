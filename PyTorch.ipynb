{
  "cells": [
    {
      "cell_type": "markdown",
      "metadata": {
        "id": "view-in-github",
        "colab_type": "text"
      },
      "source": [
        "<a href=\"https://colab.research.google.com/github/mrzResearchArena/Karpathy/blob/main/PyTorch.ipynb\" target=\"_parent\"><img src=\"https://colab.research.google.com/assets/colab-badge.svg\" alt=\"Open In Colab\"/></a>"
      ]
    },
    {
      "cell_type": "code",
      "execution_count": null,
      "metadata": {
        "colab": {
          "base_uri": "https://localhost:8080/"
        },
        "id": "YdTqGkCNR0xs",
        "outputId": "077cf7ab-dcc8-47b5-c5c1-295ff64279e4"
      },
      "outputs": [
        {
          "output_type": "stream",
          "name": "stdout",
          "text": [
            "PyTorch Version: 2.1.0+cu121.\n",
            "We're using \"cpu\" as device.\n"
          ]
        }
      ],
      "source": [
        "import torch\n",
        "print(f'PyTorch Version: {torch.__version__}.')\n",
        "# It does not work. However, it has been kept here for testing.\n",
        "# torch.set_default_dtype(torch.float)\n",
        "\n",
        "\n",
        "device = torch.device('cuda') if torch.cuda.is_available() else torch.device('cpu')\n",
        "print(f'We\\'re using \"{device}\" as device.')\n",
        "# SET GPU/TPU: Runtime (Tab) → Change Runtime Type → GPU.\n",
        "\n",
        "\n",
        "torch.manual_seed(1337)\n",
        "# SET random seed is 1337; Andrej Karpathy uses 1337 as seed.\n",
        "\n",
        "import numpy as np\n",
        "np.random.seed(1337)"
      ]
    },
    {
      "cell_type": "markdown",
      "metadata": {
        "id": "-fYp0rQfN-B2"
      },
      "source": [
        "### 1. Tensor Computation:\n",
        "---"
      ]
    },
    {
      "cell_type": "markdown",
      "metadata": {
        "id": "fUBpF7QXpxIH"
      },
      "source": [
        "### 1.x Mathematics:\n",
        "---"
      ]
    },
    {
      "cell_type": "code",
      "execution_count": null,
      "metadata": {
        "colab": {
          "base_uri": "https://localhost:8080/"
        },
        "id": "M1IcOr8qp8w-",
        "outputId": "0e13973e-6215-40f4-913a-d01fad422354"
      },
      "outputs": [
        {
          "name": "stdout",
          "output_type": "stream",
          "text": [
            "120\n",
            "120\n"
          ]
        }
      ],
      "source": [
        "print(np.math.factorial(5))\n",
        "print(torch.math.factorial(5))"
      ]
    },
    {
      "cell_type": "code",
      "execution_count": null,
      "metadata": {
        "colab": {
          "background_save": true,
          "base_uri": "https://localhost:8080/"
        },
        "id": "-1zOZk9cqPry",
        "outputId": "452e88f7-619b-4e98-ebe3-70ff48edb245"
      },
      "outputs": [
        {
          "name": "stdout",
          "output_type": "stream",
          "text": [
            "2.7182817459106445\n",
            "2.718281828459045\n"
          ]
        }
      ],
      "source": [
        "v = torch.tensor(1)\n",
        "\n",
        "print(torch.exp(v).item())"
      ]
    },
    {
      "cell_type": "code",
      "source": [],
      "metadata": {
        "id": "kSUyLKNaZSOY"
      },
      "execution_count": null,
      "outputs": []
    },
    {
      "cell_type": "markdown",
      "metadata": {
        "id": "fl6yyJJ-2Ex6"
      },
      "source": [
        "### 1.1 begin:"
      ]
    },
    {
      "cell_type": "code",
      "execution_count": null,
      "metadata": {
        "colab": {
          "base_uri": "https://localhost:8080/"
        },
        "id": "bBIR7k3ARgzY",
        "outputId": "23a67d2d-6de3-4256-94ce-eb9a1e613a5e"
      },
      "outputs": [
        {
          "name": "stdout",
          "output_type": "stream",
          "text": [
            "Help on function set_default_dtype in module torch:\n",
            "\n",
            "set_default_dtype(d)\n",
            "    Sets the default floating point dtype to :attr:`d`. Supports torch.float32\n",
            "    and torch.float64 as inputs. Other dtypes may be accepted without complaint\n",
            "    but are not supported and are unlikely to work as expected.\n",
            "    \n",
            "    When PyTorch is initialized its default floating point dtype is torch.float32,\n",
            "    and the intent of set_default_dtype(torch.float64) is to facilitate NumPy-like\n",
            "    type inference. The default floating point dtype is used to:\n",
            "    \n",
            "    1. Implicitly determine the default complex dtype. When the default floating point\n",
            "       type is float32 the default complex dtype is complex64, and when the default\n",
            "       floating point type is float64 the default complex type is complex128.\n",
            "    2. Infer the dtype for tensors constructed using Python floats or complex Python\n",
            "       numbers. See examples below.\n",
            "    3. Determine the result of type promotion between bool and integer tensors and\n",
            "       Python floats and complex Python numbers.\n",
            "    \n",
            "    Args:\n",
            "        d (:class:`torch.dtype`): the floating point dtype to make the default.\n",
            "                                  Either torch.float32 or torch.float64.\n",
            "    \n",
            "    Example:\n",
            "        >>> # xdoctest: +SKIP(\"Other tests may have changed the default type. Can we reset it?\")\n",
            "        >>> # initial default for floating point is torch.float32\n",
            "        >>> # Python floats are interpreted as float32\n",
            "        >>> torch.tensor([1.2, 3]).dtype\n",
            "        torch.float32\n",
            "        >>> # initial default for floating point is torch.complex64\n",
            "        >>> # Complex Python numbers are interpreted as complex64\n",
            "        >>> torch.tensor([1.2, 3j]).dtype\n",
            "        torch.complex64\n",
            "    \n",
            "        >>> torch.set_default_dtype(torch.float64)\n",
            "    \n",
            "        >>> # Python floats are now interpreted as float64\n",
            "        >>> torch.tensor([1.2, 3]).dtype    # a new floating point tensor\n",
            "        torch.float64\n",
            "        >>> # Complex Python numbers are now interpreted as complex128\n",
            "        >>> torch.tensor([1.2, 3j]).dtype   # a new complex tensor\n",
            "        torch.complex128\n",
            "\n"
          ]
        }
      ],
      "source": [
        "help(torch.set_default_dtype)"
      ]
    },
    {
      "cell_type": "code",
      "execution_count": null,
      "metadata": {
        "colab": {
          "base_uri": "https://localhost:8080/"
        },
        "id": "uoqv2yHBN86p",
        "outputId": "8b37234f-4a1b-45d1-e357-f2fb297cb9de"
      },
      "outputs": [
        {
          "name": "stdout",
          "output_type": "stream",
          "text": [
            "tensor([[22., 28.],\n",
            "        [49., 64.]])\n",
            "torch.float64\n",
            "<class 'torch.Tensor'>\n",
            "torch.Size([2, 3])\n"
          ]
        }
      ],
      "source": [
        "torch.set_default_dtype(torch.float64)\n",
        "\n",
        "x = torch.tensor([\n",
        "    [1, 2, 3],\n",
        "    [4, 5, 6]\n",
        "], dtype=float)\n",
        "\n",
        "y = torch.tensor([\n",
        "    [1, 2],\n",
        "    [3, 4],\n",
        "    [5, 6]\n",
        "], dtype=float)\n",
        "\n",
        "z = torch.matmul(x, y)\n",
        "print(z)\n",
        "\n",
        "print(x.dtype) ## property (getter) → def dtype(self,): return type(~).\n",
        "\n",
        "print(type(x))\n",
        "\n",
        "print(x.shape) #print(x.size())"
      ]
    },
    {
      "cell_type": "code",
      "execution_count": null,
      "metadata": {
        "id": "FIsY4MscenRD"
      },
      "outputs": [],
      "source": []
    },
    {
      "cell_type": "markdown",
      "metadata": {
        "id": "Oq3TVvMienxR"
      },
      "source": [
        "### 1.x. `arange() and linspace():`\n",
        "---"
      ]
    },
    {
      "cell_type": "code",
      "execution_count": null,
      "metadata": {
        "colab": {
          "base_uri": "https://localhost:8080/"
        },
        "id": "4MZyMuIBLml3",
        "outputId": "ed5e86f8-c92f-48b7-fd93-a6d773c9cb70"
      },
      "outputs": [
        {
          "name": "stdout",
          "output_type": "stream",
          "text": [
            "tensor([-5., -4., -3., -2., -1.,  0.,  1.,  2.,  3.,  4.,  5.])\n",
            "tensor([-5., -4., -3., -2., -1.,  0.,  1.,  2.,  3.,  4.,  5.])\n"
          ]
        }
      ],
      "source": [
        "v = torch.arange(start=-5, end=5+1, step=1.0) # step (float)\n",
        "print(v)\n",
        "\n",
        "# v = np.arange(start=-5, stop=5+1, step=1.0) # step (float)\n",
        "\n",
        "# https://pytorch.org/docs/stable/generated/torch.arange.html\n",
        "\n",
        "v = torch.linspace(start=-5, end=5, steps=11) # steps (int)\n",
        "print(v)\n",
        "# https://pytorch.org/docs/stable/generated/torch.linspace.html"
      ]
    },
    {
      "cell_type": "code",
      "execution_count": null,
      "metadata": {
        "id": "TV6f61m0MQkb"
      },
      "outputs": [],
      "source": [
        "# help(torch.linspace)"
      ]
    },
    {
      "cell_type": "code",
      "execution_count": null,
      "metadata": {
        "colab": {
          "base_uri": "https://localhost:8080/"
        },
        "id": "JqMr1jjPmY10",
        "outputId": "fb45a728-bd10-48d4-957e-7c1cdb90af8f"
      },
      "outputs": [
        {
          "name": "stdout",
          "output_type": "stream",
          "text": [
            "tensor([-1.0000e+00, -9.0000e-01, -8.0000e-01, -7.0000e-01, -6.0000e-01,\n",
            "        -5.0000e-01, -4.0000e-01, -3.0000e-01, -2.0000e-01, -1.0000e-01,\n",
            "         5.5511e-17,  1.0000e-01,  2.0000e-01,  3.0000e-01,  4.0000e-01,\n",
            "         5.0000e-01,  6.0000e-01,  7.0000e-01,  8.0000e-01,  9.0000e-01,\n",
            "         1.0000e+00])\n",
            "tensor([0.0000, 0.1000, 0.2000, 0.3000, 0.4000, 0.5000, 0.6000, 0.7000, 0.8000,\n",
            "        0.9000, 1.0000])\n"
          ]
        }
      ],
      "source": [
        "h = 0.1\n",
        "x_test = torch.arange(start=-1, end=1+h, step=h)\n",
        "print(x_test)\n",
        "\n",
        "t_test = torch.arange(start=0, end=1+h, step=h)\n",
        "print(t_test)"
      ]
    },
    {
      "cell_type": "markdown",
      "metadata": {
        "id": "fFQqZ5r51rw5"
      },
      "source": [
        "### 1.x. `ones(), zeros(), randn():`\n",
        "---\n",
        "\n"
      ]
    },
    {
      "cell_type": "code",
      "execution_count": null,
      "metadata": {
        "colab": {
          "base_uri": "https://localhost:8080/"
        },
        "id": "RR744RC_RFmj",
        "outputId": "859acc72-abc9-4808-b89a-26ebda737b19"
      },
      "outputs": [
        {
          "name": "stdout",
          "output_type": "stream",
          "text": [
            "tensor([[1., 1., 1.],\n",
            "        [1., 1., 1.]])\n",
            "tensor([1., 1.])\n"
          ]
        }
      ],
      "source": [
        "v = torch.ones(size=(2, 3)) # format-1 (allowed)\n",
        "print(v)\n",
        "# Generate \"ones\": rows (m) x columns (n)\n",
        "# --------------------------------------:\n",
        "# v = torch.ones((2, 3)) # format-2 (allowed)\n",
        "# v = torch.ones(2, 3)   # format-3 (allowed)\n",
        "# It is preferred to use \"format-1.\"\n",
        "\n",
        "\n",
        "\n",
        "\n",
        "v = torch.ones(size=(2,)) # format-1 (allowed)\n",
        "print(v)\n",
        "# Generate \"ones\": columns (n)\n",
        "# ---------------------------:\n",
        "# v = torch.ones(size=(2)) # format-2 (NOT allowed): argument 'size' must be tuple of ints, not int.\n",
        "# v = torch.ones((2,))     # format-3 (allowed)\n",
        "# v = torch.ones(2,)       # format-4 (allowed)\n",
        "# v = torch.ones(2)        # format-5 (allowed)\n",
        "# It is preferred to use \"format-1.\""
      ]
    },
    {
      "cell_type": "code",
      "execution_count": null,
      "metadata": {
        "colab": {
          "base_uri": "https://localhost:8080/"
        },
        "id": "hgkEB15Z4HdP",
        "outputId": "92b01075-14ec-4754-c531-81c30f4ac37e"
      },
      "outputs": [
        {
          "name": "stdout",
          "output_type": "stream",
          "text": [
            "tensor([[1., 1., 1.],\n",
            "        [1., 1., 1.]])\n",
            "tensor([1., 1.])\n"
          ]
        }
      ],
      "source": [
        "v = torch.ones(size=(2, 3)) # format-1 (good practice)\n",
        "print(v)\n",
        "\n",
        "v = torch.ones(size=(2,)) # format-2 (good practice)\n",
        "print(v)"
      ]
    },
    {
      "cell_type": "code",
      "execution_count": null,
      "metadata": {
        "colab": {
          "base_uri": "https://localhost:8080/"
        },
        "id": "9yqpO3Of3cnD",
        "outputId": "f48eff6f-fe2d-48e8-ab54-4fdf9046c793"
      },
      "outputs": [
        {
          "name": "stdout",
          "output_type": "stream",
          "text": [
            "tensor([[0., 0., 0.],\n",
            "        [0., 0., 0.]])\n",
            "tensor([0., 0.])\n"
          ]
        }
      ],
      "source": [
        "# Note: \"zeros\" are the exact same formats like \"ones\"\n",
        "v = torch.zeros(size=(2, 3)) # format-1 (good practice)\n",
        "print(v)\n",
        "\n",
        "v = torch.zeros(size=(2,)) # format-2 (good practice)\n",
        "print(v)"
      ]
    },
    {
      "cell_type": "code",
      "execution_count": null,
      "metadata": {
        "colab": {
          "base_uri": "https://localhost:8080/"
        },
        "id": "7PNqVnin2etU",
        "outputId": "496e4913-3e1e-4146-ef6f-b64a9c3fcd80"
      },
      "outputs": [
        {
          "name": "stdout",
          "output_type": "stream",
          "text": [
            "tensor([[ 0.1378, -0.3889,  0.5133],\n",
            "        [ 0.3319,  0.6300,  0.5815]])\n",
            "tensor([-0.0282, -0.1744])\n"
          ]
        }
      ],
      "source": [
        "# Note: \"randn\" are the exact same formats like  \"ones\" and \"zeros\".\n",
        "v = torch.randn(size=(2, 3)) # \"standard normal distribution\" with mean `0` and variance `1`.\n",
        "print(v)\n",
        "# print(sum(v))\n",
        "\n",
        "v = torch.randn(size=(2,)) # \"standard normal distribution\" with mean `0` and variance `1`.\n",
        "print(v)"
      ]
    },
    {
      "cell_type": "markdown",
      "metadata": {
        "id": "uo4Qqudg2KWf"
      },
      "source": [
        "### 1.x. make `ones_like(), zeros_like()` shaped tensors:"
      ]
    },
    {
      "cell_type": "code",
      "execution_count": null,
      "metadata": {
        "colab": {
          "base_uri": "https://localhost:8080/"
        },
        "id": "z8nJoGvktri2",
        "outputId": "3627e43a-a1ca-490e-ba20-0644a2fd9c15"
      },
      "outputs": [
        {
          "name": "stdout",
          "output_type": "stream",
          "text": [
            "tensor([[1, 1, 1],\n",
            "        [1, 1, 1]])\n",
            "tensor([[0, 0, 0],\n",
            "        [0, 0, 0]])\n"
          ]
        }
      ],
      "source": [
        "v = torch.tensor([\n",
        "    [1, 2, 3],\n",
        "    [4, 5, 6],\n",
        "])\n",
        "\n",
        "\n",
        "v = torch.ones_like(v)\n",
        "print(v)\n",
        "\n",
        "\n",
        "v = torch.zeros_like(v)\n",
        "print(v)"
      ]
    },
    {
      "cell_type": "code",
      "execution_count": null,
      "metadata": {
        "id": "Qm0PdYxP65XS"
      },
      "outputs": [],
      "source": [
        "###"
      ]
    },
    {
      "cell_type": "markdown",
      "metadata": {
        "id": "FDvtjG6s66Yw"
      },
      "source": [
        "### 1.x. Gradient:"
      ]
    },
    {
      "cell_type": "code",
      "execution_count": null,
      "metadata": {
        "colab": {
          "base_uri": "https://localhost:8080/"
        },
        "id": "rZ2SNe7kaff3",
        "outputId": "63319a23-c081-400e-cc99-5b2a16489fee"
      },
      "outputs": [
        {
          "output_type": "stream",
          "name": "stdout",
          "text": [
            "tensor([1, 2, 3])\n",
            "tensor([1., 2., 3.], dtype=torch.float64, requires_grad=True)\n",
            "tensor([1., 2., 3.], dtype=torch.float64, requires_grad=True)\n",
            "tensor([1., 2., 3.], dtype=torch.float64, requires_grad=True)\n"
          ]
        }
      ],
      "source": [
        "x = torch.tensor([1, 2, 3])\n",
        "# x.requires_grad_(True)\n",
        "print(x)\n",
        "\n",
        "# Methond-1: Requires Grad – outside tensor\n",
        "x = torch.tensor([1, 2, 3], dtype=float).requires_grad_(True)\n",
        "print(x)\n",
        "\n",
        "# Methond-2: Requires Grad – inside tensor\n",
        "x = torch.tensor([1, 2, 3], dtype=float, requires_grad=True)\n",
        "print(x)\n",
        "\n",
        "# Methond-3: Requires Grad – next-line\n",
        "x = torch.tensor([1, 2, 3], dtype=float)\n",
        "x.requires_grad = True\n",
        "print(x)\n",
        "\n",
        "# Note: However, the data type should be float (i.e., \"dtype=float\"); otherwise, gradient does not work."
      ]
    },
    {
      "cell_type": "code",
      "execution_count": null,
      "metadata": {
        "id": "O-GOCqTNxPGi"
      },
      "outputs": [],
      "source": [
        "# a = torch.tensor([2., 3.], requires_grad=True)\n",
        "# b = torch.tensor([6., 4.], requires_grad=True)\n",
        "\n",
        "# Q = (3*(a**3)) - (b**2)\n",
        "\n",
        "# external_grad = torch.tensor([1., 1.])\n",
        "# Q.backward(gradient=external_grad)\n",
        "\n",
        "# Q.backward(gradient=external_grad)"
      ]
    },
    {
      "cell_type": "code",
      "execution_count": null,
      "metadata": {
        "colab": {
          "base_uri": "https://localhost:8080/"
        },
        "id": "GYazT9iv0wSU",
        "outputId": "eff9ffb7-20c7-444f-8b44-f641534426bc"
      },
      "outputs": [
        {
          "name": "stdout",
          "output_type": "stream",
          "text": [
            "tensor([27.], dtype=torch.float64)\n",
            "tensor([54.], dtype=torch.float64)\n",
            "tensor([81.], dtype=torch.float64)\n",
            "tensor([108.], dtype=torch.float64)\n"
          ]
        }
      ],
      "source": [
        "x=torch.tensor([3.], requires_grad=True, dtype=float) # dtype=float\n",
        "y = x**3\n",
        "\n",
        "y.backward(retain_graph=True)\n",
        "print(x.grad)\n",
        "\n",
        "y.backward(retain_graph=True)\n",
        "print(x.grad)\n",
        "\n",
        "y.backward(retain_graph=True)\n",
        "print(x.grad)\n",
        "\n",
        "y.backward()\n",
        "print(x.grad)"
      ]
    },
    {
      "cell_type": "code",
      "execution_count": null,
      "metadata": {
        "colab": {
          "base_uri": "https://localhost:8080/"
        },
        "id": "-LJ_0F9k2ucR",
        "outputId": "e9d8d20a-331f-443a-ff12-91b24c8ef797"
      },
      "outputs": [
        {
          "name": "stdout",
          "output_type": "stream",
          "text": [
            "32.0\n",
            "12.0\n"
          ]
        }
      ],
      "source": [
        "a=torch.tensor([2.0,], requires_grad=True)\n",
        "b=torch.tensor([3.0,], requires_grad=True)\n",
        "\n",
        "def F(a, b):\n",
        "    return a**4.0 + 2*b**2\n",
        "#end-def\n",
        "\n",
        "y = F(a, b)\n",
        "\n",
        "F1a = torch.autograd.grad(y, a, create_graph=True)\n",
        "F1b = torch.autograd.grad(y, b, create_graph=True)\n",
        "\n",
        "print(F1a[0].item())\n",
        "print(F1b[0].item())\n",
        "\n",
        "# F2 = torch.autograd.grad(F1, x, create_graph=True)\n",
        "\n",
        "# print(F2[0].item())\n",
        "\n",
        "# F3 = torch.autograd.grad(F2, x, create_graph=True)\n",
        "\n",
        "# print(F3[0].item())\n",
        "\n",
        "# F4 = torch.autograd.grad(F3, x, create_graph=True)\n",
        "\n",
        "# print(F4[0].item())\n",
        "\n",
        "# F5 = torch.autograd.grad(F4, x, create_graph=True)\n",
        "\n",
        "# print(F5[0].item())"
      ]
    },
    {
      "cell_type": "code",
      "execution_count": null,
      "metadata": {
        "colab": {
          "base_uri": "https://localhost:8080/"
        },
        "id": "Qi2IAs2avCSw",
        "outputId": "47a0b347-e03c-4ecb-d6a9-6e7268a63d8b"
      },
      "outputs": [
        {
          "name": "stdout",
          "output_type": "stream",
          "text": [
            "tensor([  3.,  32., 135., 384., 875.], grad_fn=<AddBackward0>)\n",
            "tensor([ 10.,  56., 162., 352., 650.], grad_fn=<AddBackward0>)\n",
            "tensor([ 24.,  72., 144., 240., 360.], grad_fn=<AddBackward0>)\n",
            "tensor([ 36.,  60.,  84., 108., 132.], grad_fn=<AddBackward0>)\n",
            "tensor([24., 24., 24., 24., 24.], grad_fn=<AddBackward0>)\n",
            "tensor([0., 0., 0., 0., 0.])\n"
          ]
        }
      ],
      "source": [
        "x=torch.tensor([1.0, 2.0, 3.0, 4.0, 5.0], requires_grad=True)\n",
        "\n",
        "def F(x):\n",
        "    return (x**4.0) + (2*(x**3))\n",
        "#end-def\n",
        "\n",
        "y = F(x)\n",
        "print(y)\n",
        "\n",
        "F1 = torch.autograd.grad(y, x, torch.ones_like(y), create_graph=True)[0]\n",
        "print(F1)\n",
        "\n",
        "\n",
        "F2 = torch.autograd.grad(F1, x, torch.ones_like(F1), create_graph=True)[0]\n",
        "print(F2)\n",
        "\n",
        "\n",
        "F3 = torch.autograd.grad(F2, x, torch.ones_like(F2), create_graph=True)[0]\n",
        "print(F3)\n",
        "\n",
        "\n",
        "F4 = torch.autograd.grad(F3, x, torch.ones_like(F3), create_graph=True)[0]\n",
        "print(F4)\n",
        "\n",
        "\n",
        "F5 = torch.autograd.grad(F4, x, torch.ones_like(F4), create_graph=True)[0]\n",
        "print(F5)"
      ]
    },
    {
      "cell_type": "code",
      "execution_count": null,
      "metadata": {
        "colab": {
          "base_uri": "https://localhost:8080/"
        },
        "id": "rFcvsnEewemC",
        "outputId": "e7042c28-c300-49c2-9d45-b66fcad618aa"
      },
      "outputs": [
        {
          "name": "stdout",
          "output_type": "stream",
          "text": [
            "tensor([1., 2., 3., 4., 5.], requires_grad=True)\n",
            "tensor([1., 1., 1., 1., 1.])\n"
          ]
        }
      ],
      "source": [
        "x=torch.tensor([1.0, 2.0, 3.0, 4.0, 5.0], requires_grad=True)\n",
        "\n",
        "def F(x):\n",
        "    return (x)\n",
        "#end-def\n",
        "\n",
        "y = F(x)\n",
        "print(y)\n",
        "\n",
        "F1 = torch.autograd.grad(y, x, torch.ones_like(y), create_graph=True)[0]\n",
        "print(F1)"
      ]
    },
    {
      "cell_type": "code",
      "execution_count": null,
      "metadata": {
        "colab": {
          "base_uri": "https://localhost:8080/"
        },
        "id": "nlu7FsP21p7g",
        "outputId": "9a355d6e-a3fe-40e3-9620-8547927f7c32"
      },
      "outputs": [
        {
          "name": "stdout",
          "output_type": "stream",
          "text": [
            "tensor([-1.0000e+00, -9.0000e-01, -8.0000e-01, -7.0000e-01, -6.0000e-01,\n",
            "        -5.0000e-01, -4.0000e-01, -3.0000e-01, -2.0000e-01, -1.0000e-01,\n",
            "        -2.9802e-09,  1.0000e-01,  2.0000e-01,  3.0000e-01,  4.0000e-01,\n",
            "         5.0000e-01,  6.0000e-01,  7.0000e-01,  8.0000e-01,  9.0000e-01,\n",
            "         1.0000e+00])\n",
            "tensor([0.0000, 0.1000, 0.2000, 0.3000, 0.4000, 0.5000, 0.6000, 0.7000, 0.8000,\n",
            "        0.9000, 1.0000])\n"
          ]
        }
      ],
      "source": []
    },
    {
      "cell_type": "code",
      "execution_count": null,
      "metadata": {
        "id": "5wY5ov-M1sM-"
      },
      "outputs": [],
      "source": [
        "# help(torch.arange)"
      ]
    },
    {
      "cell_type": "markdown",
      "metadata": {
        "id": "NFD9Vtgym7Ir"
      },
      "source": [
        "### 1.x. `vstack() and hstack()`"
      ]
    },
    {
      "cell_type": "code",
      "execution_count": null,
      "metadata": {
        "colab": {
          "base_uri": "https://localhost:8080/"
        },
        "id": "ddLGfWE91wQO",
        "outputId": "a6691d1d-b63b-471d-fbf7-1f574fccc88a"
      },
      "outputs": [
        {
          "name": "stdout",
          "output_type": "stream",
          "text": [
            "tensor([[1, 2, 3],\n",
            "        [4, 5, 6]])\n",
            "tensor([[1],\n",
            "        [2],\n",
            "        [3],\n",
            "        [4],\n",
            "        [5],\n",
            "        [6]])\n"
          ]
        }
      ],
      "source": [
        "# https://pytorch.org/docs/stable/generated/torch.vstack.html\n",
        "\n",
        "a = torch.tensor([1, 2, 3])\n",
        "b = torch.tensor([4, 5, 6])\n",
        "\n",
        "v = torch.vstack((a,b))\n",
        "print(v)\n",
        "\n",
        "a = torch.tensor([[1],[2],[3]])\n",
        "b = torch.tensor([[4],[5],[6]])\n",
        "\n",
        "v = torch.vstack((a,b))\n",
        "print(v)"
      ]
    },
    {
      "cell_type": "code",
      "execution_count": null,
      "metadata": {
        "colab": {
          "base_uri": "https://localhost:8080/"
        },
        "id": "1serijub1HNO",
        "outputId": "1adeb1eb-bc06-4dba-9965-f3eb8fd99c5a"
      },
      "outputs": [
        {
          "name": "stdout",
          "output_type": "stream",
          "text": [
            "tensor([1, 2, 3, 4, 5, 6])\n",
            "tensor([[1, 4],\n",
            "        [2, 5],\n",
            "        [3, 6]])\n"
          ]
        }
      ],
      "source": [
        "# https://pytorch.org/docs/stable/generated/torch.hstack.html\n",
        "\n",
        "a = torch.tensor([1, 2, 3])\n",
        "b = torch.tensor([4, 5, 6])\n",
        "\n",
        "v = torch.hstack((a,b))\n",
        "print(v)\n",
        "\n",
        "a = torch.tensor([[1],[2],[3]])\n",
        "b = torch.tensor([[4],[5],[6]])\n",
        "\n",
        "v = torch.hstack((a,b))\n",
        "print(v)"
      ]
    },
    {
      "cell_type": "code",
      "execution_count": null,
      "metadata": {
        "colab": {
          "base_uri": "https://localhost:8080/"
        },
        "id": "XIvXh6HO00VH",
        "outputId": "fc747474-b58b-45f0-b3ba-d370d3a529ac"
      },
      "outputs": [
        {
          "name": "stdout",
          "output_type": "stream",
          "text": [
            "tensor([[1, 2, 3],\n",
            "        [4, 5, 6]])\n",
            "tensor([[1, 4],\n",
            "        [2, 5],\n",
            "        [3, 6]])\n"
          ]
        }
      ],
      "source": [
        "a = torch.tensor([1, 2, 3])\n",
        "b = torch.tensor([4, 5, 6])\n",
        "\n",
        "v = torch.stack((a,b), dim=0) #vertical-stack\n",
        "print(v)\n",
        "\n",
        "v = torch.stack((a,b), dim=1) #right-90°\n",
        "print(v)"
      ]
    },
    {
      "cell_type": "markdown",
      "metadata": {
        "id": "Rt2ARKMF7NY3"
      },
      "source": []
    },
    {
      "cell_type": "code",
      "execution_count": null,
      "metadata": {
        "colab": {
          "base_uri": "https://localhost:8080/"
        },
        "id": "qwzjboNj2Z4t",
        "outputId": "a3d35146-2d92-44d8-e540-ee6eb0f105a0"
      },
      "outputs": [
        {
          "name": "stdout",
          "output_type": "stream",
          "text": [
            "Help on built-in function stack in module torch:\n",
            "\n",
            "stack(...)\n",
            "    stack(tensors, dim=0, *, out=None) -> Tensor\n",
            "    \n",
            "    Concatenates a sequence of tensors along a new dimension.\n",
            "    \n",
            "    All tensors need to be of the same size.\n",
            "    \n",
            "    .. seealso::\n",
            "    \n",
            "        :func:`torch.cat` concatenates the given sequence along an existing dimension.\n",
            "    \n",
            "    Arguments:\n",
            "        tensors (sequence of Tensors): sequence of tensors to concatenate\n",
            "        dim (int): dimension to insert. Has to be between 0 and the number\n",
            "            of dimensions of concatenated tensors (inclusive)\n",
            "    \n",
            "    Keyword args:\n",
            "        out (Tensor, optional): the output tensor.\n",
            "\n"
          ]
        }
      ],
      "source": [
        "help(torch.stack)"
      ]
    },
    {
      "cell_type": "code",
      "execution_count": null,
      "metadata": {
        "id": "qYzVeXeC7Q9Q"
      },
      "outputs": [],
      "source": []
    },
    {
      "cell_type": "markdown",
      "metadata": {
        "id": "am0__fQI7Raw"
      },
      "source": [
        "### 1.x: `squeeze(), unsqueeze():`\n",
        "---\n",
        "\n",
        "*   squeeze: https://pytorch.org/docs/stable/generated/torch.squeeze.html\n",
        "*   unsqueeze: https://pytorch.org/docs/stable/generated/torch.unsqueeze.html\n",
        "---\n",
        "\n"
      ]
    },
    {
      "cell_type": "code",
      "execution_count": null,
      "metadata": {
        "colab": {
          "base_uri": "https://localhost:8080/"
        },
        "id": "HeRPY1RL7Z4v",
        "outputId": "4e68c3d2-d282-4d4a-c1e2-ee2d77aa0702"
      },
      "outputs": [
        {
          "name": "stdout",
          "output_type": "stream",
          "text": [
            "tensor([[1],\n",
            "        [2],\n",
            "        [3],\n",
            "        [4],\n",
            "        [5]])\n",
            "tensor([[1],\n",
            "        [2],\n",
            "        [3],\n",
            "        [4],\n",
            "        [5]])\n"
          ]
        }
      ],
      "source": [
        "# v = torch.tensor([\n",
        "#     [1, 2, 3],\n",
        "#     [4, 5, 6]\n",
        "# ])\n",
        "\n",
        "v = torch.tensor([\n",
        "    [1],\n",
        "    [2],\n",
        "    [3],\n",
        "    [4],\n",
        "    [5],\n",
        "])\n",
        "\n",
        "print(v)\n",
        "\n",
        "v = v.squeeze(dim=0)\n",
        "print(v)"
      ]
    },
    {
      "cell_type": "markdown",
      "metadata": {
        "id": "oIEYCM2Q7Gxw"
      },
      "source": [
        "### Miscellaneous:"
      ]
    },
    {
      "cell_type": "code",
      "execution_count": null,
      "metadata": {
        "colab": {
          "base_uri": "https://localhost:8080/"
        },
        "id": "pbDfps6w2bb_",
        "outputId": "88f24e05-1fd7-4381-ec92-b0943e38bf4d"
      },
      "outputs": [
        {
          "name": "stdout",
          "output_type": "stream",
          "text": [
            "tensor(4.0000, requires_grad=True)\n",
            "tensor(5.0000, requires_grad=True)\n",
            "tensor(4.0000, requires_grad=True)\n",
            "tensor(3.0000, requires_grad=True)\n"
          ]
        }
      ],
      "source": [
        "A = torch.tensor(1.0, requires_grad=True)\n",
        "B = torch.tensor(2.0, requires_grad=True)\n",
        "C = torch.tensor(3.0, requires_grad=True)\n",
        "D = torch.tensor(4.0, requires_grad=True)\n",
        "\n",
        "epochs = 2000\n",
        "optimizer = torch.optim.NAdam([A, B, C, D], lr=0.01)\n",
        "\n",
        "for _ in range(epochs):\n",
        "    y1 = A + B - 9\n",
        "    y2 = C - D - 1\n",
        "    y3 = A + C - 8\n",
        "    y4 = B - D - 2\n",
        "\n",
        "    sqerr = y1*y1 + y2*y2 + y3*y3 + y4*y4\n",
        "\n",
        "    optimizer.zero_grad()\n",
        "    sqerr.backward()\n",
        "    optimizer.step()\n",
        "#end-for\n",
        "\n",
        "print(A)\n",
        "print(B)\n",
        "print(C)\n",
        "print(D)"
      ]
    },
    {
      "cell_type": "code",
      "execution_count": null,
      "metadata": {
        "colab": {
          "base_uri": "https://localhost:8080/"
        },
        "id": "53JoH-5ZevLw",
        "outputId": "0b94627e-bd6b-4aa6-b735-205442f098f2"
      },
      "outputs": [
        {
          "data": {
            "text/plain": [
              "tensor(0.6889)"
            ]
          },
          "execution_count": 23,
          "metadata": {},
          "output_type": "execute_result"
        }
      ],
      "source": [
        "torch.randn(size=(1,)).squeeze()"
      ]
    },
    {
      "cell_type": "code",
      "execution_count": null,
      "metadata": {
        "colab": {
          "base_uri": "https://localhost:8080/"
        },
        "id": "hUMg3Mcrd4Zu",
        "outputId": "a3040c6f-ae08-466b-c336-17b0474ba38f"
      },
      "outputs": [
        {
          "data": {
            "text/plain": [
              "array(-0.18211348)"
            ]
          },
          "execution_count": 28,
          "metadata": {},
          "output_type": "execute_result"
        }
      ],
      "source": [
        "np.random.randn(1,).squeeze()"
      ]
    },
    {
      "cell_type": "code",
      "execution_count": null,
      "metadata": {
        "colab": {
          "base_uri": "https://localhost:8080/",
          "height": 193
        },
        "id": "MhpGuGFudQi9",
        "outputId": "3551b7d6-d163-4469-be53-75d7aa4a29b9"
      },
      "outputs": [
        {
          "ename": "AttributeError",
          "evalue": "ignored",
          "output_type": "error",
          "traceback": [
            "\u001b[0;31m---------------------------------------------------------------------------\u001b[0m",
            "\u001b[0;31mAttributeError\u001b[0m                            Traceback (most recent call last)",
            "\u001b[0;32m<ipython-input-30-9b38fc219cbe>\u001b[0m in \u001b[0;36m<cell line: 2>\u001b[0;34m()\u001b[0m\n\u001b[1;32m      1\u001b[0m \u001b[0;32mimport\u001b[0m \u001b[0mrandom\u001b[0m\u001b[0;34m\u001b[0m\u001b[0;34m\u001b[0m\u001b[0m\n\u001b[0;32m----> 2\u001b[0;31m \u001b[0mrandom\u001b[0m\u001b[0;34m.\u001b[0m\u001b[0mrand\u001b[0m\u001b[0;34m(\u001b[0m\u001b[0;34m)\u001b[0m\u001b[0;34m\u001b[0m\u001b[0;34m\u001b[0m\u001b[0m\n\u001b[0m",
            "\u001b[0;31mAttributeError\u001b[0m: module 'random' has no attribute 'rand'"
          ]
        }
      ],
      "source": [
        "import random\n",
        "random.rand()"
      ]
    },
    {
      "cell_type": "code",
      "execution_count": null,
      "metadata": {
        "colab": {
          "background_save": true,
          "base_uri": "https://localhost:8080/"
        },
        "id": "qIO3Rz5Fff0o",
        "outputId": "b706ef44-cf22-4a96-cc83-190e88eb4a04"
      },
      "outputs": [
        {
          "name": "stdout",
          "output_type": "stream",
          "text": [
            "tensor([[ 1,  2,  3],\n",
            "        [ 4, 50,  6]])\n",
            "tensor([[ 1,  2,  3],\n",
            "        [ 4, 50,  6]])\n"
          ]
        }
      ],
      "source": [
        "a = torch.tensor([\n",
        "    [1, 2, 3],\n",
        "    [4, 5, 6]\n",
        "])\n",
        "\n",
        "a[1,1]=50\n",
        "\n",
        "print(a)\n",
        "\n",
        "b = a\n",
        "\n",
        "print(b)"
      ]
    },
    {
      "cell_type": "code",
      "execution_count": null,
      "metadata": {
        "colab": {
          "base_uri": "https://localhost:8080/",
          "height": 141
        },
        "id": "hPM6NVgnVDgd",
        "outputId": "8f090aea-6c65-4032-b86a-3d9e046aaeac"
      },
      "outputs": [
        {
          "ename": "IndentationError",
          "evalue": "ignored",
          "output_type": "error",
          "traceback": [
            "\u001b[0;36m  File \u001b[0;32m\"<tokenize>\"\u001b[0;36m, line \u001b[0;32m6\u001b[0m\n\u001b[0;31m    y_pred = self.model(self.X_train)\u001b[0m\n\u001b[0m    ^\u001b[0m\n\u001b[0;31mIndentationError\u001b[0m\u001b[0;31m:\u001b[0m unindent does not match any outer indentation level\n"
          ]
        }
      ],
      "source": [
        " def loss_function(self,):\n",
        " \t#zero the parameter gradients:\n",
        "\toptimizer.zero_grad()\n",
        "\n",
        "\t#forward pass:\n",
        "    y_pred = self.model(self.X_train)\n",
        "    loss = criterion(y_pred, y_train)\n",
        "\n",
        "    #backward pass and optimize:\n",
        "\tloss.backward()\n",
        "    optimizer.step()\n",
        "#end-def"
      ]
    },
    {
      "cell_type": "code",
      "execution_count": null,
      "metadata": {
        "colab": {
          "base_uri": "https://localhost:8080/"
        },
        "id": "caHsRmviVFZD",
        "outputId": "3c97253f-d1f2-4bcd-c7e2-c9557a537d83"
      },
      "outputs": [
        {
          "name": "stdout",
          "output_type": "stream",
          "text": [
            "1.0\n",
            "[1.0]\n"
          ]
        }
      ],
      "source": [
        "v = torch.tensor([1.0])\n",
        "print(v.item())\n",
        "print(v.tolist())\n",
        "\n",
        "# https://pytorch.org/docs/stable/generated/torch.Tensor.item.html\n",
        "# https://pytorch.org/docs/stable/generated/torch.Tensor.tolist.html#torch.Tensor.tolist"
      ]
    },
    {
      "cell_type": "code",
      "execution_count": null,
      "metadata": {
        "colab": {
          "base_uri": "https://localhost:8080/"
        },
        "id": "5WamjTZRJWKZ",
        "outputId": "c1cfeeed-8c28-4ff0-ffb1-ba5a9a9cf596"
      },
      "outputs": [
        {
          "name": "stdout",
          "output_type": "stream",
          "text": [
            "[[1. 2. 3.]\n",
            " [4. 5. 6.]]\n",
            "tensor([[1., 2., 3.],\n",
            "        [4., 5., 6.]], dtype=torch.float64)\n"
          ]
        }
      ],
      "source": [
        "import numpy as np\n",
        "v = np.array([\n",
        "    [1, 2, 3],\n",
        "    [4, 5, 6],\n",
        "], dtype=float)\n",
        "\n",
        "print(v)\n",
        "v = torch.tensor(v)\n",
        "print(v)"
      ]
    },
    {
      "cell_type": "code",
      "execution_count": null,
      "metadata": {
        "id": "awp28yTQLaJy"
      },
      "outputs": [],
      "source": []
    }
  ],
  "metadata": {
    "colab": {
      "provenance": [],
      "authorship_tag": "ABX9TyMyLLTMzjRzy1aVWpoMLgOt",
      "include_colab_link": true
    },
    "kernelspec": {
      "display_name": "Python 3",
      "name": "python3"
    },
    "language_info": {
      "name": "python"
    }
  },
  "nbformat": 4,
  "nbformat_minor": 0
}