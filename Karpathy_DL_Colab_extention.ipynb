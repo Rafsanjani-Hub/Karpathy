{
 "cells": [
  {
   "cell_type": "code",
   "execution_count": 1,
   "metadata": {},
   "outputs": [],
   "source": [
    "# import torch\n",
    "# import torch.nn as nn\n",
    "# print(f'PyTorch Version: {torch.__version__}.')\n",
    "\n",
    "import numpy as np\n",
    "from matplotlib import pyplot as plt\n",
    "\n",
    "from graphviz import Digraph # pip install graphviz\n",
    "\n",
    "# torch.manual_seed(1337)\n",
    "np.random.seed(1337)"
   ]
  },
  {
   "cell_type": "markdown",
   "metadata": {},
   "source": [
    "# class: Value"
   ]
  },
  {
   "cell_type": "code",
   "execution_count": 2,
   "metadata": {},
   "outputs": [],
   "source": [
    "class Value:\n",
    "    def __init__(self, data, _children=(), _op='', label='') -> None:\n",
    "        self.data = data\n",
    "        self.grad = 0.0 # no effect\n",
    "        self.label = label\n",
    "\n",
    "        self._backward = lambda: None # \"_backward\" stores/caches a function.\n",
    "        self._prev = set(_children)\n",
    "        self._op = _op\n",
    "    #end-def\n",
    "\n",
    "    def __repr__(self) -> str:\n",
    "        return f'Value(data={self.data}, grad={self.grad}, label={self.label})'\n",
    "    #end-def\n",
    "\n",
    "    def __add__(self, other: object):\n",
    "\n",
    "        other = other if isinstance(other, Value) else Value(other)\n",
    "\n",
    "        output = Value(self.data + other.data, (self, other), '+')\n",
    "\n",
    "        def backward():\n",
    "            self.grad  += 1.0 * output.grad\n",
    "            other.grad += 1.0 * output.grad\n",
    "            # print('inside: __add__')\n",
    "        #end-def\n",
    "        output._backward = backward\n",
    "        '''\n",
    "        Let's consider,\n",
    "        (a) \"backward()\" is function and \"_backward\" is a variable [class: Value, object: output].\n",
    "        (b) If we would like to cache the function, we could write \"output._backward = backward\" as expression.\n",
    "        (c) However, we could not write \"output._backward = backward()\" as expression\n",
    "            because it will automatically call everytime.\n",
    "        (d) It is a technique to store/cache a function so that we could use when it is required.\n",
    "        '''\n",
    "\n",
    "        return output\n",
    "    #end-def\n",
    "\n",
    "    def __radd__(self, other: object):\n",
    "        return self + other\n",
    "    #end-def\n",
    "\n",
    "    def __mul__(self, other: object):\n",
    "\n",
    "        other = other if isinstance(other, Value) else Value(other)\n",
    "\n",
    "        output = Value(self.data * other.data, (self, other), '*')\n",
    "\n",
    "        def backward():\n",
    "            self.grad  += other.data * output.grad\n",
    "            other.grad += self.data * output.grad\n",
    "            # print('inside: __mul__')\n",
    "        #end-def\n",
    "        output._backward = backward\n",
    "\n",
    "        return output\n",
    "    #end-def\n",
    "\n",
    "    def __rmul__(self, other: object): # other * self\n",
    "        return self * other\n",
    "    #end-def\n",
    "\n",
    "    def __sub__(self, other): # self - other\n",
    "        return self + (-other)\n",
    "    #end-def\n",
    "\n",
    "    def __rsub__(self, other): # other - self\n",
    "        return other + (-self)\n",
    "    #end-def\n",
    "\n",
    "    def __neg__(self):\n",
    "        return self * -1.0\n",
    "    #end-def\n",
    "\n",
    "    def __truediv__(self, other): #self/other\n",
    "        return self * (other ** -1)\n",
    "    #end-def\n",
    "\n",
    "    def __rtruediv__(self, other): # other/self\n",
    "        return other * (self ** -1)\n",
    "    #end-def\n",
    "\n",
    "    def __pow__(self, other: object):\n",
    "        '''\n",
    "        # function call: a.pow(3)\n",
    "        self  ← a # \"self\"  represents \"a\" object of class:Value.\n",
    "        other ← 3 # \"other\" represents \"3\"\n",
    "        '''\n",
    "\n",
    "        # __o = __o if isinstance(__o, Value) else Value(__o)\n",
    "\n",
    "        assert isinstance(other, (int, float)), f'The tool accepts \"integer\" and \"float\" as exponent value.'\n",
    "\n",
    "        output = Value(self.data ** other, (self,), f'pow ({self.data}^{other})')\n",
    "\n",
    "        def backward():\n",
    "            self.grad += (other * (self.data ** (other - 1.0))) * output.grad\n",
    "        #end-def\n",
    "        output._backward = backward\n",
    "\n",
    "        return output\n",
    "    #end-def\n",
    "\n",
    "    def exp(self):\n",
    "        o = np.exp(self.data)\n",
    "\n",
    "        output = Value(np.exp(self.data), (self,), 'exp')\n",
    "\n",
    "        def backward():\n",
    "            self.grad += o * output.grad # output.data * output.grad --> local derivative x chain rule.\n",
    "        #end-def\n",
    "        output._backward = backward\n",
    "\n",
    "        return output\n",
    "    #end-def\n",
    "\n",
    "    # Activation Functions — non-linear functions:\n",
    "    def tanh(self):\n",
    "        x = self.data\n",
    "\n",
    "        # o = (np.exp(2.0 * x) - 1.0) / (np.exp(2.0 * x) + 1.0)\n",
    "        o = np.tanh(x)\n",
    "\n",
    "        output = Value(o, (self,), 'tanh')\n",
    "\n",
    "        def backward():\n",
    "            self.grad += (1.0-(output.data**2.0)) * output.grad\n",
    "        #end-def\n",
    "        output._backward = backward\n",
    "\n",
    "        return output\n",
    "    #end-def\n",
    "\n",
    "    def sigmoid(self):\n",
    "        x = self.data\n",
    "\n",
    "        o = 1.0 / (1.0 + np.exp(-x))\n",
    "        # o = np.tanh(x)\n",
    "\n",
    "        output = Value(o, (self,), 'sigmoid')\n",
    "\n",
    "        def backward():\n",
    "            self.grad += o * (1.0-o) * output.grad\n",
    "        #end-def\n",
    "        output._backward = backward\n",
    "\n",
    "        return output\n",
    "    #end-def\n",
    "\n",
    "    # def softmax(self):\n",
    "    #     pass\n",
    "    # #end-def\n",
    "\n",
    "    def log(self):\n",
    "        x = self.data\n",
    "        output = Value(np.log(x), (self,), 'log')\n",
    "\n",
    "        def backward():\n",
    "            self.grad += (1.0 / x) * output.grad\n",
    "        #end-def\n",
    "        output._backward = backward\n",
    "\n",
    "        return output\n",
    "    #end-def\n",
    "\n",
    "\n",
    "    def relu(self,):\n",
    "        x = self.data\n",
    "\n",
    "        output = Value(x if x>0.0 else 0.0, (self,), 'ReLU')\n",
    "\n",
    "        def backward():\n",
    "            self.grad += (1.0 if x>0.0 else 0.0) * output.grad\n",
    "        #end-def\n",
    "        output._backward = backward\n",
    "\n",
    "        return output\n",
    "    #end-def\n",
    "\n",
    "    def maximum(self, other: object):\n",
    "        x = self.data\n",
    "        y = other.data\n",
    "\n",
    "        print(f'self: {self.data}, other: {other.data}')\n",
    "\n",
    "        output = Value(max(x, y), (self, other), f'max({self.data}, {other.data})')\n",
    "\n",
    "        def backward():\n",
    "            '''\n",
    "            Reference: https://cs231n.github.io/optimization-2/\n",
    "            '''\n",
    "            self.grad  += (1.0 if x>=y else 0.0) * output.grad\n",
    "            other.grad += (1.0 if y>=x else 0.0) * output.grad\n",
    "        #end-def\n",
    "        output._backward = backward\n",
    "        return output\n",
    "\n",
    "        # def backward():\n",
    "        #     if x>=y:_\n",
    "        #         self.grad  += 1.0 * output.grad\n",
    "        #         other.grad += 0.0 * output.grad\n",
    "        #     else:\n",
    "        #         self.grad  += 0.0 * output.grad\n",
    "        #         other.grad += 1.0 * output.grad\n",
    "        # #end-def\n",
    "        # output._backward = backward\n",
    "        # return output\n",
    "    #end-def\n",
    "\n",
    "    def minimum(self, other: object):\n",
    "        x = self.data\n",
    "        y = other.data\n",
    "\n",
    "        print(f'self: {self.data}, other: {other.data}')\n",
    "\n",
    "        output = Value(min(x, y), (self, other), f'min({self.data}, {other.data})')\n",
    "\n",
    "        def backward():\n",
    "            '''\n",
    "            Reference: https://cs231n.github.io/optimization-2/\n",
    "            '''\n",
    "            self.grad  += (1.0 if y>=x else 0.0) * output.grad\n",
    "            other.grad += (1.0 if x>=y else 0.0) * output.grad\n",
    "        #end-def\n",
    "        output._backward = backward\n",
    "        return output\n",
    "    #end-def\n",
    "\n",
    "    def reciprocal(self):\n",
    "        x = self.data\n",
    "        output = Value(1.0/x, (self,), 'reciprocal (i.e., 1/x)')\n",
    "        def backward():\n",
    "            self.grad = -(1/(x**2.0)) * output.grad\n",
    "        #end-def\n",
    "        output._backward = backward\n",
    "        return output\n",
    "    #end-def\n",
    "\n",
    "    #Differential Calculus:\n",
    "    def backward(self):\n",
    "        '''\n",
    "        self = o\n",
    "        \"self\" indecates \"o\"\n",
    "        '''\n",
    "\n",
    "        topo = []\n",
    "        visited = set()\n",
    "\n",
    "        def build_topology(v):\n",
    "            # print('works!')\n",
    "            if v not in visited:\n",
    "                visited.add(v)\n",
    "                for child in v._prev:\n",
    "                    build_topology(child)\n",
    "                #end-for\n",
    "                topo.append(v)\n",
    "            #end-if/else\n",
    "        #end-def\n",
    "        build_topology(self)\n",
    "        # print(topo)\n",
    "\n",
    "        self.grad = 1.0     # ∂(o)/∂o = 1\n",
    "        for node in reversed(topo):\n",
    "            # print(node._backward())\n",
    "            node._backward()\n",
    "        #end-for\n",
    "    #end-def\n",
    "#end-class"
   ]
  },
  {
   "cell_type": "code",
   "execution_count": 3,
   "metadata": {},
   "outputs": [],
   "source": [
    "'''\n",
    "@program: Topological Sort\n",
    "@author : Andrej Karpathy\n",
    "@date   : God knows.\n",
    "'''\n",
    "\n",
    "def trace(root):\n",
    "    # builds a set of all nodes and edges in a graph\n",
    "    nodes, edges = set(), set()\n",
    "    def build(v):\n",
    "        if v not in nodes:\n",
    "            nodes.add(v)\n",
    "            for child in v._prev:\n",
    "                edges.add((child, v))\n",
    "                build(child)\n",
    "            #end-for\n",
    "        #end-if/else\n",
    "    #end-def\n",
    "    build(root)\n",
    "    return nodes, edges\n",
    "#end-def\n",
    "\n",
    "\n",
    "def draw_dot(root):\n",
    "    dot = Digraph(format='svg', graph_attr={'rankdir': 'LR'}) # LR = left to right\n",
    "\n",
    "    nodes, edges = trace(root)\n",
    "    for n in nodes:\n",
    "        uid = str(id(n))\n",
    "        # for any value in the graph, create a rectangular ('record') node for it\n",
    "        # dot.node(f'name {uid}, label = {n.label} | data = {n.data:.4f} | grad = {n.grad:.4f}', shape='record')\n",
    "        dot.node(name = uid, label = \"{%s | data = %.4f | grad = %.8f}\" % (n.label, n.data, n.grad), shape='record')\n",
    "        if n._op:\n",
    "            # if this value is a result of some operation, create an op node for it\n",
    "            dot.node(name = uid + n._op, label = n._op)\n",
    "            # and connect this node to it\n",
    "            dot.edge(uid + n._op, uid)\n",
    "        #end-else/if\n",
    "    #end-for\n",
    "\n",
    "    for n1, n2 in edges:\n",
    "        # connect n1 to the op node of n2\n",
    "        dot.edge(str(id(n1)), str(id(n2)) + n2._op)\n",
    "    #end-for\n",
    "\n",
    "    return dot\n",
    "#end-def"
   ]
  },
  {
   "cell_type": "markdown",
   "metadata": {},
   "source": [
    "# Exercise after completing the MicroGrad:"
   ]
  },
  {
   "cell_type": "code",
   "execution_count": 59,
   "metadata": {},
   "outputs": [
    {
     "name": "stdout",
     "output_type": "stream",
     "text": [
      "[Value(data=0.0, grad=0.0, label=), Value(data=3.0, grad=0.0, label=), Value(data=-2.0, grad=0.0, label=), Value(data=1.0, grad=0.0, label=)]\n",
      "[Value(data=1.0, grad=0.0, label=), Value(data=20.085536923187668, grad=0.0, label=), Value(data=0.1353352832366127, grad=0.0, label=), Value(data=2.718281828459045, grad=0.0, label=)]\n",
      "Value(data=23.939154034883327, grad=0.0, label=)\n"
     ]
    }
   ],
   "source": [
    "logits = [Value(0.0), Value(3.0), Value(-2.0), Value(1.0)]\n",
    "\n",
    "print(logits)\n",
    "\n",
    "# print(max(outputs))\n",
    "# print(sum(outputs.data))\n",
    "\n",
    "counts = [logit.exp() for logit in logits]\n",
    "print(counts)\n",
    "\n",
    "print(sum(counts))\n",
    "# print(max(counts))\n",
    "\n",
    "# denominator = sum(counts)\n",
    "# print(denominator)"
   ]
  },
  {
   "cell_type": "code",
   "execution_count": 165,
   "metadata": {},
   "outputs": [
    {
     "name": "stdout",
     "output_type": "stream",
     "text": [
      "[Value(data=0.04177257051535045, grad=0.0, label=), Value(data=0.839024507462532, grad=0.0, label=), Value(data=0.00565330266221633, grad=0.0, label=), Value(data=0.11354961935990122, grad=0.0, label=)]\n",
      "Value(data=2.1755153626167147, grad=0.0, label=)\n"
     ]
    }
   ],
   "source": [
    "# https://en.wikipedia.org/wiki/Softmax_function\n",
    "\n",
    "def softmax(logits):\n",
    "    counts = [logit.exp() for logit in logits]\n",
    "    summation = sum(counts)\n",
    "    return [count/summation for count in counts]\n",
    "#end-for\n",
    "    # return counts\n",
    "    # # print(counts)\n",
    "    # denominator = sum(counts)\n",
    "    # print(denominator)\n",
    "    # # print('---')\n",
    "    # out = [c / denominator for c in counts]\n",
    "    # return out\n",
    "\n",
    "# this is the negative log likelihood loss function, pervasive in classification\n",
    "logits = [Value(0.0), Value(3.0), Value(-2.0), Value(1.0)]\n",
    "probs = softmax(logits)\n",
    "# # print(probs)\n",
    "print(probs)\n",
    "loss = -probs[3].log() # dim 3 acts as the label for this input example\n",
    "print(loss)\n",
    "loss.backward()\n",
    "# print(loss.data)"
   ]
  },
  {
   "cell_type": "code",
   "execution_count": 166,
   "metadata": {},
   "outputs": [
    {
     "data": {
      "image/svg+xml": [
       "<?xml version=\"1.0\" encoding=\"UTF-8\" standalone=\"no\"?>\n",
       "<!DOCTYPE svg PUBLIC \"-//W3C//DTD SVG 1.1//EN\"\n",
       " \"http://www.w3.org/Graphics/SVG/1.1/DTD/svg11.dtd\">\n",
       "<!-- Generated by graphviz version 2.43.0 (0)\n",
       " -->\n",
       "<!-- Title: %3 Pages: 1 -->\n",
       "<svg width=\"4432pt\" height=\"296pt\"\n",
       " viewBox=\"0.00 0.00 4431.55 296.00\" xmlns=\"http://www.w3.org/2000/svg\" xmlns:xlink=\"http://www.w3.org/1999/xlink\">\n",
       "<g id=\"graph0\" class=\"graph\" transform=\"scale(1 1) rotate(0) translate(4 292)\">\n",
       "<title>%3</title>\n",
       "<polygon fill=\"white\" stroke=\"transparent\" points=\"-4,4 -4,-292 4427.55,-292 4427.55,4 -4,4\"/>\n",
       "<!-- 130680728080384 -->\n",
       "<g id=\"node1\" class=\"node\">\n",
       "<title>130680728080384</title>\n",
       "<polygon fill=\"none\" stroke=\"black\" points=\"422.6,-0.5 422.6,-36.5 718.6,-36.5 718.6,-0.5 422.6,-0.5\"/>\n",
       "<text text-anchor=\"middle\" x=\"433.1\" y=\"-14.8\" font-family=\"Times,serif\" font-size=\"14.00\"> </text>\n",
       "<polyline fill=\"none\" stroke=\"black\" points=\"443.6,-0.5 443.6,-36.5 \"/>\n",
       "<text text-anchor=\"middle\" x=\"503.1\" y=\"-14.8\" font-family=\"Times,serif\" font-size=\"14.00\">data = 1.0000</text>\n",
       "<polyline fill=\"none\" stroke=\"black\" points=\"562.6,-0.5 562.6,-36.5 \"/>\n",
       "<text text-anchor=\"middle\" x=\"640.6\" y=\"-14.8\" font-family=\"Times,serif\" font-size=\"14.00\">grad = 0.04177257</text>\n",
       "</g>\n",
       "<!-- 130680728092576+ -->\n",
       "<g id=\"node4\" class=\"node\">\n",
       "<title>130680728092576+</title>\n",
       "<ellipse fill=\"none\" stroke=\"black\" cx=\"781.89\" cy=\"-73.5\" rx=\"27\" ry=\"18\"/>\n",
       "<text text-anchor=\"middle\" x=\"781.89\" y=\"-69.8\" font-family=\"Times,serif\" font-size=\"14.00\">+</text>\n",
       "</g>\n",
       "<!-- 130680728080384&#45;&gt;130680728092576+ -->\n",
       "<g id=\"edge21\" class=\"edge\">\n",
       "<title>130680728080384&#45;&gt;130680728092576+</title>\n",
       "<path fill=\"none\" stroke=\"black\" d=\"M685.42,-36.58C696.72,-39.22 707.94,-42.18 718.6,-45.5 729.4,-48.87 740.82,-53.62 750.88,-58.25\"/>\n",
       "<polygon fill=\"black\" stroke=\"black\" points=\"749.51,-61.48 760.05,-62.61 752.52,-55.16 749.51,-61.48\"/>\n",
       "</g>\n",
       "<!-- 130680728080384exp -->\n",
       "<g id=\"node2\" class=\"node\">\n",
       "<title>130680728080384exp</title>\n",
       "<ellipse fill=\"none\" stroke=\"black\" cx=\"359.3\" cy=\"-18.5\" rx=\"27.1\" ry=\"18\"/>\n",
       "<text text-anchor=\"middle\" x=\"359.3\" y=\"-14.8\" font-family=\"Times,serif\" font-size=\"14.00\">exp</text>\n",
       "</g>\n",
       "<!-- 130680728080384exp&#45;&gt;130680728080384 -->\n",
       "<g id=\"edge1\" class=\"edge\">\n",
       "<title>130680728080384exp&#45;&gt;130680728080384</title>\n",
       "<path fill=\"none\" stroke=\"black\" d=\"M386.81,-18.5C394.23,-18.5 402.88,-18.5 412.3,-18.5\"/>\n",
       "<polygon fill=\"black\" stroke=\"black\" points=\"412.38,-22 422.38,-18.5 412.38,-15 412.38,-22\"/>\n",
       "</g>\n",
       "<!-- 130680728092576 -->\n",
       "<g id=\"node3\" class=\"node\">\n",
       "<title>130680728092576</title>\n",
       "<polygon fill=\"none\" stroke=\"black\" points=\"849.69,-55.5 849.69,-91.5 1145.69,-91.5 1145.69,-55.5 849.69,-55.5\"/>\n",
       "<text text-anchor=\"middle\" x=\"860.19\" y=\"-69.8\" font-family=\"Times,serif\" font-size=\"14.00\"> </text>\n",
       "<polyline fill=\"none\" stroke=\"black\" points=\"870.69,-55.5 870.69,-91.5 \"/>\n",
       "<text text-anchor=\"middle\" x=\"930.19\" y=\"-69.8\" font-family=\"Times,serif\" font-size=\"14.00\">data = 1.0000</text>\n",
       "<polyline fill=\"none\" stroke=\"black\" points=\"989.69,-55.5 989.69,-91.5 \"/>\n",
       "<text text-anchor=\"middle\" x=\"1067.69\" y=\"-69.8\" font-family=\"Times,serif\" font-size=\"14.00\">grad = 0.04177257</text>\n",
       "</g>\n",
       "<!-- 130680728077504+ -->\n",
       "<g id=\"node14\" class=\"node\">\n",
       "<title>130680728077504+</title>\n",
       "<ellipse fill=\"none\" stroke=\"black\" cx=\"1213.49\" cy=\"-128.5\" rx=\"27\" ry=\"18\"/>\n",
       "<text text-anchor=\"middle\" x=\"1213.49\" y=\"-124.8\" font-family=\"Times,serif\" font-size=\"14.00\">+</text>\n",
       "</g>\n",
       "<!-- 130680728092576&#45;&gt;130680728077504+ -->\n",
       "<g id=\"edge23\" class=\"edge\">\n",
       "<title>130680728092576&#45;&gt;130680728077504+</title>\n",
       "<path fill=\"none\" stroke=\"black\" d=\"M1111.89,-91.5C1124.91,-94.43 1137.91,-97.76 1150.19,-101.5 1160.87,-104.76 1172.18,-109.3 1182.18,-113.73\"/>\n",
       "<polygon fill=\"black\" stroke=\"black\" points=\"1180.77,-116.93 1191.32,-117.9 1183.67,-110.56 1180.77,-116.93\"/>\n",
       "</g>\n",
       "<!-- 130680728092576+&#45;&gt;130680728092576 -->\n",
       "<g id=\"edge2\" class=\"edge\">\n",
       "<title>130680728092576+&#45;&gt;130680728092576</title>\n",
       "<path fill=\"none\" stroke=\"black\" d=\"M809.11,-73.5C817.73,-73.5 828.03,-73.5 839.3,-73.5\"/>\n",
       "<polygon fill=\"black\" stroke=\"black\" points=\"839.44,-77 849.44,-73.5 839.44,-70 839.44,-77\"/>\n",
       "</g>\n",
       "<!-- 130680728081968 -->\n",
       "<g id=\"node5\" class=\"node\">\n",
       "<title>130680728081968</title>\n",
       "<polygon fill=\"none\" stroke=\"black\" points=\"3696.55,-196.5 3696.55,-232.5 4001.55,-232.5 4001.55,-196.5 3696.55,-196.5\"/>\n",
       "<text text-anchor=\"middle\" x=\"3707.05\" y=\"-210.8\" font-family=\"Times,serif\" font-size=\"14.00\"> </text>\n",
       "<polyline fill=\"none\" stroke=\"black\" points=\"3717.55,-196.5 3717.55,-232.5 \"/>\n",
       "<text text-anchor=\"middle\" x=\"3779.05\" y=\"-210.8\" font-family=\"Times,serif\" font-size=\"14.00\">data = &#45;2.1755</text>\n",
       "<polyline fill=\"none\" stroke=\"black\" points=\"3840.55,-196.5 3840.55,-232.5 \"/>\n",
       "<text text-anchor=\"middle\" x=\"3921.05\" y=\"-210.8\" font-family=\"Times,serif\" font-size=\"14.00\">grad = &#45;1.00000000</text>\n",
       "</g>\n",
       "<!-- 130680728081200* -->\n",
       "<g id=\"node21\" class=\"node\">\n",
       "<title>130680728081200*</title>\n",
       "<ellipse fill=\"none\" stroke=\"black\" cx=\"4064.55\" cy=\"-241.5\" rx=\"27\" ry=\"18\"/>\n",
       "<text text-anchor=\"middle\" x=\"4064.55\" y=\"-237.8\" font-family=\"Times,serif\" font-size=\"14.00\">*</text>\n",
       "</g>\n",
       "<!-- 130680728081968&#45;&gt;130680728081200* -->\n",
       "<g id=\"edge29\" class=\"edge\">\n",
       "<title>130680728081968&#45;&gt;130680728081200*</title>\n",
       "<path fill=\"none\" stroke=\"black\" d=\"M3992.46,-232.51C4005.29,-234.13 4017.34,-235.66 4027.75,-236.97\"/>\n",
       "<polygon fill=\"black\" stroke=\"black\" points=\"4027.61,-240.48 4037.97,-238.26 4028.49,-233.54 4027.61,-240.48\"/>\n",
       "</g>\n",
       "<!-- 130680728081968log -->\n",
       "<g id=\"node6\" class=\"node\">\n",
       "<title>130680728081968log</title>\n",
       "<ellipse fill=\"none\" stroke=\"black\" cx=\"3633.55\" cy=\"-214.5\" rx=\"27\" ry=\"18\"/>\n",
       "<text text-anchor=\"middle\" x=\"3633.55\" y=\"-210.8\" font-family=\"Times,serif\" font-size=\"14.00\">log</text>\n",
       "</g>\n",
       "<!-- 130680728081968log&#45;&gt;130680728081968 -->\n",
       "<g id=\"edge3\" class=\"edge\">\n",
       "<title>130680728081968log&#45;&gt;130680728081968</title>\n",
       "<path fill=\"none\" stroke=\"black\" d=\"M3660.73,-214.5C3668.17,-214.5 3676.85,-214.5 3686.34,-214.5\"/>\n",
       "<polygon fill=\"black\" stroke=\"black\" points=\"3686.48,-218 3696.48,-214.5 3686.48,-211 3686.48,-218\"/>\n",
       "</g>\n",
       "<!-- 130680728088112 -->\n",
       "<g id=\"node7\" class=\"node\">\n",
       "<title>130680728088112</title>\n",
       "<polygon fill=\"none\" stroke=\"black\" points=\"845.19,-110.5 845.19,-146.5 1150.19,-146.5 1150.19,-110.5 845.19,-110.5\"/>\n",
       "<text text-anchor=\"middle\" x=\"855.69\" y=\"-124.8\" font-family=\"Times,serif\" font-size=\"14.00\"> </text>\n",
       "<polyline fill=\"none\" stroke=\"black\" points=\"866.19,-110.5 866.19,-146.5 \"/>\n",
       "<text text-anchor=\"middle\" x=\"930.19\" y=\"-124.8\" font-family=\"Times,serif\" font-size=\"14.00\">data = 20.0855</text>\n",
       "<polyline fill=\"none\" stroke=\"black\" points=\"994.19,-110.5 994.19,-146.5 \"/>\n",
       "<text text-anchor=\"middle\" x=\"1072.19\" y=\"-124.8\" font-family=\"Times,serif\" font-size=\"14.00\">grad = 0.04177257</text>\n",
       "</g>\n",
       "<!-- 130680728088112&#45;&gt;130680728077504+ -->\n",
       "<g id=\"edge25\" class=\"edge\">\n",
       "<title>130680728088112&#45;&gt;130680728077504+</title>\n",
       "<path fill=\"none\" stroke=\"black\" d=\"M1150.36,-128.5C1159.66,-128.5 1168.4,-128.5 1176.23,-128.5\"/>\n",
       "<polygon fill=\"black\" stroke=\"black\" points=\"1176.3,-132 1186.3,-128.5 1176.3,-125 1176.3,-132\"/>\n",
       "</g>\n",
       "<!-- 130680728088112exp -->\n",
       "<g id=\"node8\" class=\"node\">\n",
       "<title>130680728088112exp</title>\n",
       "<ellipse fill=\"none\" stroke=\"black\" cx=\"781.89\" cy=\"-128.5\" rx=\"27.1\" ry=\"18\"/>\n",
       "<text text-anchor=\"middle\" x=\"781.89\" y=\"-124.8\" font-family=\"Times,serif\" font-size=\"14.00\">exp</text>\n",
       "</g>\n",
       "<!-- 130680728088112exp&#45;&gt;130680728088112 -->\n",
       "<g id=\"edge4\" class=\"edge\">\n",
       "<title>130680728088112exp&#45;&gt;130680728088112</title>\n",
       "<path fill=\"none\" stroke=\"black\" d=\"M809.54,-128.5C816.93,-128.5 825.53,-128.5 834.91,-128.5\"/>\n",
       "<polygon fill=\"black\" stroke=\"black\" points=\"834.94,-132 844.94,-128.5 834.94,-125 834.94,-132\"/>\n",
       "</g>\n",
       "<!-- 130680728085616 -->\n",
       "<g id=\"node9\" class=\"node\">\n",
       "<title>130680728085616</title>\n",
       "<polygon fill=\"none\" stroke=\"black\" points=\"2833.55,-173.5 2833.55,-209.5 3143.55,-209.5 3143.55,-173.5 2833.55,-173.5\"/>\n",
       "<text text-anchor=\"middle\" x=\"2844.05\" y=\"-187.8\" font-family=\"Times,serif\" font-size=\"14.00\"> </text>\n",
       "<polyline fill=\"none\" stroke=\"black\" points=\"2854.55,-173.5 2854.55,-209.5 \"/>\n",
       "<text text-anchor=\"middle\" x=\"2914.05\" y=\"-187.8\" font-family=\"Times,serif\" font-size=\"14.00\">data = 0.0418</text>\n",
       "<polyline fill=\"none\" stroke=\"black\" points=\"2973.55,-173.5 2973.55,-209.5 \"/>\n",
       "<text text-anchor=\"middle\" x=\"3058.55\" y=\"-187.8\" font-family=\"Times,serif\" font-size=\"14.00\">grad = &#45;23.93915403</text>\n",
       "</g>\n",
       "<!-- 130680728089840* -->\n",
       "<g id=\"node19\" class=\"node\">\n",
       "<title>130680728089840*</title>\n",
       "<ellipse fill=\"none\" stroke=\"black\" cx=\"3206.55\" cy=\"-214.5\" rx=\"27\" ry=\"18\"/>\n",
       "<text text-anchor=\"middle\" x=\"3206.55\" y=\"-210.8\" font-family=\"Times,serif\" font-size=\"14.00\">*</text>\n",
       "</g>\n",
       "<!-- 130680728085616&#45;&gt;130680728089840* -->\n",
       "<g id=\"edge22\" class=\"edge\">\n",
       "<title>130680728085616&#45;&gt;130680728089840*</title>\n",
       "<path fill=\"none\" stroke=\"black\" d=\"M3143.66,-207.91C3153.03,-208.91 3161.83,-209.84 3169.69,-210.68\"/>\n",
       "<polygon fill=\"black\" stroke=\"black\" points=\"3169.48,-214.18 3179.8,-211.76 3170.23,-207.22 3169.48,-214.18\"/>\n",
       "</g>\n",
       "<!-- 130680728085616pow (23.939154034883327^&#45;1) -->\n",
       "<g id=\"node10\" class=\"node\">\n",
       "<title>130680728085616pow (23.939154034883327^&#45;1)</title>\n",
       "<ellipse fill=\"none\" stroke=\"black\" cx=\"2638.97\" cy=\"-191.5\" rx=\"158.67\" ry=\"18\"/>\n",
       "<text text-anchor=\"middle\" x=\"2638.97\" y=\"-187.8\" font-family=\"Times,serif\" font-size=\"14.00\">pow (23.939154034883327^&#45;1)</text>\n",
       "</g>\n",
       "<!-- 130680728085616pow (23.939154034883327^&#45;1)&#45;&gt;130680728085616 -->\n",
       "<g id=\"edge5\" class=\"edge\">\n",
       "<title>130680728085616pow (23.939154034883327^&#45;1)&#45;&gt;130680728085616</title>\n",
       "<path fill=\"none\" stroke=\"black\" d=\"M2797.74,-191.5C2806.16,-191.5 2814.63,-191.5 2823.08,-191.5\"/>\n",
       "<polygon fill=\"black\" stroke=\"black\" points=\"2823.36,-195 2833.36,-191.5 2823.36,-188 2823.36,-195\"/>\n",
       "</g>\n",
       "<!-- 130680728079520 -->\n",
       "<g id=\"node11\" class=\"node\">\n",
       "<title>130680728079520</title>\n",
       "<polygon fill=\"none\" stroke=\"black\" points=\"847.69,-165.5 847.69,-201.5 1147.69,-201.5 1147.69,-165.5 847.69,-165.5\"/>\n",
       "<text text-anchor=\"middle\" x=\"858.19\" y=\"-179.8\" font-family=\"Times,serif\" font-size=\"14.00\"> </text>\n",
       "<polyline fill=\"none\" stroke=\"black\" points=\"868.69,-165.5 868.69,-201.5 \"/>\n",
       "<text text-anchor=\"middle\" x=\"930.19\" y=\"-179.8\" font-family=\"Times,serif\" font-size=\"14.00\">data = &#45;2.0000</text>\n",
       "<polyline fill=\"none\" stroke=\"black\" points=\"991.69,-165.5 991.69,-201.5 \"/>\n",
       "<text text-anchor=\"middle\" x=\"1069.69\" y=\"-179.8\" font-family=\"Times,serif\" font-size=\"14.00\">grad = 0.00565330</text>\n",
       "</g>\n",
       "<!-- 130680728087776exp -->\n",
       "<g id=\"node17\" class=\"node\">\n",
       "<title>130680728087776exp</title>\n",
       "<ellipse fill=\"none\" stroke=\"black\" cx=\"1213.49\" cy=\"-183.5\" rx=\"27.1\" ry=\"18\"/>\n",
       "<text text-anchor=\"middle\" x=\"1213.49\" y=\"-179.8\" font-family=\"Times,serif\" font-size=\"14.00\">exp</text>\n",
       "</g>\n",
       "<!-- 130680728079520&#45;&gt;130680728087776exp -->\n",
       "<g id=\"edge20\" class=\"edge\">\n",
       "<title>130680728079520&#45;&gt;130680728087776exp</title>\n",
       "<path fill=\"none\" stroke=\"black\" d=\"M1147.76,-183.5C1157.9,-183.5 1167.44,-183.5 1175.92,-183.5\"/>\n",
       "<polygon fill=\"black\" stroke=\"black\" points=\"1176.06,-187 1186.06,-183.5 1176.06,-180 1176.06,-187\"/>\n",
       "</g>\n",
       "<!-- 130680728092336 -->\n",
       "<g id=\"node12\" class=\"node\">\n",
       "<title>130680728092336</title>\n",
       "<polygon fill=\"none\" stroke=\"black\" points=\"3696.55,-251.5 3696.55,-287.5 4001.55,-287.5 4001.55,-251.5 3696.55,-251.5\"/>\n",
       "<text text-anchor=\"middle\" x=\"3707.05\" y=\"-265.8\" font-family=\"Times,serif\" font-size=\"14.00\"> </text>\n",
       "<polyline fill=\"none\" stroke=\"black\" points=\"3717.55,-251.5 3717.55,-287.5 \"/>\n",
       "<text text-anchor=\"middle\" x=\"3779.05\" y=\"-265.8\" font-family=\"Times,serif\" font-size=\"14.00\">data = &#45;1.0000</text>\n",
       "<polyline fill=\"none\" stroke=\"black\" points=\"3840.55,-251.5 3840.55,-287.5 \"/>\n",
       "<text text-anchor=\"middle\" x=\"3921.05\" y=\"-265.8\" font-family=\"Times,serif\" font-size=\"14.00\">grad = &#45;2.17551536</text>\n",
       "</g>\n",
       "<!-- 130680728092336&#45;&gt;130680728081200* -->\n",
       "<g id=\"edge19\" class=\"edge\">\n",
       "<title>130680728092336&#45;&gt;130680728081200*</title>\n",
       "<path fill=\"none\" stroke=\"black\" d=\"M3987.38,-251.49C4002.13,-249.56 4016.03,-247.73 4027.81,-246.19\"/>\n",
       "<polygon fill=\"black\" stroke=\"black\" points=\"4028.55,-249.62 4038.01,-244.85 4027.64,-242.68 4028.55,-249.62\"/>\n",
       "</g>\n",
       "<!-- 130680728077504 -->\n",
       "<g id=\"node13\" class=\"node\">\n",
       "<title>130680728077504</title>\n",
       "<polygon fill=\"none\" stroke=\"black\" points=\"1276.79,-110.5 1276.79,-146.5 1581.79,-146.5 1581.79,-110.5 1276.79,-110.5\"/>\n",
       "<text text-anchor=\"middle\" x=\"1287.29\" y=\"-124.8\" font-family=\"Times,serif\" font-size=\"14.00\"> </text>\n",
       "<polyline fill=\"none\" stroke=\"black\" points=\"1297.79,-110.5 1297.79,-146.5 \"/>\n",
       "<text text-anchor=\"middle\" x=\"1361.79\" y=\"-124.8\" font-family=\"Times,serif\" font-size=\"14.00\">data = 21.0855</text>\n",
       "<polyline fill=\"none\" stroke=\"black\" points=\"1425.79,-110.5 1425.79,-146.5 \"/>\n",
       "<text text-anchor=\"middle\" x=\"1503.79\" y=\"-124.8\" font-family=\"Times,serif\" font-size=\"14.00\">grad = 0.04177257</text>\n",
       "</g>\n",
       "<!-- 130680728077216+ -->\n",
       "<g id=\"node30\" class=\"node\">\n",
       "<title>130680728077216+</title>\n",
       "<ellipse fill=\"none\" stroke=\"black\" cx=\"1645.08\" cy=\"-183.5\" rx=\"27\" ry=\"18\"/>\n",
       "<text text-anchor=\"middle\" x=\"1645.08\" y=\"-179.8\" font-family=\"Times,serif\" font-size=\"14.00\">+</text>\n",
       "</g>\n",
       "<!-- 130680728077504&#45;&gt;130680728077216+ -->\n",
       "<g id=\"edge14\" class=\"edge\">\n",
       "<title>130680728077504&#45;&gt;130680728077216+</title>\n",
       "<path fill=\"none\" stroke=\"black\" d=\"M1543.48,-146.5C1556.5,-149.43 1569.5,-152.76 1581.79,-156.5 1592.47,-159.76 1603.77,-164.3 1613.78,-168.73\"/>\n",
       "<polygon fill=\"black\" stroke=\"black\" points=\"1612.36,-171.93 1622.91,-172.9 1615.27,-165.56 1612.36,-171.93\"/>\n",
       "</g>\n",
       "<!-- 130680728077504+&#45;&gt;130680728077504 -->\n",
       "<g id=\"edge6\" class=\"edge\">\n",
       "<title>130680728077504+&#45;&gt;130680728077504</title>\n",
       "<path fill=\"none\" stroke=\"black\" d=\"M1240.7,-128.5C1248.15,-128.5 1256.85,-128.5 1266.34,-128.5\"/>\n",
       "<polygon fill=\"black\" stroke=\"black\" points=\"1266.51,-132 1276.51,-128.5 1266.51,-125 1266.51,-132\"/>\n",
       "</g>\n",
       "<!-- 130680728089456 -->\n",
       "<g id=\"node15\" class=\"node\">\n",
       "<title>130680728089456</title>\n",
       "<polygon fill=\"none\" stroke=\"black\" points=\"0,-0.5 0,-36.5 296,-36.5 296,-0.5 0,-0.5\"/>\n",
       "<text text-anchor=\"middle\" x=\"10.5\" y=\"-14.8\" font-family=\"Times,serif\" font-size=\"14.00\"> </text>\n",
       "<polyline fill=\"none\" stroke=\"black\" points=\"21,-0.5 21,-36.5 \"/>\n",
       "<text text-anchor=\"middle\" x=\"80.5\" y=\"-14.8\" font-family=\"Times,serif\" font-size=\"14.00\">data = 0.0000</text>\n",
       "<polyline fill=\"none\" stroke=\"black\" points=\"140,-0.5 140,-36.5 \"/>\n",
       "<text text-anchor=\"middle\" x=\"218\" y=\"-14.8\" font-family=\"Times,serif\" font-size=\"14.00\">grad = 0.04177257</text>\n",
       "</g>\n",
       "<!-- 130680728089456&#45;&gt;130680728080384exp -->\n",
       "<g id=\"edge16\" class=\"edge\">\n",
       "<title>130680728089456&#45;&gt;130680728080384exp</title>\n",
       "<path fill=\"none\" stroke=\"black\" d=\"M296.07,-18.5C305.25,-18.5 313.92,-18.5 321.69,-18.5\"/>\n",
       "<polygon fill=\"black\" stroke=\"black\" points=\"321.71,-22 331.71,-18.5 321.71,-15 321.71,-22\"/>\n",
       "</g>\n",
       "<!-- 130680728087776 -->\n",
       "<g id=\"node16\" class=\"node\">\n",
       "<title>130680728087776</title>\n",
       "<polygon fill=\"none\" stroke=\"black\" points=\"1281.29,-165.5 1281.29,-201.5 1577.29,-201.5 1577.29,-165.5 1281.29,-165.5\"/>\n",
       "<text text-anchor=\"middle\" x=\"1291.79\" y=\"-179.8\" font-family=\"Times,serif\" font-size=\"14.00\"> </text>\n",
       "<polyline fill=\"none\" stroke=\"black\" points=\"1302.29,-165.5 1302.29,-201.5 \"/>\n",
       "<text text-anchor=\"middle\" x=\"1361.79\" y=\"-179.8\" font-family=\"Times,serif\" font-size=\"14.00\">data = 0.1353</text>\n",
       "<polyline fill=\"none\" stroke=\"black\" points=\"1421.29,-165.5 1421.29,-201.5 \"/>\n",
       "<text text-anchor=\"middle\" x=\"1499.29\" y=\"-179.8\" font-family=\"Times,serif\" font-size=\"14.00\">grad = 0.04177257</text>\n",
       "</g>\n",
       "<!-- 130680728087776&#45;&gt;130680728077216+ -->\n",
       "<g id=\"edge17\" class=\"edge\">\n",
       "<title>130680728087776&#45;&gt;130680728077216+</title>\n",
       "<path fill=\"none\" stroke=\"black\" d=\"M1577.32,-183.5C1588.38,-183.5 1598.77,-183.5 1607.91,-183.5\"/>\n",
       "<polygon fill=\"black\" stroke=\"black\" points=\"1608.03,-187 1618.03,-183.5 1608.03,-180 1608.03,-187\"/>\n",
       "</g>\n",
       "<!-- 130680728087776exp&#45;&gt;130680728087776 -->\n",
       "<g id=\"edge7\" class=\"edge\">\n",
       "<title>130680728087776exp&#45;&gt;130680728087776</title>\n",
       "<path fill=\"none\" stroke=\"black\" d=\"M1241.13,-183.5C1249.7,-183.5 1259.9,-183.5 1271.04,-183.5\"/>\n",
       "<polygon fill=\"black\" stroke=\"black\" points=\"1271.05,-187 1281.05,-183.5 1271.05,-180 1271.05,-187\"/>\n",
       "</g>\n",
       "<!-- 130680728089840 -->\n",
       "<g id=\"node18\" class=\"node\">\n",
       "<title>130680728089840</title>\n",
       "<polygon fill=\"none\" stroke=\"black\" points=\"3269.55,-196.5 3269.55,-232.5 3570.55,-232.5 3570.55,-196.5 3269.55,-196.5\"/>\n",
       "<text text-anchor=\"middle\" x=\"3280.05\" y=\"-210.8\" font-family=\"Times,serif\" font-size=\"14.00\"> </text>\n",
       "<polyline fill=\"none\" stroke=\"black\" points=\"3290.55,-196.5 3290.55,-232.5 \"/>\n",
       "<text text-anchor=\"middle\" x=\"3350.05\" y=\"-210.8\" font-family=\"Times,serif\" font-size=\"14.00\">data = 0.1135</text>\n",
       "<polyline fill=\"none\" stroke=\"black\" points=\"3409.55,-196.5 3409.55,-232.5 \"/>\n",
       "<text text-anchor=\"middle\" x=\"3490.05\" y=\"-210.8\" font-family=\"Times,serif\" font-size=\"14.00\">grad = &#45;8.80672261</text>\n",
       "</g>\n",
       "<!-- 130680728089840&#45;&gt;130680728081968log -->\n",
       "<g id=\"edge27\" class=\"edge\">\n",
       "<title>130680728089840&#45;&gt;130680728081968log</title>\n",
       "<path fill=\"none\" stroke=\"black\" d=\"M3570.81,-214.5C3580.04,-214.5 3588.73,-214.5 3596.51,-214.5\"/>\n",
       "<polygon fill=\"black\" stroke=\"black\" points=\"3596.52,-218 3606.52,-214.5 3596.52,-211 3596.52,-218\"/>\n",
       "</g>\n",
       "<!-- 130680728089840*&#45;&gt;130680728089840 -->\n",
       "<g id=\"edge8\" class=\"edge\">\n",
       "<title>130680728089840*&#45;&gt;130680728089840</title>\n",
       "<path fill=\"none\" stroke=\"black\" d=\"M3233.91,-214.5C3241.31,-214.5 3249.93,-214.5 3259.32,-214.5\"/>\n",
       "<polygon fill=\"black\" stroke=\"black\" points=\"3259.37,-218 3269.37,-214.5 3259.37,-211 3259.37,-218\"/>\n",
       "</g>\n",
       "<!-- 130680728081200 -->\n",
       "<g id=\"node20\" class=\"node\">\n",
       "<title>130680728081200</title>\n",
       "<polygon fill=\"none\" stroke=\"black\" points=\"4127.55,-223.5 4127.55,-259.5 4423.55,-259.5 4423.55,-223.5 4127.55,-223.5\"/>\n",
       "<text text-anchor=\"middle\" x=\"4138.05\" y=\"-237.8\" font-family=\"Times,serif\" font-size=\"14.00\"> </text>\n",
       "<polyline fill=\"none\" stroke=\"black\" points=\"4148.55,-223.5 4148.55,-259.5 \"/>\n",
       "<text text-anchor=\"middle\" x=\"4208.05\" y=\"-237.8\" font-family=\"Times,serif\" font-size=\"14.00\">data = 2.1755</text>\n",
       "<polyline fill=\"none\" stroke=\"black\" points=\"4267.55,-223.5 4267.55,-259.5 \"/>\n",
       "<text text-anchor=\"middle\" x=\"4345.55\" y=\"-237.8\" font-family=\"Times,serif\" font-size=\"14.00\">grad = 1.00000000</text>\n",
       "</g>\n",
       "<!-- 130680728081200*&#45;&gt;130680728081200 -->\n",
       "<g id=\"edge9\" class=\"edge\">\n",
       "<title>130680728081200*&#45;&gt;130680728081200</title>\n",
       "<path fill=\"none\" stroke=\"black\" d=\"M4091.6,-241.5C4099.07,-241.5 4107.8,-241.5 4117.33,-241.5\"/>\n",
       "<polygon fill=\"black\" stroke=\"black\" points=\"4117.52,-245 4127.52,-241.5 4117.52,-238 4117.52,-245\"/>\n",
       "</g>\n",
       "<!-- 130680728092480 -->\n",
       "<g id=\"node22\" class=\"node\">\n",
       "<title>130680728092480</title>\n",
       "<polygon fill=\"none\" stroke=\"black\" points=\"422.6,-110.5 422.6,-146.5 718.6,-146.5 718.6,-110.5 422.6,-110.5\"/>\n",
       "<text text-anchor=\"middle\" x=\"433.1\" y=\"-124.8\" font-family=\"Times,serif\" font-size=\"14.00\"> </text>\n",
       "<polyline fill=\"none\" stroke=\"black\" points=\"443.6,-110.5 443.6,-146.5 \"/>\n",
       "<text text-anchor=\"middle\" x=\"503.1\" y=\"-124.8\" font-family=\"Times,serif\" font-size=\"14.00\">data = 3.0000</text>\n",
       "<polyline fill=\"none\" stroke=\"black\" points=\"562.6,-110.5 562.6,-146.5 \"/>\n",
       "<text text-anchor=\"middle\" x=\"640.6\" y=\"-124.8\" font-family=\"Times,serif\" font-size=\"14.00\">grad = 0.83902451</text>\n",
       "</g>\n",
       "<!-- 130680728092480&#45;&gt;130680728088112exp -->\n",
       "<g id=\"edge15\" class=\"edge\">\n",
       "<title>130680728092480&#45;&gt;130680728088112exp</title>\n",
       "<path fill=\"none\" stroke=\"black\" d=\"M718.66,-128.5C727.85,-128.5 736.51,-128.5 744.29,-128.5\"/>\n",
       "<polygon fill=\"black\" stroke=\"black\" points=\"744.31,-132 754.31,-128.5 744.31,-125 744.31,-132\"/>\n",
       "</g>\n",
       "<!-- 130680728077648 -->\n",
       "<g id=\"node23\" class=\"node\">\n",
       "<title>130680728077648</title>\n",
       "<polygon fill=\"none\" stroke=\"black\" points=\"422.6,-55.5 422.6,-91.5 718.6,-91.5 718.6,-55.5 422.6,-55.5\"/>\n",
       "<text text-anchor=\"middle\" x=\"433.1\" y=\"-69.8\" font-family=\"Times,serif\" font-size=\"14.00\"> </text>\n",
       "<polyline fill=\"none\" stroke=\"black\" points=\"443.6,-55.5 443.6,-91.5 \"/>\n",
       "<text text-anchor=\"middle\" x=\"503.1\" y=\"-69.8\" font-family=\"Times,serif\" font-size=\"14.00\">data = 0.0000</text>\n",
       "<polyline fill=\"none\" stroke=\"black\" points=\"562.6,-55.5 562.6,-91.5 \"/>\n",
       "<text text-anchor=\"middle\" x=\"640.6\" y=\"-69.8\" font-family=\"Times,serif\" font-size=\"14.00\">grad = 0.04177257</text>\n",
       "</g>\n",
       "<!-- 130680728077648&#45;&gt;130680728092576+ -->\n",
       "<g id=\"edge24\" class=\"edge\">\n",
       "<title>130680728077648&#45;&gt;130680728092576+</title>\n",
       "<path fill=\"none\" stroke=\"black\" d=\"M718.66,-73.5C727.94,-73.5 736.69,-73.5 744.52,-73.5\"/>\n",
       "<polygon fill=\"black\" stroke=\"black\" points=\"744.62,-77 754.62,-73.5 744.62,-70 744.62,-77\"/>\n",
       "</g>\n",
       "<!-- 130680728087392 -->\n",
       "<g id=\"node24\" class=\"node\">\n",
       "<title>130680728087392</title>\n",
       "<polygon fill=\"none\" stroke=\"black\" points=\"1710.38,-220.5 1710.38,-256.5 2011.38,-256.5 2011.38,-220.5 1710.38,-220.5\"/>\n",
       "<text text-anchor=\"middle\" x=\"1720.88\" y=\"-234.8\" font-family=\"Times,serif\" font-size=\"14.00\"> </text>\n",
       "<polyline fill=\"none\" stroke=\"black\" points=\"1731.38,-220.5 1731.38,-256.5 \"/>\n",
       "<text text-anchor=\"middle\" x=\"1790.88\" y=\"-234.8\" font-family=\"Times,serif\" font-size=\"14.00\">data = 2.7183</text>\n",
       "<polyline fill=\"none\" stroke=\"black\" points=\"1850.38,-220.5 1850.38,-256.5 \"/>\n",
       "<text text-anchor=\"middle\" x=\"1930.88\" y=\"-234.8\" font-family=\"Times,serif\" font-size=\"14.00\">grad = &#45;0.32610687</text>\n",
       "</g>\n",
       "<!-- 130680728087392&#45;&gt;130680728089840* -->\n",
       "<g id=\"edge28\" class=\"edge\">\n",
       "<title>130680728087392&#45;&gt;130680728089840*</title>\n",
       "<path fill=\"none\" stroke=\"black\" d=\"M2011.78,-238.5C2094.15,-238.5 2198.15,-238.5 2290.88,-238.5 2290.88,-238.5 2290.88,-238.5 2639.97,-238.5 2863.94,-238.5 2919.97,-232.73 3143.55,-219.5 3151.98,-219 3161.05,-218.34 3169.57,-217.66\"/>\n",
       "<polygon fill=\"black\" stroke=\"black\" points=\"3169.95,-221.14 3179.63,-216.84 3169.37,-214.17 3169.95,-221.14\"/>\n",
       "</g>\n",
       "<!-- 130680728090464+ -->\n",
       "<g id=\"node27\" class=\"node\">\n",
       "<title>130680728090464+</title>\n",
       "<ellipse fill=\"none\" stroke=\"black\" cx=\"2076.38\" cy=\"-191.5\" rx=\"27\" ry=\"18\"/>\n",
       "<text text-anchor=\"middle\" x=\"2076.38\" y=\"-187.8\" font-family=\"Times,serif\" font-size=\"14.00\">+</text>\n",
       "</g>\n",
       "<!-- 130680728087392&#45;&gt;130680728090464+ -->\n",
       "<g id=\"edge26\" class=\"edge\">\n",
       "<title>130680728087392&#45;&gt;130680728090464+</title>\n",
       "<path fill=\"none\" stroke=\"black\" d=\"M1973.12,-220.46C1986.74,-217.73 2000.42,-214.73 2013.38,-211.5 2022.97,-209.11 2033.24,-206.02 2042.6,-202.99\"/>\n",
       "<polygon fill=\"black\" stroke=\"black\" points=\"2043.95,-206.23 2052.34,-199.76 2041.74,-199.59 2043.95,-206.23\"/>\n",
       "</g>\n",
       "<!-- 130680728087392exp -->\n",
       "<g id=\"node25\" class=\"node\">\n",
       "<title>130680728087392exp</title>\n",
       "<ellipse fill=\"none\" stroke=\"black\" cx=\"1645.08\" cy=\"-238.5\" rx=\"27.1\" ry=\"18\"/>\n",
       "<text text-anchor=\"middle\" x=\"1645.08\" y=\"-234.8\" font-family=\"Times,serif\" font-size=\"14.00\">exp</text>\n",
       "</g>\n",
       "<!-- 130680728087392exp&#45;&gt;130680728087392 -->\n",
       "<g id=\"edge10\" class=\"edge\">\n",
       "<title>130680728087392exp&#45;&gt;130680728087392</title>\n",
       "<path fill=\"none\" stroke=\"black\" d=\"M1672.73,-238.5C1680.7,-238.5 1690.08,-238.5 1700.32,-238.5\"/>\n",
       "<polygon fill=\"black\" stroke=\"black\" points=\"1700.38,-242 1710.38,-238.5 1700.38,-235 1700.38,-242\"/>\n",
       "</g>\n",
       "<!-- 130680728090464 -->\n",
       "<g id=\"node26\" class=\"node\">\n",
       "<title>130680728090464</title>\n",
       "<polygon fill=\"none\" stroke=\"black\" points=\"2139.38,-173.5 2139.38,-209.5 2444.38,-209.5 2444.38,-173.5 2139.38,-173.5\"/>\n",
       "<text text-anchor=\"middle\" x=\"2149.88\" y=\"-187.8\" font-family=\"Times,serif\" font-size=\"14.00\"> </text>\n",
       "<polyline fill=\"none\" stroke=\"black\" points=\"2160.38,-173.5 2160.38,-209.5 \"/>\n",
       "<text text-anchor=\"middle\" x=\"2224.38\" y=\"-187.8\" font-family=\"Times,serif\" font-size=\"14.00\">data = 23.9392</text>\n",
       "<polyline fill=\"none\" stroke=\"black\" points=\"2288.38,-173.5 2288.38,-209.5 \"/>\n",
       "<text text-anchor=\"middle\" x=\"2366.38\" y=\"-187.8\" font-family=\"Times,serif\" font-size=\"14.00\">grad = 0.04177257</text>\n",
       "</g>\n",
       "<!-- 130680728090464&#45;&gt;130680728085616pow (23.939154034883327^&#45;1) -->\n",
       "<g id=\"edge30\" class=\"edge\">\n",
       "<title>130680728090464&#45;&gt;130680728085616pow (23.939154034883327^&#45;1)</title>\n",
       "<path fill=\"none\" stroke=\"black\" d=\"M2444.49,-191.5C2453.01,-191.5 2461.6,-191.5 2470.17,-191.5\"/>\n",
       "<polygon fill=\"black\" stroke=\"black\" points=\"2470.22,-195 2480.22,-191.5 2470.22,-188 2470.22,-195\"/>\n",
       "</g>\n",
       "<!-- 130680728090464+&#45;&gt;130680728090464 -->\n",
       "<g id=\"edge11\" class=\"edge\">\n",
       "<title>130680728090464+&#45;&gt;130680728090464</title>\n",
       "<path fill=\"none\" stroke=\"black\" d=\"M2103.56,-191.5C2111,-191.5 2119.68,-191.5 2129.16,-191.5\"/>\n",
       "<polygon fill=\"black\" stroke=\"black\" points=\"2129.31,-195 2139.31,-191.5 2129.31,-188 2129.31,-195\"/>\n",
       "</g>\n",
       "<!-- 130680728083840 -->\n",
       "<g id=\"node28\" class=\"node\">\n",
       "<title>130680728083840</title>\n",
       "<polygon fill=\"none\" stroke=\"black\" points=\"1278.79,-220.5 1278.79,-256.5 1579.79,-256.5 1579.79,-220.5 1278.79,-220.5\"/>\n",
       "<text text-anchor=\"middle\" x=\"1289.29\" y=\"-234.8\" font-family=\"Times,serif\" font-size=\"14.00\"> </text>\n",
       "<polyline fill=\"none\" stroke=\"black\" points=\"1299.79,-220.5 1299.79,-256.5 \"/>\n",
       "<text text-anchor=\"middle\" x=\"1359.29\" y=\"-234.8\" font-family=\"Times,serif\" font-size=\"14.00\">data = 1.0000</text>\n",
       "<polyline fill=\"none\" stroke=\"black\" points=\"1418.79,-220.5 1418.79,-256.5 \"/>\n",
       "<text text-anchor=\"middle\" x=\"1499.29\" y=\"-234.8\" font-family=\"Times,serif\" font-size=\"14.00\">grad = &#45;0.88645038</text>\n",
       "</g>\n",
       "<!-- 130680728083840&#45;&gt;130680728087392exp -->\n",
       "<g id=\"edge13\" class=\"edge\">\n",
       "<title>130680728083840&#45;&gt;130680728087392exp</title>\n",
       "<path fill=\"none\" stroke=\"black\" d=\"M1579.94,-238.5C1589.79,-238.5 1599.07,-238.5 1607.34,-238.5\"/>\n",
       "<polygon fill=\"black\" stroke=\"black\" points=\"1607.6,-242 1617.6,-238.5 1607.6,-235 1607.6,-242\"/>\n",
       "</g>\n",
       "<!-- 130680728077216 -->\n",
       "<g id=\"node29\" class=\"node\">\n",
       "<title>130680728077216</title>\n",
       "<polygon fill=\"none\" stroke=\"black\" points=\"1708.38,-165.5 1708.38,-201.5 2013.38,-201.5 2013.38,-165.5 1708.38,-165.5\"/>\n",
       "<text text-anchor=\"middle\" x=\"1718.88\" y=\"-179.8\" font-family=\"Times,serif\" font-size=\"14.00\"> </text>\n",
       "<polyline fill=\"none\" stroke=\"black\" points=\"1729.38,-165.5 1729.38,-201.5 \"/>\n",
       "<text text-anchor=\"middle\" x=\"1793.38\" y=\"-179.8\" font-family=\"Times,serif\" font-size=\"14.00\">data = 21.2209</text>\n",
       "<polyline fill=\"none\" stroke=\"black\" points=\"1857.38,-165.5 1857.38,-201.5 \"/>\n",
       "<text text-anchor=\"middle\" x=\"1935.38\" y=\"-179.8\" font-family=\"Times,serif\" font-size=\"14.00\">grad = 0.04177257</text>\n",
       "</g>\n",
       "<!-- 130680728077216&#45;&gt;130680728090464+ -->\n",
       "<g id=\"edge18\" class=\"edge\">\n",
       "<title>130680728077216&#45;&gt;130680728090464+</title>\n",
       "<path fill=\"none\" stroke=\"black\" d=\"M2013.63,-189.19C2022.87,-189.53 2031.57,-189.86 2039.35,-190.15\"/>\n",
       "<polygon fill=\"black\" stroke=\"black\" points=\"2039.24,-193.65 2049.36,-190.53 2039.5,-186.65 2039.24,-193.65\"/>\n",
       "</g>\n",
       "<!-- 130680728077216+&#45;&gt;130680728077216 -->\n",
       "<g id=\"edge12\" class=\"edge\">\n",
       "<title>130680728077216+&#45;&gt;130680728077216</title>\n",
       "<path fill=\"none\" stroke=\"black\" d=\"M1672.3,-183.5C1679.75,-183.5 1688.44,-183.5 1697.94,-183.5\"/>\n",
       "<polygon fill=\"black\" stroke=\"black\" points=\"1698.1,-187 1708.1,-183.5 1698.1,-180 1698.1,-187\"/>\n",
       "</g>\n",
       "</g>\n",
       "</svg>\n"
      ],
      "text/plain": [
       "<graphviz.graphs.Digraph at 0x76da7a606aa0>"
      ]
     },
     "execution_count": 166,
     "metadata": {},
     "output_type": "execute_result"
    }
   ],
   "source": [
    "draw_dot(loss)"
   ]
  },
  {
   "cell_type": "code",
   "execution_count": 167,
   "metadata": {},
   "outputs": [
    {
     "data": {
      "text/plain": [
       "2.175600081239557"
      ]
     },
     "execution_count": 167,
     "metadata": {},
     "output_type": "execute_result"
    }
   ],
   "source": [
    "-np.log(0.11354)"
   ]
  },
  {
   "cell_type": "code",
   "execution_count": 168,
   "metadata": {},
   "outputs": [
    {
     "name": "stdout",
     "output_type": "stream",
     "text": [
      "OK for dim 0: expected 0.041772570515350445, yours returns 0.041772570515350445\n",
      "OK for dim 1: expected 0.8390245074625319, yours returns 0.8390245074625319\n",
      "OK for dim 2: expected 0.005653302662216329, yours returns 0.005653302662216329\n",
      "OK for dim 3: expected -0.8864503806400986, yours returns -0.8864503806400986\n"
     ]
    }
   ],
   "source": [
    "# print(probs)\n",
    "# print(sum(probs))\n",
    "\n",
    "ans = [0.041772570515350445, 0.8390245074625319, 0.005653302662216329, -0.8864503806400986]\n",
    "for dim in range(4):\n",
    "    ok = 'OK' if abs(logits[dim].grad - ans[dim]) < 1e-5 else 'WRONG!'\n",
    "    print(f\"{ok} for dim {dim}: expected {ans[dim]}, yours returns {logits[dim].grad}\")\n",
    "#end-for"
   ]
  },
  {
   "cell_type": "code",
   "execution_count": 169,
   "metadata": {},
   "outputs": [
    {
     "name": "stdout",
     "output_type": "stream",
     "text": [
      "tensor([0.0418, 0.8390, 0.0057, 0.1135], grad_fn=<SelectBackward0>)\n",
      "tensor(2.1755, grad_fn=<NegBackward0>)\n",
      "tensor([[ 0.0418,  0.8390,  0.0057, -0.8865]])\n"
     ]
    }
   ],
   "source": [
    "logits = torch.tensor([[0.0, 3.0, -2.0, 1]], requires_grad=True)\n",
    "\n",
    "probs = torch.softmax(logits, dim=1)[0]\n",
    "print(probs)\n",
    "loss = -probs[3].log()\n",
    "print(loss)\n",
    "loss.backward()\n",
    "print(logits.grad)"
   ]
  },
  {
   "cell_type": "code",
   "execution_count": 170,
   "metadata": {},
   "outputs": [],
   "source": [
    "logits = torch.tensor([[0.0, 3.0, -2.0, 1.0]], requires_grad=True)\n",
    "probs = torch.softmax(logits, dim=1)[0]\n",
    "# print(f\"probs: {probs}\")\n",
    "# loss = -probs[3].log()\n",
    "# loss.backward()"
   ]
  },
  {
   "cell_type": "markdown",
   "metadata": {},
   "source": [
    "### Try min-max operation:"
   ]
  },
  {
   "cell_type": "code",
   "execution_count": 171,
   "metadata": {},
   "outputs": [
    {
     "name": "stdout",
     "output_type": "stream",
     "text": [
      "self: 2.0, other: -1.0\n",
      "Value(data=-20.0, grad=0.0, label=)\n"
     ]
    },
    {
     "data": {
      "image/svg+xml": [
       "<?xml version=\"1.0\" encoding=\"UTF-8\" standalone=\"no\"?>\n",
       "<!DOCTYPE svg PUBLIC \"-//W3C//DTD SVG 1.1//EN\"\n",
       " \"http://www.w3.org/Graphics/SVG/1.1/DTD/svg11.dtd\">\n",
       "<!-- Generated by graphviz version 2.43.0 (0)\n",
       " -->\n",
       "<!-- Title: %3 Pages: 1 -->\n",
       "<svg width=\"1712pt\" height=\"210pt\"\n",
       " viewBox=\"0.00 0.00 1711.79 210.00\" xmlns=\"http://www.w3.org/2000/svg\" xmlns:xlink=\"http://www.w3.org/1999/xlink\">\n",
       "<g id=\"graph0\" class=\"graph\" transform=\"scale(1 1) rotate(0) translate(4 206)\">\n",
       "<title>%3</title>\n",
       "<polygon fill=\"white\" stroke=\"transparent\" points=\"-4,4 -4,-206 1707.79,-206 1707.79,4 -4,4\"/>\n",
       "<!-- 130680728080912 -->\n",
       "<g id=\"node1\" class=\"node\">\n",
       "<title>130680728080912</title>\n",
       "<polygon fill=\"none\" stroke=\"black\" points=\"2.5,-165.5 2.5,-201.5 298.5,-201.5 298.5,-165.5 2.5,-165.5\"/>\n",
       "<text text-anchor=\"middle\" x=\"13\" y=\"-179.8\" font-family=\"Times,serif\" font-size=\"14.00\"> </text>\n",
       "<polyline fill=\"none\" stroke=\"black\" points=\"23.5,-165.5 23.5,-201.5 \"/>\n",
       "<text text-anchor=\"middle\" x=\"83\" y=\"-179.8\" font-family=\"Times,serif\" font-size=\"14.00\">data = 2.0000</text>\n",
       "<polyline fill=\"none\" stroke=\"black\" points=\"142.5,-165.5 142.5,-201.5 \"/>\n",
       "<text text-anchor=\"middle\" x=\"220.5\" y=\"-179.8\" font-family=\"Times,serif\" font-size=\"14.00\">grad = 2.00000000</text>\n",
       "</g>\n",
       "<!-- 130680728089312max(2.0, &#45;1.0) -->\n",
       "<g id=\"node7\" class=\"node\">\n",
       "<title>130680728089312max(2.0, &#45;1.0)</title>\n",
       "<ellipse fill=\"none\" stroke=\"black\" cx=\"412.39\" cy=\"-128.5\" rx=\"75.29\" ry=\"18\"/>\n",
       "<text text-anchor=\"middle\" x=\"412.39\" y=\"-124.8\" font-family=\"Times,serif\" font-size=\"14.00\">max(2.0, &#45;1.0)</text>\n",
       "</g>\n",
       "<!-- 130680728080912&#45;&gt;130680728089312max(2.0, &#45;1.0) -->\n",
       "<g id=\"edge12\" class=\"edge\">\n",
       "<title>130680728080912&#45;&gt;130680728089312max(2.0, &#45;1.0)</title>\n",
       "<path fill=\"none\" stroke=\"black\" d=\"M256.64,-165.47C271.57,-162.63 286.69,-159.6 301,-156.5 317.56,-152.91 335.41,-148.58 351.82,-144.42\"/>\n",
       "<polygon fill=\"black\" stroke=\"black\" points=\"353.02,-147.73 361.83,-141.85 351.28,-140.94 353.02,-147.73\"/>\n",
       "</g>\n",
       "<!-- 130680728089120 -->\n",
       "<g id=\"node2\" class=\"node\">\n",
       "<title>130680728089120</title>\n",
       "<polygon fill=\"none\" stroke=\"black\" points=\"523.79,-55.5 523.79,-91.5 832.79,-91.5 832.79,-55.5 523.79,-55.5\"/>\n",
       "<text text-anchor=\"middle\" x=\"534.29\" y=\"-69.8\" font-family=\"Times,serif\" font-size=\"14.00\"> </text>\n",
       "<polyline fill=\"none\" stroke=\"black\" points=\"544.79,-55.5 544.79,-91.5 \"/>\n",
       "<text text-anchor=\"middle\" x=\"610.79\" y=\"-69.8\" font-family=\"Times,serif\" font-size=\"14.00\">data = &#45;12.0000</text>\n",
       "<polyline fill=\"none\" stroke=\"black\" points=\"676.79,-55.5 676.79,-91.5 \"/>\n",
       "<text text-anchor=\"middle\" x=\"754.79\" y=\"-69.8\" font-family=\"Times,serif\" font-size=\"14.00\">grad = 2.00000000</text>\n",
       "</g>\n",
       "<!-- 130680728085232+ -->\n",
       "<g id=\"node9\" class=\"node\">\n",
       "<title>130680728085232+</title>\n",
       "<ellipse fill=\"none\" stroke=\"black\" cx=\"895.79\" cy=\"-100.5\" rx=\"27\" ry=\"18\"/>\n",
       "<text text-anchor=\"middle\" x=\"895.79\" y=\"-96.8\" font-family=\"Times,serif\" font-size=\"14.00\">+</text>\n",
       "</g>\n",
       "<!-- 130680728089120&#45;&gt;130680728085232+ -->\n",
       "<g id=\"edge5\" class=\"edge\">\n",
       "<title>130680728089120&#45;&gt;130680728085232+</title>\n",
       "<path fill=\"none\" stroke=\"black\" d=\"M823.03,-91.51C836.11,-93.15 848.4,-94.69 858.98,-96.01\"/>\n",
       "<polygon fill=\"black\" stroke=\"black\" points=\"858.61,-99.49 868.96,-97.26 859.48,-92.55 858.61,-99.49\"/>\n",
       "</g>\n",
       "<!-- 130680728089120* -->\n",
       "<g id=\"node3\" class=\"node\">\n",
       "<title>130680728089120*</title>\n",
       "<ellipse fill=\"none\" stroke=\"black\" cx=\"412.39\" cy=\"-73.5\" rx=\"27\" ry=\"18\"/>\n",
       "<text text-anchor=\"middle\" x=\"412.39\" y=\"-69.8\" font-family=\"Times,serif\" font-size=\"14.00\">*</text>\n",
       "</g>\n",
       "<!-- 130680728089120*&#45;&gt;130680728089120 -->\n",
       "<g id=\"edge1\" class=\"edge\">\n",
       "<title>130680728089120*&#45;&gt;130680728089120</title>\n",
       "<path fill=\"none\" stroke=\"black\" d=\"M439.66,-73.5C458.2,-73.5 484.78,-73.5 513.5,-73.5\"/>\n",
       "<polygon fill=\"black\" stroke=\"black\" points=\"513.74,-77 523.74,-73.5 513.74,-70 513.74,-77\"/>\n",
       "</g>\n",
       "<!-- 130680728086048 -->\n",
       "<g id=\"node4\" class=\"node\">\n",
       "<title>130680728086048</title>\n",
       "<polygon fill=\"none\" stroke=\"black\" points=\"0.5,-110.5 0.5,-146.5 300.5,-146.5 300.5,-110.5 0.5,-110.5\"/>\n",
       "<text text-anchor=\"middle\" x=\"11\" y=\"-124.8\" font-family=\"Times,serif\" font-size=\"14.00\"> </text>\n",
       "<polyline fill=\"none\" stroke=\"black\" points=\"21.5,-110.5 21.5,-146.5 \"/>\n",
       "<text text-anchor=\"middle\" x=\"83\" y=\"-124.8\" font-family=\"Times,serif\" font-size=\"14.00\">data = &#45;1.0000</text>\n",
       "<polyline fill=\"none\" stroke=\"black\" points=\"144.5,-110.5 144.5,-146.5 \"/>\n",
       "<text text-anchor=\"middle\" x=\"222.5\" y=\"-124.8\" font-family=\"Times,serif\" font-size=\"14.00\">grad = 0.00000000</text>\n",
       "</g>\n",
       "<!-- 130680728086048&#45;&gt;130680728089312max(2.0, &#45;1.0) -->\n",
       "<g id=\"edge10\" class=\"edge\">\n",
       "<title>130680728086048&#45;&gt;130680728089312max(2.0, &#45;1.0)</title>\n",
       "<path fill=\"none\" stroke=\"black\" d=\"M300.8,-128.5C309.65,-128.5 318.37,-128.5 326.8,-128.5\"/>\n",
       "<polygon fill=\"black\" stroke=\"black\" points=\"326.93,-132 336.93,-128.5 326.93,-125 326.93,-132\"/>\n",
       "</g>\n",
       "<!-- 130680728083072 -->\n",
       "<g id=\"node5\" class=\"node\">\n",
       "<title>130680728083072</title>\n",
       "<polygon fill=\"none\" stroke=\"black\" points=\"958.79,-27.5 958.79,-63.5 1268.79,-63.5 1268.79,-27.5 958.79,-27.5\"/>\n",
       "<text text-anchor=\"middle\" x=\"969.29\" y=\"-41.8\" font-family=\"Times,serif\" font-size=\"14.00\"> </text>\n",
       "<polyline fill=\"none\" stroke=\"black\" points=\"979.79,-27.5 979.79,-63.5 \"/>\n",
       "<text text-anchor=\"middle\" x=\"1039.29\" y=\"-41.8\" font-family=\"Times,serif\" font-size=\"14.00\">data = 2.0000</text>\n",
       "<polyline fill=\"none\" stroke=\"black\" points=\"1098.79,-27.5 1098.79,-63.5 \"/>\n",
       "<text text-anchor=\"middle\" x=\"1183.79\" y=\"-41.8\" font-family=\"Times,serif\" font-size=\"14.00\">grad = &#45;10.00000000</text>\n",
       "</g>\n",
       "<!-- 130680728088976* -->\n",
       "<g id=\"node12\" class=\"node\">\n",
       "<title>130680728088976*</title>\n",
       "<ellipse fill=\"none\" stroke=\"black\" cx=\"1331.79\" cy=\"-72.5\" rx=\"27\" ry=\"18\"/>\n",
       "<text text-anchor=\"middle\" x=\"1331.79\" y=\"-68.8\" font-family=\"Times,serif\" font-size=\"14.00\">*</text>\n",
       "</g>\n",
       "<!-- 130680728083072&#45;&gt;130680728088976* -->\n",
       "<g id=\"edge7\" class=\"edge\">\n",
       "<title>130680728083072&#45;&gt;130680728088976*</title>\n",
       "<path fill=\"none\" stroke=\"black\" d=\"M1258.86,-63.51C1271.98,-65.15 1284.29,-66.69 1294.9,-68.01\"/>\n",
       "<polygon fill=\"black\" stroke=\"black\" points=\"1294.55,-71.5 1304.9,-69.26 1295.41,-64.55 1294.55,-71.5\"/>\n",
       "</g>\n",
       "<!-- 130680728089312 -->\n",
       "<g id=\"node6\" class=\"node\">\n",
       "<title>130680728089312</title>\n",
       "<polygon fill=\"none\" stroke=\"black\" points=\"530.29,-110.5 530.29,-146.5 826.29,-146.5 826.29,-110.5 530.29,-110.5\"/>\n",
       "<text text-anchor=\"middle\" x=\"540.79\" y=\"-124.8\" font-family=\"Times,serif\" font-size=\"14.00\"> </text>\n",
       "<polyline fill=\"none\" stroke=\"black\" points=\"551.29,-110.5 551.29,-146.5 \"/>\n",
       "<text text-anchor=\"middle\" x=\"610.79\" y=\"-124.8\" font-family=\"Times,serif\" font-size=\"14.00\">data = 2.0000</text>\n",
       "<polyline fill=\"none\" stroke=\"black\" points=\"670.29,-110.5 670.29,-146.5 \"/>\n",
       "<text text-anchor=\"middle\" x=\"748.29\" y=\"-124.8\" font-family=\"Times,serif\" font-size=\"14.00\">grad = 2.00000000</text>\n",
       "</g>\n",
       "<!-- 130680728089312&#45;&gt;130680728085232+ -->\n",
       "<g id=\"edge6\" class=\"edge\">\n",
       "<title>130680728089312&#45;&gt;130680728085232+</title>\n",
       "<path fill=\"none\" stroke=\"black\" d=\"M817.9,-110.49C832.94,-108.54 847.1,-106.7 859.08,-105.14\"/>\n",
       "<polygon fill=\"black\" stroke=\"black\" points=\"859.54,-108.61 869,-103.85 858.63,-101.67 859.54,-108.61\"/>\n",
       "</g>\n",
       "<!-- 130680728089312max(2.0, &#45;1.0)&#45;&gt;130680728089312 -->\n",
       "<g id=\"edge2\" class=\"edge\">\n",
       "<title>130680728089312max(2.0, &#45;1.0)&#45;&gt;130680728089312</title>\n",
       "<path fill=\"none\" stroke=\"black\" d=\"M487.96,-128.5C498.11,-128.5 508.82,-128.5 519.78,-128.5\"/>\n",
       "<polygon fill=\"black\" stroke=\"black\" points=\"519.91,-132 529.91,-128.5 519.91,-125 519.91,-132\"/>\n",
       "</g>\n",
       "<!-- 130680728085232 -->\n",
       "<g id=\"node8\" class=\"node\">\n",
       "<title>130680728085232</title>\n",
       "<polygon fill=\"none\" stroke=\"black\" points=\"959.29,-82.5 959.29,-118.5 1268.29,-118.5 1268.29,-82.5 959.29,-82.5\"/>\n",
       "<text text-anchor=\"middle\" x=\"969.79\" y=\"-96.8\" font-family=\"Times,serif\" font-size=\"14.00\"> </text>\n",
       "<polyline fill=\"none\" stroke=\"black\" points=\"980.29,-82.5 980.29,-118.5 \"/>\n",
       "<text text-anchor=\"middle\" x=\"1046.29\" y=\"-96.8\" font-family=\"Times,serif\" font-size=\"14.00\">data = &#45;10.0000</text>\n",
       "<polyline fill=\"none\" stroke=\"black\" points=\"1112.29,-82.5 1112.29,-118.5 \"/>\n",
       "<text text-anchor=\"middle\" x=\"1190.29\" y=\"-96.8\" font-family=\"Times,serif\" font-size=\"14.00\">grad = 2.00000000</text>\n",
       "</g>\n",
       "<!-- 130680728085232&#45;&gt;130680728088976* -->\n",
       "<g id=\"edge8\" class=\"edge\">\n",
       "<title>130680728085232&#45;&gt;130680728088976*</title>\n",
       "<path fill=\"none\" stroke=\"black\" d=\"M1253.72,-82.49C1268.8,-80.54 1282.99,-78.7 1294.99,-77.14\"/>\n",
       "<polygon fill=\"black\" stroke=\"black\" points=\"1295.48,-80.61 1304.94,-75.85 1294.58,-73.66 1295.48,-80.61\"/>\n",
       "</g>\n",
       "<!-- 130680728085232+&#45;&gt;130680728085232 -->\n",
       "<g id=\"edge3\" class=\"edge\">\n",
       "<title>130680728085232+&#45;&gt;130680728085232</title>\n",
       "<path fill=\"none\" stroke=\"black\" d=\"M922.84,-100.5C930.34,-100.5 939.11,-100.5 948.7,-100.5\"/>\n",
       "<polygon fill=\"black\" stroke=\"black\" points=\"948.97,-104 958.97,-100.5 948.97,-97 948.97,-104\"/>\n",
       "</g>\n",
       "<!-- 130680728092432 -->\n",
       "<g id=\"node10\" class=\"node\">\n",
       "<title>130680728092432</title>\n",
       "<polygon fill=\"none\" stroke=\"black\" points=\"0.5,-55.5 0.5,-91.5 300.5,-91.5 300.5,-55.5 0.5,-55.5\"/>\n",
       "<text text-anchor=\"middle\" x=\"11\" y=\"-69.8\" font-family=\"Times,serif\" font-size=\"14.00\"> </text>\n",
       "<polyline fill=\"none\" stroke=\"black\" points=\"21.5,-55.5 21.5,-91.5 \"/>\n",
       "<text text-anchor=\"middle\" x=\"83\" y=\"-69.8\" font-family=\"Times,serif\" font-size=\"14.00\">data = &#45;4.0000</text>\n",
       "<polyline fill=\"none\" stroke=\"black\" points=\"144.5,-55.5 144.5,-91.5 \"/>\n",
       "<text text-anchor=\"middle\" x=\"222.5\" y=\"-69.8\" font-family=\"Times,serif\" font-size=\"14.00\">grad = 6.00000000</text>\n",
       "</g>\n",
       "<!-- 130680728092432&#45;&gt;130680728089120* -->\n",
       "<g id=\"edge9\" class=\"edge\">\n",
       "<title>130680728092432&#45;&gt;130680728089120*</title>\n",
       "<path fill=\"none\" stroke=\"black\" d=\"M300.8,-73.5C328.42,-73.5 354.84,-73.5 374.93,-73.5\"/>\n",
       "<polygon fill=\"black\" stroke=\"black\" points=\"375.12,-77 385.12,-73.5 375.12,-70 375.12,-77\"/>\n",
       "</g>\n",
       "<!-- 130680728088976 -->\n",
       "<g id=\"node11\" class=\"node\">\n",
       "<title>130680728088976</title>\n",
       "<polygon fill=\"none\" stroke=\"black\" points=\"1394.79,-54.5 1394.79,-90.5 1703.79,-90.5 1703.79,-54.5 1394.79,-54.5\"/>\n",
       "<text text-anchor=\"middle\" x=\"1405.29\" y=\"-68.8\" font-family=\"Times,serif\" font-size=\"14.00\"> </text>\n",
       "<polyline fill=\"none\" stroke=\"black\" points=\"1415.79,-54.5 1415.79,-90.5 \"/>\n",
       "<text text-anchor=\"middle\" x=\"1481.79\" y=\"-68.8\" font-family=\"Times,serif\" font-size=\"14.00\">data = &#45;20.0000</text>\n",
       "<polyline fill=\"none\" stroke=\"black\" points=\"1547.79,-54.5 1547.79,-90.5 \"/>\n",
       "<text text-anchor=\"middle\" x=\"1625.79\" y=\"-68.8\" font-family=\"Times,serif\" font-size=\"14.00\">grad = 1.00000000</text>\n",
       "</g>\n",
       "<!-- 130680728088976*&#45;&gt;130680728088976 -->\n",
       "<g id=\"edge4\" class=\"edge\">\n",
       "<title>130680728088976*&#45;&gt;130680728088976</title>\n",
       "<path fill=\"none\" stroke=\"black\" d=\"M1359.21,-72.5C1366.47,-72.5 1374.92,-72.5 1384.12,-72.5\"/>\n",
       "<polygon fill=\"black\" stroke=\"black\" points=\"1384.4,-76 1394.4,-72.5 1384.4,-69 1384.4,-76\"/>\n",
       "</g>\n",
       "<!-- 130680728085424 -->\n",
       "<g id=\"node13\" class=\"node\">\n",
       "<title>130680728085424</title>\n",
       "<polygon fill=\"none\" stroke=\"black\" points=\"0,-0.5 0,-36.5 301,-36.5 301,-0.5 0,-0.5\"/>\n",
       "<text text-anchor=\"middle\" x=\"10.5\" y=\"-14.8\" font-family=\"Times,serif\" font-size=\"14.00\"> </text>\n",
       "<polyline fill=\"none\" stroke=\"black\" points=\"21,-0.5 21,-36.5 \"/>\n",
       "<text text-anchor=\"middle\" x=\"80.5\" y=\"-14.8\" font-family=\"Times,serif\" font-size=\"14.00\">data = 3.0000</text>\n",
       "<polyline fill=\"none\" stroke=\"black\" points=\"140,-0.5 140,-36.5 \"/>\n",
       "<text text-anchor=\"middle\" x=\"220.5\" y=\"-14.8\" font-family=\"Times,serif\" font-size=\"14.00\">grad = &#45;8.00000000</text>\n",
       "</g>\n",
       "<!-- 130680728085424&#45;&gt;130680728089120* -->\n",
       "<g id=\"edge11\" class=\"edge\">\n",
       "<title>130680728085424&#45;&gt;130680728089120*</title>\n",
       "<path fill=\"none\" stroke=\"black\" d=\"M252.17,-36.57C268.52,-39.73 285.25,-43.1 301,-46.5 326.64,-52.03 355.42,-59.1 377.17,-64.62\"/>\n",
       "<polygon fill=\"black\" stroke=\"black\" points=\"376.37,-68.03 386.93,-67.11 378.11,-61.24 376.37,-68.03\"/>\n",
       "</g>\n",
       "</g>\n",
       "</svg>\n"
      ],
      "text/plain": [
       "<graphviz.graphs.Digraph at 0x76da7a6061a0>"
      ]
     },
     "execution_count": 171,
     "metadata": {},
     "output_type": "execute_result"
    }
   ],
   "source": [
    "x = Value(+3.0)\n",
    "y = Value(-4.0)\n",
    "z = Value(+2.0)\n",
    "w = Value(-1.0)\n",
    "\n",
    "o = ((x*y) + z.maximum(w)) * 2.0\n",
    "print(o)\n",
    "\n",
    "o.backward()\n",
    "draw_dot(o)"
   ]
  },
  {
   "cell_type": "markdown",
   "metadata": {},
   "source": [
    "# Examine Shape from CS231:"
   ]
  },
  {
   "cell_type": "code",
   "execution_count": 172,
   "metadata": {},
   "outputs": [
    {
     "name": "stdout",
     "output_type": "stream",
     "text": [
      "W: (5, 10)\n",
      "X: (10, 3)\n",
      "D: (5, 3)\n",
      "dD: (5, 3)\n",
      "dW: (5, 10)\n",
      "dX: (10, 3)\n"
     ]
    }
   ],
   "source": [
    "# forward pass\n",
    "W = np.random.randn(5, 10)\n",
    "X = np.random.randn(10, 3)\n",
    "D = np.dot(W, X)\n",
    "\n",
    "print(f'W: {W.shape}')\n",
    "print(f'X: {X.shape}')\n",
    "print(f'D: {D.shape}')\n",
    "\n",
    "# now suppose we had the gradient on D from above in the circuit\n",
    "dD = np.random.randn(*D.shape) # same shape as D\n",
    "print(f'dD: {dD.shape}')\n",
    "\n",
    "dW = dD.dot(X.T) #.T gives the transpose of the matrix\n",
    "print(f'dW: {dW.shape}')\n",
    "\n",
    "dX = W.T.dot(dD)\n",
    "print(f'dX: {dX.shape}')"
   ]
  },
  {
   "cell_type": "code",
   "execution_count": 173,
   "metadata": {},
   "outputs": [
    {
     "name": "stdout",
     "output_type": "stream",
     "text": [
      "[[  15.5   31. ]\n",
      " [ 155.   310. ]\n",
      " [ 775.  1550. ]\n",
      " [3875.  7750. ]]\n"
     ]
    }
   ],
   "source": [
    "X = np.array([\n",
    "    [  1,   2],\n",
    "    [ 10,  20],\n",
    "    [100, 200],\n",
    "])\n",
    "\n",
    "W = np.array([\n",
    "    [0.5, 0.25, 0.125],\n",
    "    [  5,  2.5, 1.250],\n",
    "    [ 25, 12.5, 6.250],\n",
    "    [125, 62.5, 31.25]\n",
    "])\n",
    "\n",
    "D = np.dot(W, X)\n",
    "print(D)"
   ]
  },
  {
   "cell_type": "code",
   "execution_count": 174,
   "metadata": {},
   "outputs": [],
   "source": [
    "# a = Value(1.37)\n",
    "# o = 1/a\n",
    "# o.backward()\n",
    "# draw_dot(o)"
   ]
  },
  {
   "cell_type": "code",
   "execution_count": 175,
   "metadata": {},
   "outputs": [],
   "source": [
    "# import math\n",
    "\n",
    "# w = [2,-3,-3] # assume some random weights and data\n",
    "# x = [-1, -2]\n",
    "\n",
    "# # forward pass\n",
    "# dot = w[0]*x[0] + w[1]*x[1] + w[2]\n",
    "# f = 1.0 / (1 + math.exp(-dot)) # sigmoid function\n",
    "# print(f)\n",
    "\n",
    "# # backward pass through the neuron (backpropagation)\n",
    "# ddot = (1 - f) * f # gradient on dot variable, using the sigmoid gradient derivation\n",
    "\n",
    "# print(ddot)\n",
    "\n",
    "# dx = [w[0] * ddot, w[1] * ddot] # backprop into x\n",
    "# print(dx)\n",
    "# dw = [x[0] * ddot, x[1] * ddot, 1.0 * ddot] # backprop into w\n",
    "# # we're done! we have the gradients on the inputs to the circuit\n",
    "\n",
    "# print(dw)"
   ]
  },
  {
   "cell_type": "code",
   "execution_count": 176,
   "metadata": {},
   "outputs": [],
   "source": [
    "# a = Value(2.5)\n",
    "\n",
    "# o = a**3\n",
    "\n",
    "# o.backward()\n",
    "\n",
    "# draw_dot(o)"
   ]
  },
  {
   "cell_type": "code",
   "execution_count": 177,
   "metadata": {},
   "outputs": [
    {
     "data": {
      "image/svg+xml": [
       "<?xml version=\"1.0\" encoding=\"UTF-8\" standalone=\"no\"?>\n",
       "<!DOCTYPE svg PUBLIC \"-//W3C//DTD SVG 1.1//EN\"\n",
       " \"http://www.w3.org/Graphics/SVG/1.1/DTD/svg11.dtd\">\n",
       "<!-- Generated by graphviz version 2.43.0 (0)\n",
       " -->\n",
       "<!-- Title: %3 Pages: 1 -->\n",
       "<svg width=\"799pt\" height=\"45pt\"\n",
       " viewBox=\"0.00 0.00 799.29 45.00\" xmlns=\"http://www.w3.org/2000/svg\" xmlns:xlink=\"http://www.w3.org/1999/xlink\">\n",
       "<g id=\"graph0\" class=\"graph\" transform=\"scale(1 1) rotate(0) translate(4 41)\">\n",
       "<title>%3</title>\n",
       "<polygon fill=\"white\" stroke=\"transparent\" points=\"-4,4 -4,-41 795.29,-41 795.29,4 -4,4\"/>\n",
       "<!-- 130680728085760 -->\n",
       "<g id=\"node1\" class=\"node\">\n",
       "<title>130680728085760</title>\n",
       "<polygon fill=\"none\" stroke=\"black\" points=\"495.29,-0.5 495.29,-36.5 791.29,-36.5 791.29,-0.5 495.29,-0.5\"/>\n",
       "<text text-anchor=\"middle\" x=\"505.79\" y=\"-14.8\" font-family=\"Times,serif\" font-size=\"14.00\"> </text>\n",
       "<polyline fill=\"none\" stroke=\"black\" points=\"516.29,-0.5 516.29,-36.5 \"/>\n",
       "<text text-anchor=\"middle\" x=\"575.79\" y=\"-14.8\" font-family=\"Times,serif\" font-size=\"14.00\">data = 8.0000</text>\n",
       "<polyline fill=\"none\" stroke=\"black\" points=\"635.29,-0.5 635.29,-36.5 \"/>\n",
       "<text text-anchor=\"middle\" x=\"713.29\" y=\"-14.8\" font-family=\"Times,serif\" font-size=\"14.00\">grad = 1.00000000</text>\n",
       "</g>\n",
       "<!-- 130680728085760pow (2^3) -->\n",
       "<g id=\"node2\" class=\"node\">\n",
       "<title>130680728085760pow (2^3)</title>\n",
       "<ellipse fill=\"none\" stroke=\"black\" cx=\"400.14\" cy=\"-18.5\" rx=\"59.29\" ry=\"18\"/>\n",
       "<text text-anchor=\"middle\" x=\"400.14\" y=\"-14.8\" font-family=\"Times,serif\" font-size=\"14.00\">pow (2^3)</text>\n",
       "</g>\n",
       "<!-- 130680728085760pow (2^3)&#45;&gt;130680728085760 -->\n",
       "<g id=\"edge1\" class=\"edge\">\n",
       "<title>130680728085760pow (2^3)&#45;&gt;130680728085760</title>\n",
       "<path fill=\"none\" stroke=\"black\" d=\"M459.52,-18.5C467.52,-18.5 476.02,-18.5 484.82,-18.5\"/>\n",
       "<polygon fill=\"black\" stroke=\"black\" points=\"484.86,-22 494.86,-18.5 484.86,-15 484.86,-22\"/>\n",
       "</g>\n",
       "<!-- 130680728086672 -->\n",
       "<g id=\"node3\" class=\"node\">\n",
       "<title>130680728086672</title>\n",
       "<polygon fill=\"none\" stroke=\"black\" points=\"0,-0.5 0,-36.5 305,-36.5 305,-0.5 0,-0.5\"/>\n",
       "<text text-anchor=\"middle\" x=\"10.5\" y=\"-14.8\" font-family=\"Times,serif\" font-size=\"14.00\"> </text>\n",
       "<polyline fill=\"none\" stroke=\"black\" points=\"21,-0.5 21,-36.5 \"/>\n",
       "<text text-anchor=\"middle\" x=\"80.5\" y=\"-14.8\" font-family=\"Times,serif\" font-size=\"14.00\">data = 2.0000</text>\n",
       "<polyline fill=\"none\" stroke=\"black\" points=\"140,-0.5 140,-36.5 \"/>\n",
       "<text text-anchor=\"middle\" x=\"222.5\" y=\"-14.8\" font-family=\"Times,serif\" font-size=\"14.00\">grad = 12.00000000</text>\n",
       "</g>\n",
       "<!-- 130680728086672&#45;&gt;130680728085760pow (2^3) -->\n",
       "<g id=\"edge2\" class=\"edge\">\n",
       "<title>130680728086672&#45;&gt;130680728085760pow (2^3)</title>\n",
       "<path fill=\"none\" stroke=\"black\" d=\"M305.23,-18.5C314.02,-18.5 322.6,-18.5 330.77,-18.5\"/>\n",
       "<polygon fill=\"black\" stroke=\"black\" points=\"330.9,-22 340.9,-18.5 330.9,-15 330.9,-22\"/>\n",
       "</g>\n",
       "</g>\n",
       "</svg>\n"
      ],
      "text/plain": [
       "<graphviz.graphs.Digraph at 0x76da7a606830>"
      ]
     },
     "execution_count": 177,
     "metadata": {},
     "output_type": "execute_result"
    }
   ],
   "source": [
    "x = Value(2)\n",
    "o = x**3\n",
    "\n",
    "o.backward()\n",
    "draw_dot(o)"
   ]
  },
  {
   "cell_type": "code",
   "execution_count": 178,
   "metadata": {},
   "outputs": [
    {
     "ename": "AttributeError",
     "evalue": "'Value' object has no attribute 'max'",
     "output_type": "error",
     "traceback": [
      "\u001b[0;31m---------------------------------------------------------------------------\u001b[0m",
      "\u001b[0;31mAttributeError\u001b[0m                            Traceback (most recent call last)",
      "Cell \u001b[0;32mIn[178], line 4\u001b[0m\n\u001b[1;32m      1\u001b[0m x \u001b[38;5;241m=\u001b[39m Value(\u001b[38;5;241m50\u001b[39m); x\u001b[38;5;241m.\u001b[39mlabel \u001b[38;5;241m=\u001b[39m \u001b[38;5;124m'\u001b[39m\u001b[38;5;124mx\u001b[39m\u001b[38;5;124m'\u001b[39m\n\u001b[1;32m      2\u001b[0m y \u001b[38;5;241m=\u001b[39m Value(\u001b[38;5;241m101\u001b[39m); y\u001b[38;5;241m.\u001b[39mlabel \u001b[38;5;241m=\u001b[39m \u001b[38;5;124m'\u001b[39m\u001b[38;5;124my\u001b[39m\u001b[38;5;124m'\u001b[39m\n\u001b[0;32m----> 4\u001b[0m o \u001b[38;5;241m=\u001b[39m \u001b[43mx\u001b[49m\u001b[38;5;241;43m.\u001b[39;49m\u001b[43mmax\u001b[49m(y); o\u001b[38;5;241m.\u001b[39mlabel \u001b[38;5;241m=\u001b[39m \u001b[38;5;124m'\u001b[39m\u001b[38;5;124mo\u001b[39m\u001b[38;5;124m'\u001b[39m\n\u001b[1;32m      6\u001b[0m o\u001b[38;5;241m.\u001b[39mbackward()\n\u001b[1;32m      7\u001b[0m draw_dot(o)\n",
      "\u001b[0;31mAttributeError\u001b[0m: 'Value' object has no attribute 'max'"
     ]
    }
   ],
   "source": [
    "x = Value(50); x.label = 'x'\n",
    "y = Value(101); y.label = 'y'\n",
    "\n",
    "o = x.max(y); o.label = 'o'\n",
    "\n",
    "o.backward()\n",
    "draw_dot(o)"
   ]
  },
  {
   "cell_type": "code",
   "execution_count": null,
   "metadata": {},
   "outputs": [],
   "source": [
    "# Epochs = 5\n",
    "# for i in range(Epochs):\n",
    "#     o.backward()\n",
    "# #end-for\n",
    "# draw_dot(o)"
   ]
  },
  {
   "cell_type": "markdown",
   "metadata": {},
   "source": [
    "# class: Neuron"
   ]
  },
  {
   "cell_type": "code",
   "execution_count": 27,
   "metadata": {},
   "outputs": [],
   "source": [
    "class Neuron:\n",
    "    def __init__(self, N: int, nonlinear: bool = True) -> None:\n",
    "        '''\n",
    "        arguments:\n",
    "            N (int): N indicates the number of input (#N).\n",
    "        return:\n",
    "            None\n",
    "        '''\n",
    "\n",
    "        # V = np.random.randn(N) * np.sqrt(2.0/N)\n",
    "        \n",
    "        # self.W = [Value(v) for v in V]\n",
    "        # self.b = Value(0.0)\n",
    "        # self.nonlinear = True\n",
    "\n",
    "        \n",
    "        self.W = [Value(np.random.uniform(low=-1., high=1.0)) for _ in range(N)]\n",
    "        self.b = Value(0.0)\n",
    "        self.nonlinear = nonlinear\n",
    "\n",
    "\n",
    "        # self.W = [Value(np.random.uniform(low=-1., high=1.0)) for _ in range(N)]\n",
    "        # self.b = Value(np.random.uniform(low=-1., high=1.0))\n",
    "\n",
    "        \n",
    "        # self.W = [Value(3.5) for _ in range(N)]\n",
    "        # self.b = Value(1.5)\n",
    "    #end-def\n",
    "        \n",
    "    def __repr__(self,) -> str:\n",
    "        return f'W:{self.W}\\nb:{self.b:0.4f}'\n",
    "    #end-def\n",
    "\n",
    "    def __call__(self, X):\n",
    "        # block-1: easier to understand\n",
    "        # output = 0.0\n",
    "        # for w, x in zip(self.W, X):\n",
    "        #     output += (w*x)\n",
    "        # #end-for\n",
    "        # output += self.b\n",
    "\n",
    "        # output = output.relu()   \n",
    "\n",
    "        # return output\n",
    "        \n",
    "\n",
    "        # block-2: Rafsanjani\n",
    "        output = sum((w*x) for w, x in zip(self.W, X))\n",
    "        output += self.b\n",
    "        \n",
    "        return output.relu() if self.nonlinear else output\n",
    "\n",
    "        # output = output.relu()\n",
    "        # output = output.tanh()\n",
    "        # return output\n",
    "\n",
    "        # block-3: Rafsanjani\n",
    "        # output = sum((w*x) for w, x in zip(self.W, X)) + self.b\n",
    "        # output = output.relu()\n",
    "        # return output\n",
    "        \n",
    "        # block-4: Dr. Karpathy uses it.\n",
    "        # output = sum(((w*x) for w, x in zip(self.W, X)), self.b)\n",
    "        # output = output.relu()\n",
    "        # return output\n",
    "    #end-def\n",
    "    \n",
    "    def parameters(self):\n",
    "\t    return self.W + [self.b]\n",
    "    #end-def\n",
    "#end-def"
   ]
  },
  {
   "cell_type": "code",
   "execution_count": 40,
   "metadata": {},
   "outputs": [],
   "source": [
    "# N=3\n",
    "# np.random.randn(N) * np.sqrt(2.0/N) # array([ 0.5470442 ,  0.56946514, -0.20639844])"
   ]
  },
  {
   "cell_type": "code",
   "execution_count": 54,
   "metadata": {},
   "outputs": [],
   "source": [
    "# neuron = Neuron(3)\n",
    "# X =[1, 2, 3]\n",
    "# outputs = neuron(X)\n",
    "# outputs"
   ]
  },
  {
   "cell_type": "code",
   "execution_count": 55,
   "metadata": {},
   "outputs": [],
   "source": [
    "# neuron = Neuron(3)\n",
    "# X =[1, 2, 3]\n",
    "# output = neuron(X)\n",
    "\n",
    "# output = output.sigmoid()\n",
    "\n",
    "# print(f'Final Output: {output}')\n",
    "# print(f'Before Final Output: {output.cache}')\n",
    "# print(f'grad: {output.grad}')\n",
    "\n",
    "# draw_dot(output)\n",
    "\n",
    "# Neuron(3)(X) # Value(data=22.5, grad=0.0, label=)\n",
    "\n",
    "# print(output.cache)"
   ]
  },
  {
   "cell_type": "code",
   "execution_count": 62,
   "metadata": {},
   "outputs": [
    {
     "name": "stdout",
     "output_type": "stream",
     "text": [
      "Value(data=0.5, grad=0.0, label=)\n"
     ]
    },
    {
     "data": {
      "image/svg+xml": [
       "<?xml version=\"1.0\" encoding=\"UTF-8\" standalone=\"no\"?>\n",
       "<!DOCTYPE svg PUBLIC \"-//W3C//DTD SVG 1.1//EN\"\n",
       " \"http://www.w3.org/Graphics/SVG/1.1/DTD/svg11.dtd\">\n",
       "<!-- Generated by graphviz version 2.43.0 (0)\n",
       " -->\n",
       "<!-- Title: %3 Pages: 1 -->\n",
       "<svg width=\"3342pt\" height=\"265pt\"\n",
       " viewBox=\"0.00 0.00 3341.69 265.00\" xmlns=\"http://www.w3.org/2000/svg\" xmlns:xlink=\"http://www.w3.org/1999/xlink\">\n",
       "<g id=\"graph0\" class=\"graph\" transform=\"scale(1 1) rotate(0) translate(4 261)\">\n",
       "<title>%3</title>\n",
       "<polygon fill=\"white\" stroke=\"transparent\" points=\"-4,4 -4,-261 3337.69,-261 3337.69,4 -4,4\"/>\n",
       "<!-- 127166942734336 -->\n",
       "<g id=\"node1\" class=\"node\">\n",
       "<title>127166942734336</title>\n",
       "<polygon fill=\"none\" stroke=\"black\" points=\"428,-220.5 428,-256.5 724,-256.5 724,-220.5 428,-220.5\"/>\n",
       "<text text-anchor=\"middle\" x=\"438.5\" y=\"-234.8\" font-family=\"Times,serif\" font-size=\"14.00\"> </text>\n",
       "<polyline fill=\"none\" stroke=\"black\" points=\"449,-220.5 449,-256.5 \"/>\n",
       "<text text-anchor=\"middle\" x=\"508.5\" y=\"-234.8\" font-family=\"Times,serif\" font-size=\"14.00\">data = 0.1687</text>\n",
       "<polyline fill=\"none\" stroke=\"black\" points=\"568,-220.5 568,-256.5 \"/>\n",
       "<text text-anchor=\"middle\" x=\"646\" y=\"-234.8\" font-family=\"Times,serif\" font-size=\"14.00\">grad = 0.00000000</text>\n",
       "</g>\n",
       "<!-- 127166942737936* -->\n",
       "<g id=\"node5\" class=\"node\">\n",
       "<title>127166942737936*</title>\n",
       "<ellipse fill=\"none\" stroke=\"black\" cx=\"789\" cy=\"-183.5\" rx=\"27\" ry=\"18\"/>\n",
       "<text text-anchor=\"middle\" x=\"789\" y=\"-179.8\" font-family=\"Times,serif\" font-size=\"14.00\">*</text>\n",
       "</g>\n",
       "<!-- 127166942734336&#45;&gt;127166942737936* -->\n",
       "<g id=\"edge12\" class=\"edge\">\n",
       "<title>127166942734336&#45;&gt;127166942737936*</title>\n",
       "<path fill=\"none\" stroke=\"black\" d=\"M692.78,-220.41C704.1,-217.78 715.33,-214.82 726,-211.5 736.77,-208.15 748.13,-203.4 758.14,-198.77\"/>\n",
       "<polygon fill=\"black\" stroke=\"black\" points=\"759.75,-201.88 767.27,-194.41 756.73,-195.56 759.75,-201.88\"/>\n",
       "</g>\n",
       "<!-- 127166942730256 -->\n",
       "<g id=\"node2\" class=\"node\">\n",
       "<title>127166942730256</title>\n",
       "<polygon fill=\"none\" stroke=\"black\" points=\"1278,-110.5 1278,-146.5 1578,-146.5 1578,-110.5 1278,-110.5\"/>\n",
       "<text text-anchor=\"middle\" x=\"1288.5\" y=\"-124.8\" font-family=\"Times,serif\" font-size=\"14.00\"> </text>\n",
       "<polyline fill=\"none\" stroke=\"black\" points=\"1299,-110.5 1299,-146.5 \"/>\n",
       "<text text-anchor=\"middle\" x=\"1360.5\" y=\"-124.8\" font-family=\"Times,serif\" font-size=\"14.00\">data = &#45;1.0955</text>\n",
       "<polyline fill=\"none\" stroke=\"black\" points=\"1422,-110.5 1422,-146.5 \"/>\n",
       "<text text-anchor=\"middle\" x=\"1500\" y=\"-124.8\" font-family=\"Times,serif\" font-size=\"14.00\">grad = 0.00000000</text>\n",
       "</g>\n",
       "<!-- 127166942728624+ -->\n",
       "<g id=\"node24\" class=\"node\">\n",
       "<title>127166942728624+</title>\n",
       "<ellipse fill=\"none\" stroke=\"black\" cx=\"1641\" cy=\"-100.5\" rx=\"27\" ry=\"18\"/>\n",
       "<text text-anchor=\"middle\" x=\"1641\" y=\"-96.8\" font-family=\"Times,serif\" font-size=\"14.00\">+</text>\n",
       "</g>\n",
       "<!-- 127166942730256&#45;&gt;127166942728624+ -->\n",
       "<g id=\"edge18\" class=\"edge\">\n",
       "<title>127166942730256&#45;&gt;127166942728624+</title>\n",
       "<path fill=\"none\" stroke=\"black\" d=\"M1564.72,-110.49C1579.17,-108.57 1592.8,-106.76 1604.39,-105.23\"/>\n",
       "<polygon fill=\"black\" stroke=\"black\" points=\"1604.96,-108.68 1614.42,-103.9 1604.04,-101.74 1604.96,-108.68\"/>\n",
       "</g>\n",
       "<!-- 127166942730256+ -->\n",
       "<g id=\"node3\" class=\"node\">\n",
       "<title>127166942730256+</title>\n",
       "<ellipse fill=\"none\" stroke=\"black\" cx=\"1215\" cy=\"-128.5\" rx=\"27\" ry=\"18\"/>\n",
       "<text text-anchor=\"middle\" x=\"1215\" y=\"-124.8\" font-family=\"Times,serif\" font-size=\"14.00\">+</text>\n",
       "</g>\n",
       "<!-- 127166942730256+&#45;&gt;127166942730256 -->\n",
       "<g id=\"edge1\" class=\"edge\">\n",
       "<title>127166942730256+&#45;&gt;127166942730256</title>\n",
       "<path fill=\"none\" stroke=\"black\" d=\"M1242.3,-128.5C1249.68,-128.5 1258.27,-128.5 1267.65,-128.5\"/>\n",
       "<polygon fill=\"black\" stroke=\"black\" points=\"1267.67,-132 1277.67,-128.5 1267.67,-125 1267.67,-132\"/>\n",
       "</g>\n",
       "<!-- 127166942737936 -->\n",
       "<g id=\"node4\" class=\"node\">\n",
       "<title>127166942737936</title>\n",
       "<polygon fill=\"none\" stroke=\"black\" points=\"854,-165.5 854,-201.5 1150,-201.5 1150,-165.5 854,-165.5\"/>\n",
       "<text text-anchor=\"middle\" x=\"864.5\" y=\"-179.8\" font-family=\"Times,serif\" font-size=\"14.00\"> </text>\n",
       "<polyline fill=\"none\" stroke=\"black\" points=\"875,-165.5 875,-201.5 \"/>\n",
       "<text text-anchor=\"middle\" x=\"934.5\" y=\"-179.8\" font-family=\"Times,serif\" font-size=\"14.00\">data = 0.3375</text>\n",
       "<polyline fill=\"none\" stroke=\"black\" points=\"994,-165.5 994,-201.5 \"/>\n",
       "<text text-anchor=\"middle\" x=\"1072\" y=\"-179.8\" font-family=\"Times,serif\" font-size=\"14.00\">grad = 0.00000000</text>\n",
       "</g>\n",
       "<!-- 127166942737936&#45;&gt;127166942730256+ -->\n",
       "<g id=\"edge14\" class=\"edge\">\n",
       "<title>127166942737936&#45;&gt;127166942730256+</title>\n",
       "<path fill=\"none\" stroke=\"black\" d=\"M1118.78,-165.41C1130.1,-162.78 1141.33,-159.82 1152,-156.5 1162.77,-153.15 1174.13,-148.4 1184.14,-143.77\"/>\n",
       "<polygon fill=\"black\" stroke=\"black\" points=\"1185.75,-146.88 1193.27,-139.41 1182.73,-140.56 1185.75,-146.88\"/>\n",
       "</g>\n",
       "<!-- 127166942737936*&#45;&gt;127166942737936 -->\n",
       "<g id=\"edge2\" class=\"edge\">\n",
       "<title>127166942737936*&#45;&gt;127166942737936</title>\n",
       "<path fill=\"none\" stroke=\"black\" d=\"M816.3,-183.5C824.25,-183.5 833.62,-183.5 843.85,-183.5\"/>\n",
       "<polygon fill=\"black\" stroke=\"black\" points=\"843.9,-187 853.9,-183.5 843.9,-180 843.9,-187\"/>\n",
       "</g>\n",
       "<!-- 127166942732368 -->\n",
       "<g id=\"node6\" class=\"node\">\n",
       "<title>127166942732368</title>\n",
       "<polygon fill=\"none\" stroke=\"black\" points=\"428,-165.5 428,-201.5 724,-201.5 724,-165.5 428,-165.5\"/>\n",
       "<text text-anchor=\"middle\" x=\"438.5\" y=\"-179.8\" font-family=\"Times,serif\" font-size=\"14.00\"> </text>\n",
       "<polyline fill=\"none\" stroke=\"black\" points=\"449,-165.5 449,-201.5 \"/>\n",
       "<text text-anchor=\"middle\" x=\"508.5\" y=\"-179.8\" font-family=\"Times,serif\" font-size=\"14.00\">data = 2.0000</text>\n",
       "<polyline fill=\"none\" stroke=\"black\" points=\"568,-165.5 568,-201.5 \"/>\n",
       "<text text-anchor=\"middle\" x=\"646\" y=\"-179.8\" font-family=\"Times,serif\" font-size=\"14.00\">grad = 0.00000000</text>\n",
       "</g>\n",
       "<!-- 127166942732368&#45;&gt;127166942737936* -->\n",
       "<g id=\"edge19\" class=\"edge\">\n",
       "<title>127166942732368&#45;&gt;127166942737936*</title>\n",
       "<path fill=\"none\" stroke=\"black\" d=\"M724.12,-183.5C734.13,-183.5 743.55,-183.5 751.91,-183.5\"/>\n",
       "<polygon fill=\"black\" stroke=\"black\" points=\"751.92,-187 761.92,-183.5 751.92,-180 751.92,-187\"/>\n",
       "</g>\n",
       "<!-- 127166942726752 -->\n",
       "<g id=\"node7\" class=\"node\">\n",
       "<title>127166942726752</title>\n",
       "<polygon fill=\"none\" stroke=\"black\" points=\"2,-83.5 2,-119.5 298,-119.5 298,-83.5 2,-83.5\"/>\n",
       "<text text-anchor=\"middle\" x=\"12.5\" y=\"-97.8\" font-family=\"Times,serif\" font-size=\"14.00\"> </text>\n",
       "<polyline fill=\"none\" stroke=\"black\" points=\"23,-83.5 23,-119.5 \"/>\n",
       "<text text-anchor=\"middle\" x=\"82.5\" y=\"-97.8\" font-family=\"Times,serif\" font-size=\"14.00\">data = 1.0000</text>\n",
       "<polyline fill=\"none\" stroke=\"black\" points=\"142,-83.5 142,-119.5 \"/>\n",
       "<text text-anchor=\"middle\" x=\"220\" y=\"-97.8\" font-family=\"Times,serif\" font-size=\"14.00\">grad = 0.00000000</text>\n",
       "</g>\n",
       "<!-- 127166942726800* -->\n",
       "<g id=\"node12\" class=\"node\">\n",
       "<title>127166942726800*</title>\n",
       "<ellipse fill=\"none\" stroke=\"black\" cx=\"363\" cy=\"-73.5\" rx=\"27\" ry=\"18\"/>\n",
       "<text text-anchor=\"middle\" x=\"363\" y=\"-69.8\" font-family=\"Times,serif\" font-size=\"14.00\">*</text>\n",
       "</g>\n",
       "<!-- 127166942726752&#45;&gt;127166942726800* -->\n",
       "<g id=\"edge15\" class=\"edge\">\n",
       "<title>127166942726752&#45;&gt;127166942726800*</title>\n",
       "<path fill=\"none\" stroke=\"black\" d=\"M286.72,-83.49C301.17,-81.57 314.8,-79.76 326.39,-78.23\"/>\n",
       "<polygon fill=\"black\" stroke=\"black\" points=\"326.96,-81.68 336.42,-76.9 326.04,-74.74 326.96,-81.68\"/>\n",
       "</g>\n",
       "<!-- 127166942729344 -->\n",
       "<g id=\"node8\" class=\"node\">\n",
       "<title>127166942729344</title>\n",
       "<polygon fill=\"none\" stroke=\"black\" points=\"428,-110.5 428,-146.5 724,-146.5 724,-110.5 428,-110.5\"/>\n",
       "<text text-anchor=\"middle\" x=\"438.5\" y=\"-124.8\" font-family=\"Times,serif\" font-size=\"14.00\"> </text>\n",
       "<polyline fill=\"none\" stroke=\"black\" points=\"449,-110.5 449,-146.5 \"/>\n",
       "<text text-anchor=\"middle\" x=\"508.5\" y=\"-124.8\" font-family=\"Times,serif\" font-size=\"14.00\">data = 0.0000</text>\n",
       "<polyline fill=\"none\" stroke=\"black\" points=\"568,-110.5 568,-146.5 \"/>\n",
       "<text text-anchor=\"middle\" x=\"646\" y=\"-124.8\" font-family=\"Times,serif\" font-size=\"14.00\">grad = 0.00000000</text>\n",
       "</g>\n",
       "<!-- 127166942726080+ -->\n",
       "<g id=\"node26\" class=\"node\">\n",
       "<title>127166942726080+</title>\n",
       "<ellipse fill=\"none\" stroke=\"black\" cx=\"789\" cy=\"-128.5\" rx=\"27\" ry=\"18\"/>\n",
       "<text text-anchor=\"middle\" x=\"789\" y=\"-124.8\" font-family=\"Times,serif\" font-size=\"14.00\">+</text>\n",
       "</g>\n",
       "<!-- 127166942729344&#45;&gt;127166942726080+ -->\n",
       "<g id=\"edge25\" class=\"edge\">\n",
       "<title>127166942729344&#45;&gt;127166942726080+</title>\n",
       "<path fill=\"none\" stroke=\"black\" d=\"M724.12,-128.5C734.13,-128.5 743.55,-128.5 751.91,-128.5\"/>\n",
       "<polygon fill=\"black\" stroke=\"black\" points=\"751.92,-132 761.92,-128.5 751.92,-125 751.92,-132\"/>\n",
       "</g>\n",
       "<!-- 127166942736016 -->\n",
       "<g id=\"node9\" class=\"node\">\n",
       "<title>127166942736016</title>\n",
       "<polygon fill=\"none\" stroke=\"black\" points=\"2130,-54.5 2130,-90.5 2430,-90.5 2430,-54.5 2130,-54.5\"/>\n",
       "<text text-anchor=\"middle\" x=\"2140.5\" y=\"-68.8\" font-family=\"Times,serif\" font-size=\"14.00\"> </text>\n",
       "<polyline fill=\"none\" stroke=\"black\" points=\"2151,-54.5 2151,-90.5 \"/>\n",
       "<text text-anchor=\"middle\" x=\"2212.5\" y=\"-68.8\" font-family=\"Times,serif\" font-size=\"14.00\">data = &#45;6.0221</text>\n",
       "<polyline fill=\"none\" stroke=\"black\" points=\"2274,-54.5 2274,-90.5 \"/>\n",
       "<text text-anchor=\"middle\" x=\"2352\" y=\"-68.8\" font-family=\"Times,serif\" font-size=\"14.00\">grad = 0.00000000</text>\n",
       "</g>\n",
       "<!-- 127166942739136ReLU -->\n",
       "<g id=\"node15\" class=\"node\">\n",
       "<title>127166942739136ReLU</title>\n",
       "<ellipse fill=\"none\" stroke=\"black\" cx=\"2502.4\" cy=\"-72.5\" rx=\"36.29\" ry=\"18\"/>\n",
       "<text text-anchor=\"middle\" x=\"2502.4\" y=\"-68.8\" font-family=\"Times,serif\" font-size=\"14.00\">ReLU</text>\n",
       "</g>\n",
       "<!-- 127166942736016&#45;&gt;127166942739136ReLU -->\n",
       "<g id=\"edge13\" class=\"edge\">\n",
       "<title>127166942736016&#45;&gt;127166942739136ReLU</title>\n",
       "<path fill=\"none\" stroke=\"black\" d=\"M2430.14,-72.5C2439.04,-72.5 2447.55,-72.5 2455.4,-72.5\"/>\n",
       "<polygon fill=\"black\" stroke=\"black\" points=\"2455.65,-76 2465.65,-72.5 2455.65,-69 2455.65,-76\"/>\n",
       "</g>\n",
       "<!-- 127166942736016+ -->\n",
       "<g id=\"node10\" class=\"node\">\n",
       "<title>127166942736016+</title>\n",
       "<ellipse fill=\"none\" stroke=\"black\" cx=\"2067\" cy=\"-72.5\" rx=\"27\" ry=\"18\"/>\n",
       "<text text-anchor=\"middle\" x=\"2067\" y=\"-68.8\" font-family=\"Times,serif\" font-size=\"14.00\">+</text>\n",
       "</g>\n",
       "<!-- 127166942736016+&#45;&gt;127166942736016 -->\n",
       "<g id=\"edge3\" class=\"edge\">\n",
       "<title>127166942736016+&#45;&gt;127166942736016</title>\n",
       "<path fill=\"none\" stroke=\"black\" d=\"M2094.3,-72.5C2101.68,-72.5 2110.27,-72.5 2119.65,-72.5\"/>\n",
       "<polygon fill=\"black\" stroke=\"black\" points=\"2119.67,-76 2129.67,-72.5 2119.67,-69 2119.67,-76\"/>\n",
       "</g>\n",
       "<!-- 127166942726800 -->\n",
       "<g id=\"node11\" class=\"node\">\n",
       "<title>127166942726800</title>\n",
       "<polygon fill=\"none\" stroke=\"black\" points=\"426,-55.5 426,-91.5 726,-91.5 726,-55.5 426,-55.5\"/>\n",
       "<text text-anchor=\"middle\" x=\"436.5\" y=\"-69.8\" font-family=\"Times,serif\" font-size=\"14.00\"> </text>\n",
       "<polyline fill=\"none\" stroke=\"black\" points=\"447,-55.5 447,-91.5 \"/>\n",
       "<text text-anchor=\"middle\" x=\"508.5\" y=\"-69.8\" font-family=\"Times,serif\" font-size=\"14.00\">data = &#45;1.4330</text>\n",
       "<polyline fill=\"none\" stroke=\"black\" points=\"570,-55.5 570,-91.5 \"/>\n",
       "<text text-anchor=\"middle\" x=\"648\" y=\"-69.8\" font-family=\"Times,serif\" font-size=\"14.00\">grad = 0.00000000</text>\n",
       "</g>\n",
       "<!-- 127166942726800&#45;&gt;127166942726080+ -->\n",
       "<g id=\"edge11\" class=\"edge\">\n",
       "<title>127166942726800&#45;&gt;127166942726080+</title>\n",
       "<path fill=\"none\" stroke=\"black\" d=\"M688.33,-91.56C701.14,-94.48 713.92,-97.79 726,-101.5 736.52,-104.73 747.65,-109.22 757.53,-113.61\"/>\n",
       "<polygon fill=\"black\" stroke=\"black\" points=\"756.38,-116.93 766.93,-117.91 759.3,-110.57 756.38,-116.93\"/>\n",
       "</g>\n",
       "<!-- 127166942726800*&#45;&gt;127166942726800 -->\n",
       "<g id=\"edge4\" class=\"edge\">\n",
       "<title>127166942726800*&#45;&gt;127166942726800</title>\n",
       "<path fill=\"none\" stroke=\"black\" d=\"M390.3,-73.5C397.68,-73.5 406.27,-73.5 415.65,-73.5\"/>\n",
       "<polygon fill=\"black\" stroke=\"black\" points=\"415.67,-77 425.67,-73.5 415.67,-70 415.67,-77\"/>\n",
       "</g>\n",
       "<!-- 127166942735536 -->\n",
       "<g id=\"node13\" class=\"node\">\n",
       "<title>127166942735536</title>\n",
       "<polygon fill=\"none\" stroke=\"black\" points=\"852,-55.5 852,-91.5 1152,-91.5 1152,-55.5 852,-55.5\"/>\n",
       "<text text-anchor=\"middle\" x=\"862.5\" y=\"-69.8\" font-family=\"Times,serif\" font-size=\"14.00\"> </text>\n",
       "<polyline fill=\"none\" stroke=\"black\" points=\"873,-55.5 873,-91.5 \"/>\n",
       "<text text-anchor=\"middle\" x=\"934.5\" y=\"-69.8\" font-family=\"Times,serif\" font-size=\"14.00\">data = &#45;1.6422</text>\n",
       "<polyline fill=\"none\" stroke=\"black\" points=\"996,-55.5 996,-91.5 \"/>\n",
       "<text text-anchor=\"middle\" x=\"1074\" y=\"-69.8\" font-family=\"Times,serif\" font-size=\"14.00\">grad = 0.00000000</text>\n",
       "</g>\n",
       "<!-- 127166942737120* -->\n",
       "<g id=\"node17\" class=\"node\">\n",
       "<title>127166942737120*</title>\n",
       "<ellipse fill=\"none\" stroke=\"black\" cx=\"1215\" cy=\"-73.5\" rx=\"27\" ry=\"18\"/>\n",
       "<text text-anchor=\"middle\" x=\"1215\" y=\"-69.8\" font-family=\"Times,serif\" font-size=\"14.00\">*</text>\n",
       "</g>\n",
       "<!-- 127166942735536&#45;&gt;127166942737120* -->\n",
       "<g id=\"edge17\" class=\"edge\">\n",
       "<title>127166942735536&#45;&gt;127166942737120*</title>\n",
       "<path fill=\"none\" stroke=\"black\" d=\"M1152.12,-73.5C1161.37,-73.5 1170.07,-73.5 1177.87,-73.5\"/>\n",
       "<polygon fill=\"black\" stroke=\"black\" points=\"1177.9,-77 1187.9,-73.5 1177.9,-70 1177.9,-77\"/>\n",
       "</g>\n",
       "<!-- 127166942739136 -->\n",
       "<g id=\"node14\" class=\"node\">\n",
       "<title>127166942739136</title>\n",
       "<polygon fill=\"none\" stroke=\"black\" points=\"2574.79,-54.5 2574.79,-90.5 2870.79,-90.5 2870.79,-54.5 2574.79,-54.5\"/>\n",
       "<text text-anchor=\"middle\" x=\"2585.29\" y=\"-68.8\" font-family=\"Times,serif\" font-size=\"14.00\"> </text>\n",
       "<polyline fill=\"none\" stroke=\"black\" points=\"2595.79,-54.5 2595.79,-90.5 \"/>\n",
       "<text text-anchor=\"middle\" x=\"2655.29\" y=\"-68.8\" font-family=\"Times,serif\" font-size=\"14.00\">data = 0.0000</text>\n",
       "<polyline fill=\"none\" stroke=\"black\" points=\"2714.79,-54.5 2714.79,-90.5 \"/>\n",
       "<text text-anchor=\"middle\" x=\"2792.79\" y=\"-68.8\" font-family=\"Times,serif\" font-size=\"14.00\">grad = 0.00000000</text>\n",
       "</g>\n",
       "<!-- 127166942738704sigmoid -->\n",
       "<g id=\"node21\" class=\"node\">\n",
       "<title>127166942738704sigmoid</title>\n",
       "<ellipse fill=\"none\" stroke=\"black\" cx=\"2954.24\" cy=\"-72.5\" rx=\"47.39\" ry=\"18\"/>\n",
       "<text text-anchor=\"middle\" x=\"2954.24\" y=\"-68.8\" font-family=\"Times,serif\" font-size=\"14.00\">sigmoid</text>\n",
       "</g>\n",
       "<!-- 127166942739136&#45;&gt;127166942738704sigmoid -->\n",
       "<g id=\"edge21\" class=\"edge\">\n",
       "<title>127166942739136&#45;&gt;127166942738704sigmoid</title>\n",
       "<path fill=\"none\" stroke=\"black\" d=\"M2871.05,-72.5C2879.79,-72.5 2888.25,-72.5 2896.22,-72.5\"/>\n",
       "<polygon fill=\"black\" stroke=\"black\" points=\"2896.38,-76 2906.38,-72.5 2896.38,-69 2896.38,-76\"/>\n",
       "</g>\n",
       "<!-- 127166942739136ReLU&#45;&gt;127166942739136 -->\n",
       "<g id=\"edge5\" class=\"edge\">\n",
       "<title>127166942739136ReLU&#45;&gt;127166942739136</title>\n",
       "<path fill=\"none\" stroke=\"black\" d=\"M2538.97,-72.5C2546.69,-72.5 2555.34,-72.5 2564.55,-72.5\"/>\n",
       "<polygon fill=\"black\" stroke=\"black\" points=\"2564.75,-76 2574.75,-72.5 2564.75,-69 2564.75,-76\"/>\n",
       "</g>\n",
       "<!-- 127166942737120 -->\n",
       "<g id=\"node16\" class=\"node\">\n",
       "<title>127166942737120</title>\n",
       "<polygon fill=\"none\" stroke=\"black\" points=\"1278,-55.5 1278,-91.5 1578,-91.5 1578,-55.5 1278,-55.5\"/>\n",
       "<text text-anchor=\"middle\" x=\"1288.5\" y=\"-69.8\" font-family=\"Times,serif\" font-size=\"14.00\"> </text>\n",
       "<polyline fill=\"none\" stroke=\"black\" points=\"1299,-55.5 1299,-91.5 \"/>\n",
       "<text text-anchor=\"middle\" x=\"1360.5\" y=\"-69.8\" font-family=\"Times,serif\" font-size=\"14.00\">data = &#45;4.9266</text>\n",
       "<polyline fill=\"none\" stroke=\"black\" points=\"1422,-55.5 1422,-91.5 \"/>\n",
       "<text text-anchor=\"middle\" x=\"1500\" y=\"-69.8\" font-family=\"Times,serif\" font-size=\"14.00\">grad = 0.00000000</text>\n",
       "</g>\n",
       "<!-- 127166942737120&#45;&gt;127166942728624+ -->\n",
       "<g id=\"edge16\" class=\"edge\">\n",
       "<title>127166942737120&#45;&gt;127166942728624+</title>\n",
       "<path fill=\"none\" stroke=\"black\" d=\"M1569.74,-91.51C1582.31,-93.12 1594.12,-94.63 1604.35,-95.94\"/>\n",
       "<polygon fill=\"black\" stroke=\"black\" points=\"1604.03,-99.43 1614.39,-97.22 1604.92,-92.48 1604.03,-99.43\"/>\n",
       "</g>\n",
       "<!-- 127166942737120*&#45;&gt;127166942737120 -->\n",
       "<g id=\"edge6\" class=\"edge\">\n",
       "<title>127166942737120*&#45;&gt;127166942737120</title>\n",
       "<path fill=\"none\" stroke=\"black\" d=\"M1242.3,-73.5C1249.68,-73.5 1258.27,-73.5 1267.65,-73.5\"/>\n",
       "<polygon fill=\"black\" stroke=\"black\" points=\"1267.67,-77 1277.67,-73.5 1267.67,-70 1267.67,-77\"/>\n",
       "</g>\n",
       "<!-- 127166942732512 -->\n",
       "<g id=\"node18\" class=\"node\">\n",
       "<title>127166942732512</title>\n",
       "<polygon fill=\"none\" stroke=\"black\" points=\"854,-0.5 854,-36.5 1150,-36.5 1150,-0.5 854,-0.5\"/>\n",
       "<text text-anchor=\"middle\" x=\"864.5\" y=\"-14.8\" font-family=\"Times,serif\" font-size=\"14.00\"> </text>\n",
       "<polyline fill=\"none\" stroke=\"black\" points=\"875,-0.5 875,-36.5 \"/>\n",
       "<text text-anchor=\"middle\" x=\"934.5\" y=\"-14.8\" font-family=\"Times,serif\" font-size=\"14.00\">data = 3.0000</text>\n",
       "<polyline fill=\"none\" stroke=\"black\" points=\"994,-0.5 994,-36.5 \"/>\n",
       "<text text-anchor=\"middle\" x=\"1072\" y=\"-14.8\" font-family=\"Times,serif\" font-size=\"14.00\">grad = 0.00000000</text>\n",
       "</g>\n",
       "<!-- 127166942732512&#45;&gt;127166942737120* -->\n",
       "<g id=\"edge20\" class=\"edge\">\n",
       "<title>127166942732512&#45;&gt;127166942737120*</title>\n",
       "<path fill=\"none\" stroke=\"black\" d=\"M1114.33,-36.56C1127.14,-39.48 1139.92,-42.79 1152,-46.5 1162.52,-49.73 1173.65,-54.22 1183.53,-58.61\"/>\n",
       "<polygon fill=\"black\" stroke=\"black\" points=\"1182.38,-61.93 1192.93,-62.91 1185.3,-55.57 1182.38,-61.93\"/>\n",
       "</g>\n",
       "<!-- 127166942734096 -->\n",
       "<g id=\"node19\" class=\"node\">\n",
       "<title>127166942734096</title>\n",
       "<polygon fill=\"none\" stroke=\"black\" points=\"1706,-27.5 1706,-63.5 2002,-63.5 2002,-27.5 1706,-27.5\"/>\n",
       "<text text-anchor=\"middle\" x=\"1716.5\" y=\"-41.8\" font-family=\"Times,serif\" font-size=\"14.00\"> </text>\n",
       "<polyline fill=\"none\" stroke=\"black\" points=\"1727,-27.5 1727,-63.5 \"/>\n",
       "<text text-anchor=\"middle\" x=\"1786.5\" y=\"-41.8\" font-family=\"Times,serif\" font-size=\"14.00\">data = 0.0000</text>\n",
       "<polyline fill=\"none\" stroke=\"black\" points=\"1846,-27.5 1846,-63.5 \"/>\n",
       "<text text-anchor=\"middle\" x=\"1924\" y=\"-41.8\" font-family=\"Times,serif\" font-size=\"14.00\">grad = 0.00000000</text>\n",
       "</g>\n",
       "<!-- 127166942734096&#45;&gt;127166942736016+ -->\n",
       "<g id=\"edge23\" class=\"edge\">\n",
       "<title>127166942734096&#45;&gt;127166942736016+</title>\n",
       "<path fill=\"none\" stroke=\"black\" d=\"M1995.74,-63.51C2008.31,-65.12 2020.12,-66.63 2030.35,-67.94\"/>\n",
       "<polygon fill=\"black\" stroke=\"black\" points=\"2030.03,-71.43 2040.39,-69.22 2030.92,-64.48 2030.03,-71.43\"/>\n",
       "</g>\n",
       "<!-- 127166942738704 -->\n",
       "<g id=\"node20\" class=\"node\">\n",
       "<title>127166942738704</title>\n",
       "<polygon fill=\"none\" stroke=\"black\" points=\"3037.69,-54.5 3037.69,-90.5 3333.69,-90.5 3333.69,-54.5 3037.69,-54.5\"/>\n",
       "<text text-anchor=\"middle\" x=\"3048.19\" y=\"-68.8\" font-family=\"Times,serif\" font-size=\"14.00\"> </text>\n",
       "<polyline fill=\"none\" stroke=\"black\" points=\"3058.69,-54.5 3058.69,-90.5 \"/>\n",
       "<text text-anchor=\"middle\" x=\"3118.19\" y=\"-68.8\" font-family=\"Times,serif\" font-size=\"14.00\">data = 0.5000</text>\n",
       "<polyline fill=\"none\" stroke=\"black\" points=\"3177.69,-54.5 3177.69,-90.5 \"/>\n",
       "<text text-anchor=\"middle\" x=\"3255.69\" y=\"-68.8\" font-family=\"Times,serif\" font-size=\"14.00\">grad = 0.00000000</text>\n",
       "</g>\n",
       "<!-- 127166942738704sigmoid&#45;&gt;127166942738704 -->\n",
       "<g id=\"edge7\" class=\"edge\">\n",
       "<title>127166942738704sigmoid&#45;&gt;127166942738704</title>\n",
       "<path fill=\"none\" stroke=\"black\" d=\"M3001.95,-72.5C3009.75,-72.5 3018.22,-72.5 3027.08,-72.5\"/>\n",
       "<polygon fill=\"black\" stroke=\"black\" points=\"3027.24,-76 3037.24,-72.5 3027.24,-69 3027.24,-76\"/>\n",
       "</g>\n",
       "<!-- 127166942734768 -->\n",
       "<g id=\"node22\" class=\"node\">\n",
       "<title>127166942734768</title>\n",
       "<polygon fill=\"none\" stroke=\"black\" points=\"0,-28.5 0,-64.5 300,-64.5 300,-28.5 0,-28.5\"/>\n",
       "<text text-anchor=\"middle\" x=\"10.5\" y=\"-42.8\" font-family=\"Times,serif\" font-size=\"14.00\"> </text>\n",
       "<polyline fill=\"none\" stroke=\"black\" points=\"21,-28.5 21,-64.5 \"/>\n",
       "<text text-anchor=\"middle\" x=\"82.5\" y=\"-42.8\" font-family=\"Times,serif\" font-size=\"14.00\">data = &#45;1.4330</text>\n",
       "<polyline fill=\"none\" stroke=\"black\" points=\"144,-28.5 144,-64.5 \"/>\n",
       "<text text-anchor=\"middle\" x=\"222\" y=\"-42.8\" font-family=\"Times,serif\" font-size=\"14.00\">grad = 0.00000000</text>\n",
       "</g>\n",
       "<!-- 127166942734768&#45;&gt;127166942726800* -->\n",
       "<g id=\"edge24\" class=\"edge\">\n",
       "<title>127166942734768&#45;&gt;127166942726800*</title>\n",
       "<path fill=\"none\" stroke=\"black\" d=\"M291.74,-64.51C304.31,-66.12 316.12,-67.63 326.35,-68.94\"/>\n",
       "<polygon fill=\"black\" stroke=\"black\" points=\"326.03,-72.43 336.39,-70.22 326.92,-65.48 326.03,-72.43\"/>\n",
       "</g>\n",
       "<!-- 127166942728624 -->\n",
       "<g id=\"node23\" class=\"node\">\n",
       "<title>127166942728624</title>\n",
       "<polygon fill=\"none\" stroke=\"black\" points=\"1704,-82.5 1704,-118.5 2004,-118.5 2004,-82.5 1704,-82.5\"/>\n",
       "<text text-anchor=\"middle\" x=\"1714.5\" y=\"-96.8\" font-family=\"Times,serif\" font-size=\"14.00\"> </text>\n",
       "<polyline fill=\"none\" stroke=\"black\" points=\"1725,-82.5 1725,-118.5 \"/>\n",
       "<text text-anchor=\"middle\" x=\"1786.5\" y=\"-96.8\" font-family=\"Times,serif\" font-size=\"14.00\">data = &#45;6.0221</text>\n",
       "<polyline fill=\"none\" stroke=\"black\" points=\"1848,-82.5 1848,-118.5 \"/>\n",
       "<text text-anchor=\"middle\" x=\"1926\" y=\"-96.8\" font-family=\"Times,serif\" font-size=\"14.00\">grad = 0.00000000</text>\n",
       "</g>\n",
       "<!-- 127166942728624&#45;&gt;127166942736016+ -->\n",
       "<g id=\"edge22\" class=\"edge\">\n",
       "<title>127166942728624&#45;&gt;127166942736016+</title>\n",
       "<path fill=\"none\" stroke=\"black\" d=\"M1990.72,-82.49C2005.17,-80.57 2018.8,-78.76 2030.39,-77.23\"/>\n",
       "<polygon fill=\"black\" stroke=\"black\" points=\"2030.96,-80.68 2040.42,-75.9 2030.04,-73.74 2030.96,-80.68\"/>\n",
       "</g>\n",
       "<!-- 127166942728624+&#45;&gt;127166942728624 -->\n",
       "<g id=\"edge8\" class=\"edge\">\n",
       "<title>127166942728624+&#45;&gt;127166942728624</title>\n",
       "<path fill=\"none\" stroke=\"black\" d=\"M1668.3,-100.5C1675.68,-100.5 1684.27,-100.5 1693.65,-100.5\"/>\n",
       "<polygon fill=\"black\" stroke=\"black\" points=\"1693.67,-104 1703.67,-100.5 1693.67,-97 1693.67,-104\"/>\n",
       "</g>\n",
       "<!-- 127166942726080 -->\n",
       "<g id=\"node25\" class=\"node\">\n",
       "<title>127166942726080</title>\n",
       "<polygon fill=\"none\" stroke=\"black\" points=\"852,-110.5 852,-146.5 1152,-146.5 1152,-110.5 852,-110.5\"/>\n",
       "<text text-anchor=\"middle\" x=\"862.5\" y=\"-124.8\" font-family=\"Times,serif\" font-size=\"14.00\"> </text>\n",
       "<polyline fill=\"none\" stroke=\"black\" points=\"873,-110.5 873,-146.5 \"/>\n",
       "<text text-anchor=\"middle\" x=\"934.5\" y=\"-124.8\" font-family=\"Times,serif\" font-size=\"14.00\">data = &#45;1.4330</text>\n",
       "<polyline fill=\"none\" stroke=\"black\" points=\"996,-110.5 996,-146.5 \"/>\n",
       "<text text-anchor=\"middle\" x=\"1074\" y=\"-124.8\" font-family=\"Times,serif\" font-size=\"14.00\">grad = 0.00000000</text>\n",
       "</g>\n",
       "<!-- 127166942726080&#45;&gt;127166942730256+ -->\n",
       "<g id=\"edge10\" class=\"edge\">\n",
       "<title>127166942726080&#45;&gt;127166942730256+</title>\n",
       "<path fill=\"none\" stroke=\"black\" d=\"M1152.12,-128.5C1161.37,-128.5 1170.07,-128.5 1177.87,-128.5\"/>\n",
       "<polygon fill=\"black\" stroke=\"black\" points=\"1177.9,-132 1187.9,-128.5 1177.9,-125 1177.9,-132\"/>\n",
       "</g>\n",
       "<!-- 127166942726080+&#45;&gt;127166942726080 -->\n",
       "<g id=\"edge9\" class=\"edge\">\n",
       "<title>127166942726080+&#45;&gt;127166942726080</title>\n",
       "<path fill=\"none\" stroke=\"black\" d=\"M816.3,-128.5C823.68,-128.5 832.27,-128.5 841.65,-128.5\"/>\n",
       "<polygon fill=\"black\" stroke=\"black\" points=\"841.67,-132 851.67,-128.5 841.67,-125 841.67,-132\"/>\n",
       "</g>\n",
       "</g>\n",
       "</svg>\n"
      ],
      "text/plain": [
       "<graphviz.graphs.Digraph at 0x73a85c72c0a0>"
      ]
     },
     "execution_count": 62,
     "metadata": {},
     "output_type": "execute_result"
    }
   ],
   "source": [
    "neuron = Neuron(3)\n",
    "X =[1, 2, 3]\n",
    "output = neuron(X)\n",
    "\n",
    "output = output.sigmoid()\n",
    "print(output)\n",
    "draw_dot(output)\n",
    "\n",
    "# Neuron(3)(X) # Value(data=22.5, grad=0.0, label=)"
   ]
  },
  {
   "cell_type": "code",
   "execution_count": null,
   "metadata": {},
   "outputs": [],
   "source": []
  },
  {
   "cell_type": "code",
   "execution_count": null,
   "metadata": {},
   "outputs": [],
   "source": [
    "# n = Neuron(3)\n",
    "# X = [1, 2, 3]\n",
    "\n",
    "# o = n(X)\n",
    "\n",
    "# o.backward()\n",
    "\n",
    "# draw_dot(o)"
   ]
  },
  {
   "cell_type": "code",
   "execution_count": null,
   "metadata": {},
   "outputs": [],
   "source": [
    "# a = Value(10)\n",
    "# o = a.tanh()\n",
    "\n",
    "# o.backward()\n",
    "\n",
    "# draw_dot(o)"
   ]
  },
  {
   "cell_type": "code",
   "execution_count": null,
   "metadata": {},
   "outputs": [],
   "source": [
    "# x1 = Value(2.0,  label='x1')\n",
    "# w1 = Value(-3.0, label='w1')\n",
    "\n",
    "\n",
    "# x2 = Value(0.0, label='x2')\n",
    "# w2 = Value(1.0, label='w2')\n",
    "\n",
    "\n",
    "# b  = Value(6.88, label='b') # When b = 6.88, 1-o^2 = 0.50\n",
    "\n",
    "\n",
    "# x1w1 = x1*w1; x1w1.label = 'x1*w1'\n",
    "# x2w2 = x2*w2; x2w2.label = 'x2*w2'\n",
    "\n",
    "\n",
    "# x1w1x2w2 = x1w1 + x2w2\n",
    "# x1w1x2w2.label = '(x1*w1) + (x2*w2)'\n",
    "\n",
    "\n",
    "# n = x1w1x2w2 + b; n.label = 'n'\n",
    "# # print(n)\n",
    "\n",
    "\n",
    "# o = n.tanh(); o.label = 'o'\n",
    "# # print(o)\n",
    "\n",
    "\n",
    "# # show grads:\n",
    "# draw_dot(o)"
   ]
  },
  {
   "cell_type": "code",
   "execution_count": null,
   "metadata": {},
   "outputs": [],
   "source": [
    "# o.backward()\n",
    "\n",
    "# draw_dot(o)"
   ]
  },
  {
   "cell_type": "code",
   "execution_count": null,
   "metadata": {},
   "outputs": [],
   "source": [
    "# a = Value(15)\n",
    "# o = a.sigmoid()\n",
    "# o.backward()\n",
    "\n",
    "# draw_dot(o)"
   ]
  },
  {
   "cell_type": "code",
   "execution_count": null,
   "metadata": {},
   "outputs": [],
   "source": [
    "# x = torch.tensor([10], dtype=float, requires_grad=True)\n",
    "\n",
    "# # Tanh shows \"Vanishing Gradient\" (if x>5): gradient of a (∂o/∂x) x: 0.00018158 → 0.0\n",
    "# # o = torch.tanh(x)\n",
    "\n",
    "\n",
    "# # Sigmoid shows \"Vanishing Gradient\" (if x>5): gradient of a (∂o/∂x) x: 0.00004540 → 0.0\n",
    "# # o = torch.sigmoid(x)\n",
    "# # Sigmoid gets \"zero\" more quickly compared to Tanh.\n",
    "\n",
    "\n",
    "# # However, ReLU shows \"No Vanishing Gradient\": gradient of a (∂o/∂x) x: 1.00000000\n",
    "# o = torch.relu(x)\n",
    "# # That is why, ReLU is popular.\n",
    "\n",
    "# o.backward()\n",
    "\n",
    "# print(f'gradient of a (∂o/∂x) x: {x.grad.item():0.8f}')"
   ]
  },
  {
   "cell_type": "code",
   "execution_count": null,
   "metadata": {},
   "outputs": [],
   "source": [
    "# Epochs = 5\n",
    "# for i in range(Epochs):\n",
    "#     o.backward()\n",
    "# #end-for\n",
    "\n",
    "# dot = draw_dot(o)\n",
    "\n",
    "# dot.render('1-neuron.pdf', view=True)"
   ]
  },
  {
   "cell_type": "code",
   "execution_count": null,
   "metadata": {},
   "outputs": [],
   "source": [
    "# n = Neuron(3)\n",
    "\n",
    "### n.W\n",
    "# Output:\n",
    "# [Value(data=3.5, grad=0.0, label=),\n",
    "#  Value(data=3.5, grad=0.0, label=),\n",
    "#  Value(data=3.5, grad=0.0, label=)]\n",
    "\n",
    "### n.b\n",
    "# Output:\n",
    "# Value(data=1.5, grad=0.0, label=)\n",
    "\n",
    "# X = [1,]\n",
    "# o = n(X)\n",
    "# draw_dot(o)"
   ]
  },
  {
   "cell_type": "markdown",
   "metadata": {},
   "source": [
    "# class: Layer"
   ]
  },
  {
   "cell_type": "code",
   "execution_count": 5,
   "metadata": {},
   "outputs": [],
   "source": [
    "class Layer:\n",
    "    def __init__(self, N_in: int = 3, N_out: int =4, **kwargs) -> None:\n",
    "        self.neurons = [Neuron(N_in, **kwargs) for _ in range(N_out)]\n",
    "    #end-def\n",
    "        \n",
    "    def __repr__(self,) -> str:\n",
    "        return f'Neurons: {self.neurons}'\n",
    "    #end-def\n",
    "    \n",
    "    def __call__(self, X):\n",
    "        outputs = [neuron(X) for neuron  in self.neurons]\n",
    "        return outputs[0] if len(outputs) == 1 else outputs\n",
    "        # return outputs\n",
    "    #end-def\n",
    "\n",
    "    def parameters(self):\n",
    "\t    return [p for neuron in self.neurons for p in neuron.parameters()]\n",
    "    \n",
    "        # params = []\n",
    "        # for neuron in self.neurons:\n",
    "        # \tps = neuron.parameters()\n",
    "        # \tparams.extend(ps)\n",
    "        # #end-for\n",
    "        # return params\n",
    "    #end-def\n",
    "#end-def"
   ]
  },
  {
   "cell_type": "code",
   "execution_count": null,
   "metadata": {},
   "outputs": [],
   "source": [
    "# X = [1, 2, 3]\n",
    "# layer = Layer(N_in=3, N_out=4)\n",
    "# v = []\n",
    "# for neuron in layer.neurons:\n",
    "#     v.append(neuron(X))\n",
    "#     # break"
   ]
  },
  {
   "cell_type": "code",
   "execution_count": null,
   "metadata": {},
   "outputs": [],
   "source": [
    "# layer = Layer(3, 4)\n",
    "# for neuron in layer.neurons:\n",
    "#     print(neuron.W)"
   ]
  },
  {
   "cell_type": "code",
   "execution_count": null,
   "metadata": {},
   "outputs": [],
   "source": [
    "# X =[1, 2, 3]\n",
    "# layer = Layer(3, 4)\n",
    "# neurons = layer(X)\n",
    "# # print(neurons)\n",
    "\n",
    "# # print(neurons[0])\n",
    "\n",
    "# # draw_dot(neurons[0])\n",
    "\n",
    "# for neuron in neurons:\n",
    "#     # print(neuron)\n",
    "#     draw_dot(neuron)"
   ]
  },
  {
   "cell_type": "code",
   "execution_count": null,
   "metadata": {},
   "outputs": [],
   "source": [
    "# # l = Layer(3, 4)\n",
    "# # X = [1, 2, 3]\n",
    "\n",
    "# # l(X)\n",
    "\n",
    "# # print(o)\n",
    "# # draw_dot(o)\n",
    "\n",
    "# # print(l)\n",
    "\n",
    "# # layer = Layer(2, 3)\n",
    "# # # this layer has 3 neurons, each neuron has 2 input\n",
    "# # for neuron in layer.neurons:\n",
    "# #     print (neuron.w)\n",
    "\n",
    "# X = [1, 2, 3]\n",
    "# layer = Layer(3, 4)\n",
    "# v = layer(X)\n",
    "# v\n",
    "# # draw_dot(v)\n",
    "\n",
    "\n",
    "# # for neuron in layer.neurons:\n",
    "# #     print(neuron)\n",
    "# # #end-for"
   ]
  },
  {
   "cell_type": "code",
   "execution_count": null,
   "metadata": {},
   "outputs": [],
   "source": [
    "# class MLP:\n",
    "#     def __init__(self, N_in, N_outs) -> None:\n",
    "#         sz = [N_in] + N_outs # [3] + [4, 4, 1] → [3, 4, 4, 1]\n",
    "#         self.layers = [Layer(sz[i], sz[i+1]) for i in range(len(N_outs))]\n",
    "#     #end-def\n",
    "    \n",
    "#     def __repr__(self,) -> str:\n",
    "#         pass\n",
    "#     #end-def\n",
    "    \n",
    "#     def __call__(self, X):\n",
    "#         for layer in self.layers:\n",
    "#             X = layer(X)\n",
    "#         #end-for\n",
    "#         return X\n",
    "#     #end-def\n",
    "# #end-class"
   ]
  },
  {
   "cell_type": "markdown",
   "metadata": {},
   "source": [
    "# class: MLP"
   ]
  },
  {
   "cell_type": "code",
   "execution_count": 6,
   "metadata": {},
   "outputs": [],
   "source": [
    "class MLP:\n",
    "    def __init__(self, N_in, N_outs) -> None:\n",
    "        size = [N_in] + N_outs\n",
    "        self.layers = [Layer(size[i], size[i+1], nonlinear=i!=len(N_outs)-1) for i in range(len(N_outs))]\n",
    "        # print(N_in, N_outs)\n",
    "    #end-def\n",
    "    \n",
    "    # def __repr__(self,) -> str:\n",
    "    #     pass\n",
    "    # #end-def\n",
    "\n",
    "    def __repr__(self):\n",
    "        return f\"MLP of [{', '.join(str(layer) for layer in self.layers)}]\"\n",
    "    #end-def\n",
    "\n",
    "    def __call__(self, X):\n",
    "        # print(f'{len(self.layers)}')\n",
    "        # print(f'{self.layers[0]}')\n",
    "        for layer in self.layers:\n",
    "            X = layer(X)\n",
    "            # print(f'{len(X)}')\n",
    "        #end-for\n",
    "        return X\n",
    "    #end-def\n",
    "\n",
    "    def parameters(self):\n",
    "        return [p for layer in self.layers for p in layer.parameters()]\n",
    "    \n",
    "        # params = []\n",
    "        # for layer in self.layers:\n",
    "        #     ps = layer.parameters()\n",
    "        #     params.extend(ps)\n",
    "        # #end-for\n",
    "        # return params\n",
    "    #end-def\n",
    "#end-class"
   ]
  },
  {
   "cell_type": "code",
   "execution_count": 65,
   "metadata": {},
   "outputs": [
    {
     "name": "stdout",
     "output_type": "stream",
     "text": [
      "Value(data=7.1200687731556656, grad=1.0, label=)\n",
      "Value(data=0.9999986919734668, grad=0.0, label=)\n"
     ]
    }
   ],
   "source": [
    "# X = [\n",
    "#     [1, 2, 3],\n",
    "#     [1, 2, 3],\n",
    "#     [1, 2, 3],\n",
    "#     [1, 2, 3],\n",
    "#     [1, 2, 3],\n",
    "# ]\n",
    "\n",
    "X = [1, 2, 3]\n",
    "\n",
    "model = MLP(3, [4, 4, 1])\n",
    "o = model(X)\n",
    "\n",
    "# o\n",
    "o.backward()\n",
    "print(o)\n",
    "print(o.tanh())\n",
    "# draw_dot(o)"
   ]
  },
  {
   "cell_type": "code",
   "execution_count": 66,
   "metadata": {},
   "outputs": [
    {
     "data": {
      "text/plain": [
       "[Value(data=0.12292750846853098, grad=0.0, label=),\n",
       " Value(data=0.32061680343482185, grad=0.0, label=),\n",
       " Value(data=0.1980447673221174, grad=0.0, label=),\n",
       " Value(data=0.2178546641957853, grad=0.0, label=)]"
      ]
     },
     "execution_count": 66,
     "metadata": {},
     "output_type": "execute_result"
    }
   ],
   "source": [
    "model = MLP(3, [4, 4, 1])\n",
    "\n",
    "# X = [\n",
    "#     [1,      2,     3],\n",
    "#     [10,    20,    30],\n",
    "#     [100,  200,   300],\n",
    "#     [1000, 2000, 3000],\n",
    "# ]\n",
    "\n",
    "# Y = [1, -1, -1, 1]\n",
    "\n",
    "X = [\n",
    "    [2,   3,  -1],\n",
    "    [3,  -1, 0.5],\n",
    "    [0.5, 1,   1],\n",
    "    [1,   1,  -1],\n",
    "]\n",
    "\n",
    "Y = [1, -1, -1, 1]\n",
    "\n",
    "Yp = [model(x) for x in X]\n",
    "# print(Ypred)\n",
    "Yp"
   ]
  },
  {
   "cell_type": "code",
   "execution_count": 67,
   "metadata": {},
   "outputs": [
    {
     "data": {
      "text/plain": [
       "41"
      ]
     },
     "execution_count": 67,
     "metadata": {},
     "output_type": "execute_result"
    }
   ],
   "source": [
    "len(model.parameters())"
   ]
  },
  {
   "cell_type": "code",
   "execution_count": null,
   "metadata": {},
   "outputs": [],
   "source": [
    "# draw_dot(Yp[1])"
   ]
  },
  {
   "cell_type": "code",
   "execution_count": null,
   "metadata": {},
   "outputs": [
    {
     "data": {
      "text/plain": [
       "Value(data=4.707201333836983, grad=0.0, label=)"
      ]
     },
     "execution_count": 125,
     "metadata": {},
     "output_type": "execute_result"
    }
   ],
   "source": [
    "loss = sum([(y-yp)**2.0 for (y, yp) in zip(Y, Yp)])\n",
    "loss"
   ]
  },
  {
   "cell_type": "code",
   "execution_count": null,
   "metadata": {},
   "outputs": [],
   "source": [
    "# dot = draw_dot(loss)\n",
    "# dot.render('MLP_Network_4_inputs', view=False)"
   ]
  },
  {
   "cell_type": "code",
   "execution_count": null,
   "metadata": {},
   "outputs": [],
   "source": [
    "loss.backward()"
   ]
  },
  {
   "cell_type": "code",
   "execution_count": null,
   "metadata": {},
   "outputs": [],
   "source": [
    "# draw_dot(loss)"
   ]
  },
  {
   "cell_type": "code",
   "execution_count": null,
   "metadata": {},
   "outputs": [
    {
     "data": {
      "text/plain": [
       "Value(data=-0.007141511430650257, grad=0.1143084144284877, label=)"
      ]
     },
     "execution_count": 129,
     "metadata": {},
     "output_type": "execute_result"
    }
   ],
   "source": [
    "model.layers[0].neurons[0].W[0]"
   ]
  },
  {
   "cell_type": "code",
   "execution_count": null,
   "metadata": {},
   "outputs": [
    {
     "data": {
      "text/plain": [
       "0.1143084144284877"
      ]
     },
     "execution_count": 130,
     "metadata": {},
     "output_type": "execute_result"
    }
   ],
   "source": [
    "model.layers[0].neurons[0].W[0].grad"
   ]
  },
  {
   "cell_type": "code",
   "execution_count": null,
   "metadata": {},
   "outputs": [
    {
     "data": {
      "text/plain": [
       "41"
      ]
     },
     "execution_count": 131,
     "metadata": {},
     "output_type": "execute_result"
    }
   ],
   "source": [
    "len(model.parameters())"
   ]
  },
  {
   "cell_type": "code",
   "execution_count": null,
   "metadata": {},
   "outputs": [],
   "source": [
    "params = model.parameters()\n",
    "\n",
    "for param in params:\n",
    "    # print(param)\n",
    "    param.data += - (0.01 * param.grad)\n",
    "    # print(param)\n",
    "#end-for"
   ]
  },
  {
   "cell_type": "code",
   "execution_count": null,
   "metadata": {},
   "outputs": [
    {
     "data": {
      "text/plain": [
       "Value(data=-0.008284595574935135, grad=0.1143084144284877, label=)"
      ]
     },
     "execution_count": 133,
     "metadata": {},
     "output_type": "execute_result"
    }
   ],
   "source": [
    "model.layers[0].neurons[0].W[0]"
   ]
  },
  {
   "cell_type": "code",
   "execution_count": null,
   "metadata": {},
   "outputs": [
    {
     "data": {
      "text/plain": [
       "9.999999999998899e-05"
      ]
     },
     "execution_count": 134,
     "metadata": {},
     "output_type": "execute_result"
    }
   ],
   "source": [
    "0.2893 - 0.2892"
   ]
  },
  {
   "cell_type": "code",
   "execution_count": null,
   "metadata": {},
   "outputs": [],
   "source": [
    "params = model.parameters()\n",
    "\n",
    "step_size = 0.01 # learning_rate"
   ]
  },
  {
   "cell_type": "code",
   "execution_count": null,
   "metadata": {},
   "outputs": [
    {
     "data": {
      "text/plain": [
       "-0.008284595574935135"
      ]
     },
     "execution_count": 136,
     "metadata": {},
     "output_type": "execute_result"
    }
   ],
   "source": [
    "params[0].data"
   ]
  },
  {
   "cell_type": "code",
   "execution_count": null,
   "metadata": {},
   "outputs": [
    {
     "data": {
      "text/plain": [
       "-0.008284595574935135"
      ]
     },
     "execution_count": 137,
     "metadata": {},
     "output_type": "execute_result"
    }
   ],
   "source": [
    "model.layers[0].neurons[0].W[0].data"
   ]
  },
  {
   "cell_type": "code",
   "execution_count": null,
   "metadata": {},
   "outputs": [
    {
     "name": "stdout",
     "output_type": "stream",
     "text": [
      "[1, 2, 3, 10, 20, 30]\n"
     ]
    }
   ],
   "source": [
    "# [3.5, 3.5, 3.5] + [1.5] # [3.5, 3.5, 3.5, 1.5]\n",
    "\n",
    "v1 = [1, 2, 3]\n",
    "v2 = [10, 20, 30]\n",
    "# v.append(1)\n",
    "v1.extend(v2)\n",
    "print(v1)\n",
    "\n",
    "# v1 + v2"
   ]
  },
  {
   "cell_type": "code",
   "execution_count": null,
   "metadata": {},
   "outputs": [
    {
     "data": {
      "text/plain": [
       "[1, 2, 3, 10, 20, 30]"
      ]
     },
     "execution_count": 139,
     "metadata": {},
     "output_type": "execute_result"
    }
   ],
   "source": [
    "v1 = [1, 2, 3]\n",
    "v2 = [10, 20, 30]\n",
    "v1+v2"
   ]
  },
  {
   "cell_type": "code",
   "execution_count": null,
   "metadata": {},
   "outputs": [],
   "source": [
    "# Fun fact about Python. You can use a sum function to flatten nested lists. \n",
    "# l=[['a', 'b', 'c'], ['1', '2'], ['#']]\n",
    "# sum(l, [])\n",
    "# Result:\n",
    "# ['a', 'b', 'c', '1', '2', '#']"
   ]
  },
  {
   "cell_type": "code",
   "execution_count": null,
   "metadata": {},
   "outputs": [
    {
     "data": {
      "text/plain": [
       "['a', 'b', 1, 2, '#']"
      ]
     },
     "execution_count": 141,
     "metadata": {},
     "output_type": "execute_result"
    }
   ],
   "source": [
    "# V = [\n",
    "#     ['a', 'b'],\n",
    "#     ['1', '2'],\n",
    "#     ['#']\n",
    "# ]\n",
    "\n",
    "V = [\n",
    "    ['a', 'b'],\n",
    "    [1, 2],\n",
    "    ['#']\n",
    "]\n",
    "\n",
    "sum(V, [])"
   ]
  },
  {
   "cell_type": "markdown",
   "metadata": {},
   "source": [
    "# forward pass, backward pass, update - 1:"
   ]
  },
  {
   "cell_type": "code",
   "execution_count": null,
   "metadata": {},
   "outputs": [],
   "source": [
    "model = MLP(3, [4, 4, 1])\n",
    "o = model(X)"
   ]
  },
  {
   "cell_type": "code",
   "execution_count": null,
   "metadata": {},
   "outputs": [],
   "source": [
    "X = [\n",
    "    [2,   3,  -1],\n",
    "    [3,  -1, 0.5],\n",
    "    [0.5, 1,   1],\n",
    "    [1,   1,  -1],\n",
    "]\n",
    "\n",
    "Y = [1, -1, -1, 1]"
   ]
  },
  {
   "cell_type": "code",
   "execution_count": null,
   "metadata": {},
   "outputs": [
    {
     "data": {
      "text/plain": [
       "Value(data=4.0, grad=0.0, label=)"
      ]
     },
     "execution_count": 28,
     "metadata": {},
     "output_type": "execute_result"
    }
   ],
   "source": [
    "Yp = [model(x) for x in X]\n",
    "\n",
    "loss = sum([(y-yp)**2.0 for (y, yp) in zip(Y, Yp)])\n",
    "loss"
   ]
  },
  {
   "cell_type": "code",
   "execution_count": null,
   "metadata": {},
   "outputs": [],
   "source": [
    "loss.backward()"
   ]
  },
  {
   "cell_type": "code",
   "execution_count": null,
   "metadata": {},
   "outputs": [],
   "source": [
    "params = model.parameters()\n",
    "\n",
    "for param in params:\n",
    "    param.data += - (0.01 * param.grad)\n",
    "#end-for"
   ]
  },
  {
   "cell_type": "markdown",
   "metadata": {},
   "source": [
    "# forward pass, backward pass, update - 2:"
   ]
  },
  {
   "cell_type": "code",
   "execution_count": 38,
   "metadata": {},
   "outputs": [
    {
     "name": "stdout",
     "output_type": "stream",
     "text": [
      "number of parameters 41\n"
     ]
    }
   ],
   "source": [
    "model = MLP(3, [4, 4, 1])\n",
    "\n",
    "# X = [\n",
    "#     [2,   3,  -1],\n",
    "#     [3,  -1, 0.5],\n",
    "#     [0.5, 1,   1],\n",
    "#     [1,   1,  -1],\n",
    "# ]\n",
    "\n",
    "# Y = [1, -1, -1, 1]\n",
    "\n",
    "\n",
    "X = [\n",
    "    [0, 0],\n",
    "    [0, 1],\n",
    "    [1, 0],\n",
    "    [1, 1],\n",
    "]\n",
    "\n",
    "Y = [0, 1, 1, 0]\n",
    "\n",
    "print(\"number of parameters\", len(model.parameters()))"
   ]
  },
  {
   "cell_type": "code",
   "execution_count": 39,
   "metadata": {},
   "outputs": [],
   "source": [
    "# def showOutput(O):\n",
    "#     for o in O:\n",
    "#         print(f'{o.data:0.4f}', end=', ')\n",
    "#     #end-for\n",
    "#     print()\n",
    "# #end-def"
   ]
  },
  {
   "cell_type": "code",
   "execution_count": 40,
   "metadata": {},
   "outputs": [],
   "source": [
    "# for x in X:\n",
    "#     print(model(x))\n",
    "#     # break"
   ]
  },
  {
   "cell_type": "code",
   "execution_count": 41,
   "metadata": {},
   "outputs": [
    {
     "name": "stdout",
     "output_type": "stream",
     "text": [
      "Epach: [500/5000], Loss: 0.4016166546876543\n",
      "Epach: [1000/5000], Loss: 0.11675796422802807\n",
      "Epach: [1500/5000], Loss: 0.057998226783657285\n",
      "Epach: [2000/5000], Loss: 0.036531265501424125\n",
      "Epach: [2500/5000], Loss: 0.025986249938124043\n",
      "Epach: [3000/5000], Loss: 0.019872110431233502\n",
      "Epach: [3500/5000], Loss: 0.015952745080973364\n",
      "Epach: [4000/5000], Loss: 0.013248988378678467\n",
      "Epach: [4500/5000], Loss: 0.01128736227540274\n",
      "Epach: [5000/5000], Loss: 0.009801695047448886\n"
     ]
    }
   ],
   "source": [
    "epochs = 5000\n",
    "\n",
    "losses = []\n",
    "\n",
    "for epoch in range(1, epochs+1):\n",
    "\n",
    "    # Step-1: forward pass:\n",
    "    Yp = [model(x).sigmoid() for x in X]\n",
    "\n",
    "    # showOutput(Yp)\n",
    "    \n",
    "    loss = sum([(y-yp)**2.0 for (y, yp) in zip(Y, Yp)])\n",
    "\n",
    "   \n",
    "    # print(f'epach:{epoch}, loss:{loss.data:0.6f}')\n",
    "    losses.append(loss.data)\n",
    "\n",
    "    # Step-2: backward pass:\n",
    "    for param in model.parameters():\n",
    "        param.grad = 0.0\n",
    "    #end-for\n",
    "    loss.backward()\n",
    "\n",
    "\n",
    "    # Step-3: update parameters:\n",
    "    for param in model.parameters():\n",
    "        param.data += - (0.01 * param.grad)\n",
    "    #end-for\n",
    "        \n",
    "    if (epoch+1) % 500 == 0:\n",
    "        print(f'Epach: [{epoch+1}/{epochs}], Loss: {loss.data}')\n",
    "    #end-if/else\n",
    "#end-for"
   ]
  },
  {
   "cell_type": "code",
   "execution_count": 44,
   "metadata": {},
   "outputs": [
    {
     "data": {
      "image/png": "[encoded data removed]",
      "text/plain": [
       "<Figure size 640x480 with 1 Axes>"
      ]
     },
     "metadata": {},
     "output_type": "display_data"
    }
   ],
   "source": [
    "def lossPlot(data):\n",
    "    plt.title(label='Graph: Loss vs. Epoch', fontsize=16)\n",
    "\n",
    "    plt.plot(data, label='Training Loss', marker='.')\n",
    "    plt.plot(np.arange(len(data)), np.zeros(len(data)), label='expected loss', marker='.', color='red')\n",
    "\n",
    "    plt.xlabel('Epoch', fontsize=16)\n",
    "    plt.ylabel('Loss',  fontsize=16)\n",
    "    plt.legend()\n",
    "    \n",
    "    plt.savefig(fname='Loss_vs_Epoch.png', dpi=300)\n",
    "\n",
    "    plt.show()\n",
    "#end-def\n",
    "    \n",
    "lossPlot(losses)"
   ]
  },
  {
   "cell_type": "code",
   "execution_count": 43,
   "metadata": {},
   "outputs": [
    {
     "data": {
      "text/plain": [
       "[0.0098353795444713,\n",
       " 0.009832588230119442,\n",
       " 0.009829798509005663,\n",
       " 0.009827365552288447,\n",
       " 0.00982593081359587,\n",
       " 0.009822941902278065,\n",
       " 0.009820029356069196,\n",
       " 0.009817152528759792,\n",
       " 0.00981441047116877,\n",
       " 0.009811666841170874,\n",
       " 0.009808888590622138,\n",
       " 0.00980613247262034,\n",
       " 0.009803403675581683,\n",
       " 0.009801695047448886]"
      ]
     },
     "execution_count": 43,
     "metadata": {},
     "output_type": "execute_result"
    }
   ],
   "source": [
    "losses[-15:-1]"
   ]
  },
  {
   "cell_type": "code",
   "execution_count": null,
   "metadata": {},
   "outputs": [
    {
     "data": {
      "image/png": "[encoded data removed]",
      "text/plain": [
       "<Figure size 640x480 with 1 Axes>"
      ]
     },
     "metadata": {},
     "output_type": "display_data"
    }
   ],
   "source": [
    "def lossPlot(data):\n",
    "    plt.title(label='Graph: Loss vs. Epoch', fontsize=16)\n",
    "\n",
    "    plt.plot(data, label='Training Loss', marker='.')\n",
    "    plt.plot(np.arange(len(data)), np.zeros(len(data)), label='expected loss', marker='.', color='red')\n",
    "\n",
    "    plt.xlabel('Epoch', fontsize=16)\n",
    "    plt.ylabel('Loss',  fontsize=16)\n",
    "    plt.legend()\n",
    "    \n",
    "    plt.savefig(fname='Loss_vs_Epoch.png', dpi=300)\n",
    "\n",
    "    plt.show()\n",
    "#end-def\n",
    "    \n",
    "lossPlot(losses)"
   ]
  },
  {
   "cell_type": "code",
   "execution_count": null,
   "metadata": {},
   "outputs": [
    {
     "data": {
      "text/plain": [
       "0.014257334954911986"
      ]
     },
     "execution_count": 46,
     "metadata": {},
     "output_type": "execute_result"
    }
   ],
   "source": [
    "losses[-1]"
   ]
  },
  {
   "cell_type": "code",
   "execution_count": null,
   "metadata": {},
   "outputs": [
    {
     "data": {
      "text/plain": [
       "[Value(data=0.028722579050088508, grad=0.057445158100177016, label=),\n",
       " Value(data=0.8509629844287769, grad=-0.2980740311424461, label=),\n",
       " Value(data=0.8404316195892355, grad=-0.319136760821529, label=),\n",
       " Value(data=0.06494328818958452, grad=0.12988657637916903, label=)]"
      ]
     },
     "execution_count": 31,
     "metadata": {},
     "output_type": "execute_result"
    }
   ],
   "source": [
    "Yp"
   ]
  },
  {
   "cell_type": "code",
   "execution_count": null,
   "metadata": {},
   "outputs": [],
   "source": []
  },
  {
   "cell_type": "markdown",
   "metadata": {},
   "source": [
    "## Test:"
   ]
  },
  {
   "cell_type": "code",
   "execution_count": null,
   "metadata": {},
   "outputs": [
    {
     "data": {
      "image/png": "[encoded data removed]",
      "text/plain": [
       "<Figure size 500x500 with 1 Axes>"
      ]
     },
     "metadata": {},
     "output_type": "display_data"
    }
   ],
   "source": [
    "from sklearn.datasets import make_moons, make_blobs\n",
    "X, Y = make_moons(n_samples=100, noise=0.1)\n",
    "\n",
    "# Y = Y*2-1 # make y be -1 or 1\n",
    "# visualize in 2D\n",
    "plt.figure(figsize=(5,5))\n",
    "plt.scatter(X[:,0], X[:,1], c=Y, s=20, cmap='jet')\n",
    "plt.show()"
   ]
  },
  {
   "cell_type": "markdown",
   "metadata": {},
   "source": [
    "# forward pass, backward pass, update - 2:"
   ]
  },
  {
   "cell_type": "code",
   "execution_count": null,
   "metadata": {},
   "outputs": [
    {
     "data": {
      "text/plain": [
       "array([1, 0, 0, 1, 1, 1, 1, 1, 1, 1, 1, 0, 1, 1, 0, 0, 1, 0, 0, 0, 1, 1,\n",
       "       1, 0, 0, 1, 1, 0, 0, 1, 1, 1, 1, 1, 1, 1, 0, 0, 0, 1, 1, 1, 1, 1,\n",
       "       1, 1, 1, 0, 0, 0, 0, 0, 0, 0, 0, 0, 0, 1, 0, 1, 1, 1, 0, 0, 1, 0,\n",
       "       0, 0, 0, 0, 0, 0, 1, 1, 1, 0, 0, 1, 0, 1, 1, 0, 1, 1, 0, 1, 1, 0,\n",
       "       0, 0, 1, 0, 0, 1, 0, 0, 1, 0, 0, 0])"
      ]
     },
     "execution_count": 13,
     "metadata": {},
     "output_type": "execute_result"
    }
   ],
   "source": [
    "# X.shape # (100, 2)\n",
    "\n",
    "Y"
   ]
  },
  {
   "cell_type": "code",
   "execution_count": null,
   "metadata": {},
   "outputs": [
    {
     "name": "stdout",
     "output_type": "stream",
     "text": [
      "number of parameters 337\n"
     ]
    }
   ],
   "source": [
    "model = MLP(2, [16, 16, 1]) # 2-layer neural network\n",
    "# print(model)\n",
    "print(\"number of parameters\", len(model.parameters()))"
   ]
  },
  {
   "cell_type": "code",
   "execution_count": null,
   "metadata": {},
   "outputs": [
    {
     "name": "stdout",
     "output_type": "stream",
     "text": [
      "epach:0, step_size=0.01, loss:33.429021\n",
      "epach:1, step_size=0.01, loss:21.241940\n",
      "epach:2, step_size=0.01, loss:16.115835\n",
      "epach:3, step_size=0.01, loss:15.762202\n",
      "epach:4, step_size=0.01, loss:15.469830\n",
      "epach:5, step_size=0.01, loss:15.227900\n",
      "epach:6, step_size=0.01, loss:15.023747\n",
      "epach:7, step_size=0.01, loss:14.847855\n",
      "epach:8, step_size=0.01, loss:14.693751\n",
      "epach:9, step_size=0.01, loss:14.556928\n",
      "epach:10, step_size=0.01, loss:14.434103\n",
      "epach:11, step_size=0.01, loss:14.322801\n",
      "epach:12, step_size=0.01, loss:14.221112\n",
      "epach:13, step_size=0.01, loss:14.127531\n",
      "epach:14, step_size=0.01, loss:14.040856\n",
      "epach:15, step_size=0.01, loss:13.960115\n",
      "epach:16, step_size=0.01, loss:13.884518\n",
      "epach:17, step_size=0.01, loss:13.813412\n",
      "epach:18, step_size=0.01, loss:13.746259\n",
      "epach:19, step_size=0.01, loss:13.682606\n",
      "epach:20, step_size=0.01, loss:13.622070\n",
      "epach:21, step_size=0.01, loss:13.564322\n",
      "epach:22, step_size=0.01, loss:13.509081\n",
      "epach:23, step_size=0.01, loss:13.456100\n",
      "epach:24, step_size=0.01, loss:13.405158\n",
      "epach:25, step_size=0.01, loss:13.356063\n",
      "epach:26, step_size=0.01, loss:13.308639\n",
      "epach:27, step_size=0.01, loss:13.262727\n",
      "epach:28, step_size=0.01, loss:13.218183\n",
      "epach:29, step_size=0.01, loss:13.174875\n",
      "epach:30, step_size=0.01, loss:13.132681\n",
      "epach:31, step_size=0.01, loss:13.091490\n",
      "epach:32, step_size=0.01, loss:13.051199\n",
      "epach:33, step_size=0.01, loss:13.011712\n",
      "epach:34, step_size=0.01, loss:12.972942\n",
      "epach:35, step_size=0.01, loss:12.934805\n",
      "epach:36, step_size=0.01, loss:12.897227\n",
      "epach:37, step_size=0.01, loss:12.860137\n",
      "epach:38, step_size=0.01, loss:12.823469\n",
      "epach:39, step_size=0.01, loss:12.787164\n",
      "epach:40, step_size=0.01, loss:12.751164\n",
      "epach:41, step_size=0.01, loss:12.715418\n",
      "epach:42, step_size=0.01, loss:12.679875\n",
      "epach:43, step_size=0.01, loss:12.644492\n",
      "epach:44, step_size=0.01, loss:12.609223\n",
      "epach:45, step_size=0.01, loss:12.574032\n",
      "epach:46, step_size=0.01, loss:12.538879\n",
      "epach:47, step_size=0.01, loss:12.503730\n",
      "epach:48, step_size=0.01, loss:12.468553\n",
      "epach:49, step_size=0.01, loss:12.433317\n",
      "epach:50, step_size=0.01, loss:12.397993\n",
      "epach:51, step_size=0.01, loss:12.362556\n",
      "epach:52, step_size=0.01, loss:12.326979\n",
      "epach:53, step_size=0.01, loss:12.291239\n",
      "epach:54, step_size=0.01, loss:12.255313\n",
      "epach:55, step_size=0.01, loss:12.219179\n",
      "epach:56, step_size=0.01, loss:12.182816\n",
      "epach:57, step_size=0.01, loss:12.146204\n",
      "epach:58, step_size=0.01, loss:12.109323\n",
      "epach:59, step_size=0.01, loss:12.072153\n",
      "epach:60, step_size=0.01, loss:12.034673\n",
      "epach:61, step_size=0.01, loss:11.996862\n",
      "epach:62, step_size=0.01, loss:11.958696\n",
      "epach:63, step_size=0.01, loss:11.920153\n",
      "epach:64, step_size=0.01, loss:11.881205\n",
      "epach:65, step_size=0.01, loss:11.841822\n",
      "epach:66, step_size=0.01, loss:11.801972\n",
      "epach:67, step_size=0.01, loss:11.761617\n",
      "epach:68, step_size=0.01, loss:11.720714\n",
      "epach:69, step_size=0.01, loss:11.679213\n",
      "epach:70, step_size=0.01, loss:11.637059\n",
      "epach:71, step_size=0.01, loss:11.594185\n",
      "epach:72, step_size=0.01, loss:11.550517\n",
      "epach:73, step_size=0.01, loss:11.505966\n",
      "epach:74, step_size=0.01, loss:11.460433\n",
      "epach:75, step_size=0.01, loss:11.413801\n",
      "epach:76, step_size=0.01, loss:11.365941\n",
      "epach:77, step_size=0.01, loss:11.316703\n",
      "epach:78, step_size=0.01, loss:11.265923\n",
      "epach:79, step_size=0.01, loss:11.213421\n",
      "epach:80, step_size=0.01, loss:11.159011\n",
      "epach:81, step_size=0.01, loss:11.102507\n",
      "epach:82, step_size=0.01, loss:11.043744\n",
      "epach:83, step_size=0.01, loss:10.982606\n",
      "epach:84, step_size=0.01, loss:10.919060\n",
      "epach:85, step_size=0.01, loss:10.853206\n",
      "epach:86, step_size=0.01, loss:10.785317\n",
      "epach:87, step_size=0.01, loss:10.715866\n",
      "epach:88, step_size=0.01, loss:10.645517\n",
      "epach:89, step_size=0.01, loss:10.575059\n",
      "epach:90, step_size=0.01, loss:10.505295\n",
      "epach:91, step_size=0.01, loss:10.436917\n",
      "epach:92, step_size=0.01, loss:10.370411\n",
      "epach:93, step_size=0.01, loss:10.306030\n",
      "epach:94, step_size=0.01, loss:10.243826\n",
      "epach:95, step_size=0.01, loss:10.183724\n",
      "epach:96, step_size=0.01, loss:10.125587\n",
      "epach:97, step_size=0.01, loss:10.069266\n",
      "epach:98, step_size=0.01, loss:10.014626\n",
      "epach:99, step_size=0.01, loss:9.961556\n",
      "epach:100, step_size=0.01, loss:9.909962\n",
      "epach:101, step_size=0.01, loss:9.859769\n",
      "epach:102, step_size=0.01, loss:9.810916\n",
      "epach:103, step_size=0.01, loss:9.763351\n",
      "epach:104, step_size=0.01, loss:9.717028\n",
      "epach:105, step_size=0.01, loss:9.671908\n",
      "epach:106, step_size=0.01, loss:9.627957\n",
      "epach:107, step_size=0.01, loss:9.585140\n",
      "epach:108, step_size=0.01, loss:9.543428\n",
      "epach:109, step_size=0.01, loss:9.502792\n",
      "epach:110, step_size=0.01, loss:9.463205\n",
      "epach:111, step_size=0.01, loss:9.424641\n",
      "epach:112, step_size=0.01, loss:9.387074\n",
      "epach:113, step_size=0.01, loss:9.350480\n",
      "epach:114, step_size=0.01, loss:9.314833\n",
      "epach:115, step_size=0.01, loss:9.280112\n",
      "epach:116, step_size=0.01, loss:9.246291\n",
      "epach:117, step_size=0.01, loss:9.213348\n",
      "epach:118, step_size=0.01, loss:9.181261\n",
      "epach:119, step_size=0.01, loss:9.150007\n",
      "epach:120, step_size=0.01, loss:9.119563\n",
      "epach:121, step_size=0.01, loss:9.089909\n",
      "epach:122, step_size=0.01, loss:9.061023\n",
      "epach:123, step_size=0.01, loss:9.032884\n",
      "epach:124, step_size=0.01, loss:9.005471\n",
      "epach:125, step_size=0.01, loss:8.978764\n",
      "epach:126, step_size=0.01, loss:8.952743\n",
      "epach:127, step_size=0.01, loss:8.927388\n",
      "epach:128, step_size=0.01, loss:8.902681\n",
      "epach:129, step_size=0.01, loss:8.878603\n",
      "epach:130, step_size=0.01, loss:8.855135\n",
      "epach:131, step_size=0.01, loss:8.832259\n",
      "epach:132, step_size=0.01, loss:8.809958\n",
      "epach:133, step_size=0.01, loss:8.788214\n",
      "epach:134, step_size=0.01, loss:8.767011\n",
      "epach:135, step_size=0.01, loss:8.746334\n",
      "epach:136, step_size=0.01, loss:8.726164\n",
      "epach:137, step_size=0.01, loss:8.706489\n",
      "epach:138, step_size=0.01, loss:8.687291\n",
      "epach:139, step_size=0.01, loss:8.668557\n",
      "epach:140, step_size=0.01, loss:8.650273\n",
      "epach:141, step_size=0.01, loss:8.632424\n",
      "epach:142, step_size=0.01, loss:8.614997\n",
      "epach:143, step_size=0.01, loss:8.597980\n",
      "epach:144, step_size=0.01, loss:8.581359\n",
      "epach:145, step_size=0.01, loss:8.565122\n",
      "epach:146, step_size=0.01, loss:8.549257\n",
      "epach:147, step_size=0.01, loss:8.533753\n",
      "epach:148, step_size=0.01, loss:8.518599\n",
      "epach:149, step_size=0.01, loss:8.503784\n",
      "epach:150, step_size=0.01, loss:8.489296\n"
     ]
    }
   ],
   "source": [
    "epochs = 150\n",
    "\n",
    "losses = []\n",
    "\n",
    "for epoch in range(0, epochs+1):\n",
    "\n",
    "    # Step-1: forward pass:\n",
    "    Yp = [model(x).sigmoid() for x in X]\n",
    "    loss = sum([(y-yp)**2.0 for (y, yp) in zip(Y, Yp)])\n",
    "    \n",
    "    # Step-2: backward pass:\n",
    "    for param in model.parameters():\n",
    "        param.grad = 0.0\n",
    "    #end-for\n",
    "    loss.backward()\n",
    "\n",
    "\n",
    "    # Step-3: update parameters:\n",
    "    # step_size = 1.0 - ((0.9*epoch)/100.0)\n",
    "    step_size = 0.01\n",
    "    for param in model.parameters():\n",
    "        param.data += - (step_size * param.grad)\n",
    "    #end-for\n",
    "        \n",
    "    #outputs:\n",
    "    print(f'epach:{epoch}, step_size={step_size}, loss:{loss.data:0.6f}')\n",
    "    losses.append(loss.data)\n",
    "#end-for"
   ]
  },
  {
   "cell_type": "code",
   "execution_count": null,
   "metadata": {},
   "outputs": [
    {
     "data": {
      "text/plain": [
       "8.489296327324723"
      ]
     },
     "execution_count": 27,
     "metadata": {},
     "output_type": "execute_result"
    }
   ],
   "source": [
    "losses[-1]"
   ]
  },
  {
   "cell_type": "code",
   "execution_count": null,
   "metadata": {},
   "outputs": [
    {
     "data": {
      "image/png": "[encoded data removed]",
      "text/plain": [
       "<Figure size 640x480 with 1 Axes>"
      ]
     },
     "metadata": {},
     "output_type": "display_data"
    }
   ],
   "source": [
    "lossPlot(losses)"
   ]
  },
  {
   "cell_type": "markdown",
   "metadata": {},
   "source": [
    "## prima diabetes:"
   ]
  },
  {
   "cell_type": "code",
   "execution_count": null,
   "metadata": {},
   "outputs": [],
   "source": [
    "import pandas as pd\n",
    "\n",
    "# Load the dataset\n",
    "df = pd.read_csv('diabetes.csv')\n",
    "\n",
    "data = df.to_numpy() # Convert the dataset to a NumPy array\n",
    "\n",
    "# Print the shape of the array\n",
    "# print(data.shape)\n",
    "# print(data)\n",
    "\n",
    "X = data[:,:-1]\n",
    "# print(X.shape)\n",
    "Y = data[:,-1]\n",
    "# print(Y)"
   ]
  },
  {
   "cell_type": "code",
   "execution_count": null,
   "metadata": {},
   "outputs": [
    {
     "name": "stdout",
     "output_type": "stream",
     "text": [
      "number of parameters 705\n"
     ]
    }
   ],
   "source": [
    "model = MLP(8, [16, 16, 16, 1])\n",
    "# print(model)\n",
    "print(\"number of parameters\", len(model.parameters()))"
   ]
  },
  {
   "cell_type": "code",
   "execution_count": null,
   "metadata": {},
   "outputs": [
    {
     "name": "stdout",
     "output_type": "stream",
     "text": [
      "epach:0, step_size=0.01, loss:192.000000\n",
      "epach:1, step_size=0.01, loss:192.000000\n",
      "epach:2, step_size=0.01, loss:192.000000\n",
      "epach:3, step_size=0.01, loss:192.000000\n",
      "epach:4, step_size=0.01, loss:192.000000\n",
      "epach:5, step_size=0.01, loss:192.000000\n",
      "epach:6, step_size=0.01, loss:192.000000\n",
      "epach:7, step_size=0.01, loss:192.000000\n",
      "epach:8, step_size=0.01, loss:192.000000\n"
     ]
    }
   ],
   "source": [
    "epochs = 10\n",
    "\n",
    "losses = []\n",
    "\n",
    "for epoch in range(0, epochs+1):\n",
    "\n",
    "    # Step-1: forward pass:\n",
    "    Yp = [model(x).sigmoid() for x in X]\n",
    "    loss = sum([(y-yp)**2.0 for (y, yp) in zip(Y, Yp)])\n",
    "    \n",
    "    # Step-2: backward pass:\n",
    "    for param in model.parameters():\n",
    "        param.grad = 0.0\n",
    "    #end-for\n",
    "    loss.backward()\n",
    "\n",
    "\n",
    "    # Step-3: update parameters:\n",
    "    # step_size = 1.0 - ((0.9*epoch)/100.0)\n",
    "    step_size = 0.01\n",
    "    for param in model.parameters():\n",
    "        param.data += - (step_size * param.grad)\n",
    "    #end-for\n",
    "        \n",
    "    #outputs:\n",
    "    print(f'epach:{epoch}, step_size={step_size}, loss:{loss.data:0.6f}')\n",
    "    losses.append(loss.data)\n",
    "#end-for"
   ]
  },
  {
   "cell_type": "code",
   "execution_count": null,
   "metadata": {},
   "outputs": [],
   "source": [
    "Yp = [model(x) for x in X]"
   ]
  },
  {
   "cell_type": "code",
   "execution_count": null,
   "metadata": {},
   "outputs": [
    {
     "name": "stdout",
     "output_type": "stream",
     "text": [
      "[Value(data=0.6224593312018546, grad=0.0, label=), Value(data=0.6224593312018546, grad=0.0, label=), Value(data=0.6224593312018546, grad=0.0, label=), Value(data=0.6224593312018546, grad=0.0, label=), Value(data=0.6224593312018546, grad=0.0, label=), Value(data=0.6224593312018546, grad=0.0, label=), Value(data=0.6224593312018546, grad=0.0, label=), Value(data=0.6224593312018546, grad=0.0, label=), Value(data=0.6224593312018546, grad=0.0, label=), Value(data=0.6224593312018546, grad=0.0, label=), Value(data=0.7308944777905114, grad=0.0, label=), Value(data=0.6224593312018546, grad=0.0, label=), Value(data=0.6224593312018546, grad=0.0, label=), Value(data=0.7310585786300049, grad=0.0, label=), Value(data=0.6224593312018546, grad=0.0, label=), Value(data=0.6224593312018546, grad=0.0, label=), Value(data=0.6224593312018546, grad=0.0, label=), Value(data=0.6224593312018546, grad=0.0, label=), Value(data=0.6224593312018546, grad=0.0, label=), Value(data=0.6224593312018546, grad=0.0, label=), Value(data=0.6224593312018546, grad=0.0, label=), Value(data=0.6224593312018546, grad=0.0, label=), Value(data=0.6224593312018546, grad=0.0, label=), Value(data=0.6224593312018546, grad=0.0, label=), Value(data=0.6224593312018546, grad=0.0, label=), Value(data=0.6224593312018546, grad=0.0, label=), Value(data=0.6224593312018546, grad=0.0, label=), Value(data=0.6224593312018546, grad=0.0, label=), Value(data=0.6224593312018546, grad=0.0, label=), Value(data=0.6224593312018546, grad=0.0, label=), Value(data=0.6224593312018546, grad=0.0, label=), Value(data=0.6224593312018546, grad=0.0, label=), Value(data=0.6224593312018546, grad=0.0, label=), Value(data=0.7310428321466131, grad=0.0, label=), Value(data=0.6224593312018546, grad=0.0, label=), Value(data=0.6224593312018546, grad=0.0, label=), Value(data=0.6224593312018546, grad=0.0, label=), Value(data=0.6224593312018546, grad=0.0, label=), Value(data=0.6224593312018546, grad=0.0, label=), Value(data=0.6224593312018546, grad=0.0, label=), Value(data=0.6224593312018546, grad=0.0, label=), Value(data=0.6224593312018546, grad=0.0, label=), Value(data=0.6224593312018546, grad=0.0, label=), Value(data=0.6224593312018546, grad=0.0, label=), Value(data=0.6224593312018546, grad=0.0, label=), Value(data=0.6224593312018546, grad=0.0, label=), Value(data=0.6224593312018546, grad=0.0, label=), Value(data=0.7288867997759111, grad=0.0, label=), Value(data=0.6224593312018546, grad=0.0, label=), Value(data=0.6224593312018546, grad=0.0, label=), Value(data=0.6224593312018546, grad=0.0, label=), Value(data=0.6224593312018546, grad=0.0, label=), Value(data=0.6224593312018546, grad=0.0, label=), Value(data=0.6224593312018546, grad=0.0, label=), Value(data=0.6224593312018546, grad=0.0, label=), Value(data=0.6224593312018546, grad=0.0, label=), Value(data=0.6224593312018546, grad=0.0, label=), Value(data=0.6224593312018546, grad=0.0, label=), Value(data=0.6224593312018546, grad=0.0, label=), Value(data=0.6224593312018546, grad=0.0, label=), Value(data=0.6224593312018546, grad=0.0, label=), Value(data=0.6224593312018546, grad=0.0, label=), Value(data=0.6224593312018546, grad=0.0, label=), Value(data=0.6224593312018546, grad=0.0, label=), Value(data=0.6224593312018546, grad=0.0, label=), Value(data=0.6224593312018546, grad=0.0, label=), Value(data=0.6224593312018546, grad=0.0, label=), Value(data=0.6224593312018546, grad=0.0, label=), Value(data=0.6224593312018546, grad=0.0, label=), Value(data=0.6224593312018546, grad=0.0, label=), Value(data=0.6224593312018546, grad=0.0, label=), Value(data=0.6224593312018546, grad=0.0, label=), Value(data=0.6224593312018546, grad=0.0, label=), Value(data=0.6224593312018546, grad=0.0, label=), Value(data=0.7280224737114354, grad=0.0, label=), Value(data=0.6224593312018546, grad=0.0, label=), Value(data=0.6224593312018546, grad=0.0, label=), Value(data=0.6224593312018546, grad=0.0, label=), Value(data=0.6224593312018546, grad=0.0, label=), Value(data=0.6224593312018546, grad=0.0, label=), Value(data=0.6224593312018546, grad=0.0, label=), Value(data=0.6224593312018546, grad=0.0, label=), Value(data=0.6224593312018546, grad=0.0, label=), Value(data=0.6224593312018546, grad=0.0, label=), Value(data=0.7307981723475502, grad=0.0, label=), Value(data=0.6224593312018546, grad=0.0, label=), Value(data=0.6224593312018546, grad=0.0, label=), Value(data=0.6224593312018546, grad=0.0, label=), Value(data=0.6224593312018546, grad=0.0, label=), Value(data=0.631092908031848, grad=0.0, label=), Value(data=0.6284863091242403, grad=0.0, label=), Value(data=0.6224593312018546, grad=0.0, label=), Value(data=0.6224593312018546, grad=0.0, label=), Value(data=0.6224593312018546, grad=0.0, label=), Value(data=0.6224593312018546, grad=0.0, label=), Value(data=0.6224593312018546, grad=0.0, label=), Value(data=0.6224593312018546, grad=0.0, label=), Value(data=0.6224593312018546, grad=0.0, label=), Value(data=0.6224593312018546, grad=0.0, label=), Value(data=0.6224593312018546, grad=0.0, label=), Value(data=0.6224593312018546, grad=0.0, label=), Value(data=0.6224593312018546, grad=0.0, label=), Value(data=0.7310585639711671, grad=0.0, label=), Value(data=0.6224593312018546, grad=0.0, label=), Value(data=0.6224593312018546, grad=0.0, label=), Value(data=0.6224593312018546, grad=0.0, label=), Value(data=0.7310585547436909, grad=0.0, label=), Value(data=0.6224593312018546, grad=0.0, label=), Value(data=0.6224593312018546, grad=0.0, label=), Value(data=0.6224593312018546, grad=0.0, label=), Value(data=0.6224593312018546, grad=0.0, label=), Value(data=0.6224593312018546, grad=0.0, label=), Value(data=0.6224593312018546, grad=0.0, label=), Value(data=0.7041169965886606, grad=0.0, label=), Value(data=0.6224593312018546, grad=0.0, label=), Value(data=0.6224593312018546, grad=0.0, label=), Value(data=0.6224593312018546, grad=0.0, label=), Value(data=0.6224593312018546, grad=0.0, label=), Value(data=0.6224593312018546, grad=0.0, label=), Value(data=0.6224593312018546, grad=0.0, label=), Value(data=0.6224593312018546, grad=0.0, label=), Value(data=0.6224593312018546, grad=0.0, label=), Value(data=0.6224593312018546, grad=0.0, label=), Value(data=0.6224593312018546, grad=0.0, label=), Value(data=0.7303776228271458, grad=0.0, label=), Value(data=0.6224593312018546, grad=0.0, label=), Value(data=0.6224593312018546, grad=0.0, label=), Value(data=0.6224593312018546, grad=0.0, label=), Value(data=0.6224593312018546, grad=0.0, label=), Value(data=0.6224593312018546, grad=0.0, label=), Value(data=0.6224593312018546, grad=0.0, label=), Value(data=0.6224593312018546, grad=0.0, label=), Value(data=0.6224593312018546, grad=0.0, label=), Value(data=0.6224593312018546, grad=0.0, label=), Value(data=0.6224593312018546, grad=0.0, label=), Value(data=0.6224593312018546, grad=0.0, label=), Value(data=0.6224593312018546, grad=0.0, label=), Value(data=0.6224593312018546, grad=0.0, label=), Value(data=0.6224593312018546, grad=0.0, label=), Value(data=0.6224593312018546, grad=0.0, label=), Value(data=0.6224593312018546, grad=0.0, label=), Value(data=0.6224593312018546, grad=0.0, label=), Value(data=0.6224593312018546, grad=0.0, label=), Value(data=0.6224593312018546, grad=0.0, label=), Value(data=0.6224593312018546, grad=0.0, label=), Value(data=0.7310330632080193, grad=0.0, label=), Value(data=0.6224593312018546, grad=0.0, label=), Value(data=0.6224593312018546, grad=0.0, label=), Value(data=0.6224593312018546, grad=0.0, label=), Value(data=0.7309234877692081, grad=0.0, label=), Value(data=0.6224593312018546, grad=0.0, label=), Value(data=0.6224593312018546, grad=0.0, label=), Value(data=0.6224593312018546, grad=0.0, label=), Value(data=0.7310585786300049, grad=0.0, label=), Value(data=0.6224593312018546, grad=0.0, label=), Value(data=0.6224593312018546, grad=0.0, label=), Value(data=0.6224593312018546, grad=0.0, label=), Value(data=0.6224593312018546, grad=0.0, label=), Value(data=0.6224593312018546, grad=0.0, label=), Value(data=0.6224593312018546, grad=0.0, label=), Value(data=0.6224593312018546, grad=0.0, label=), Value(data=0.6224593312018546, grad=0.0, label=), Value(data=0.6224593312018546, grad=0.0, label=), Value(data=0.6224593312018546, grad=0.0, label=), Value(data=0.6975244855499962, grad=0.0, label=), Value(data=0.6224593312018546, grad=0.0, label=), Value(data=0.6224593312018546, grad=0.0, label=), Value(data=0.6224593312018546, grad=0.0, label=), Value(data=0.6224593312018546, grad=0.0, label=), Value(data=0.6224593312018546, grad=0.0, label=), Value(data=0.6224593312018546, grad=0.0, label=), Value(data=0.6224593312018546, grad=0.0, label=), Value(data=0.6224593312018546, grad=0.0, label=), Value(data=0.6224593312018546, grad=0.0, label=), Value(data=0.6224593312018546, grad=0.0, label=), Value(data=0.6224593312018546, grad=0.0, label=), Value(data=0.6224593312018546, grad=0.0, label=), Value(data=0.6224593312018546, grad=0.0, label=), Value(data=0.6224593312018546, grad=0.0, label=), Value(data=0.6224593312018546, grad=0.0, label=), Value(data=0.6313095328569069, grad=0.0, label=), Value(data=0.6224593312018546, grad=0.0, label=), Value(data=0.6224593312018546, grad=0.0, label=), Value(data=0.6224593312018546, grad=0.0, label=), Value(data=0.6224593312018546, grad=0.0, label=), Value(data=0.6224593312018546, grad=0.0, label=), Value(data=0.6224593312018546, grad=0.0, label=), Value(data=0.6224593312018546, grad=0.0, label=), Value(data=0.6224593312018546, grad=0.0, label=), Value(data=0.6224593312018546, grad=0.0, label=), Value(data=0.6224593312018546, grad=0.0, label=), Value(data=0.6224593312018546, grad=0.0, label=), Value(data=0.6224593312018546, grad=0.0, label=), Value(data=0.6224593312018546, grad=0.0, label=), Value(data=0.6224593312018546, grad=0.0, label=), Value(data=0.6224593312018546, grad=0.0, label=), Value(data=0.6224593312018546, grad=0.0, label=), Value(data=0.6224593312018546, grad=0.0, label=), Value(data=0.6224593312018546, grad=0.0, label=), Value(data=0.6224593312018546, grad=0.0, label=), Value(data=0.731056492273936, grad=0.0, label=), Value(data=0.6224593312018546, grad=0.0, label=), Value(data=0.6224593312018546, grad=0.0, label=), Value(data=0.6224593312018546, grad=0.0, label=), Value(data=0.6224593312018546, grad=0.0, label=), Value(data=0.6224593312018546, grad=0.0, label=), Value(data=0.6224593312018546, grad=0.0, label=), Value(data=0.6224593312018546, grad=0.0, label=), Value(data=0.6224593312018546, grad=0.0, label=), Value(data=0.6224593312018546, grad=0.0, label=), Value(data=0.6224593312018546, grad=0.0, label=), Value(data=0.6224593312018546, grad=0.0, label=), Value(data=0.6224593312018546, grad=0.0, label=), Value(data=0.6224593312018546, grad=0.0, label=), Value(data=0.6224593312018546, grad=0.0, label=), Value(data=0.6224593312018546, grad=0.0, label=), Value(data=0.6224593312018546, grad=0.0, label=), Value(data=0.6224593312018546, grad=0.0, label=), Value(data=0.6535032443807591, grad=0.0, label=), Value(data=0.6224593312018546, grad=0.0, label=), Value(data=0.6500958661863969, grad=0.0, label=), Value(data=0.6224593312018546, grad=0.0, label=), Value(data=0.6224593312018546, grad=0.0, label=), Value(data=0.6224593312018546, grad=0.0, label=), Value(data=0.6224593312018546, grad=0.0, label=), Value(data=0.6224593312018546, grad=0.0, label=), Value(data=0.7295575806053106, grad=0.0, label=), Value(data=0.6224593312018546, grad=0.0, label=), Value(data=0.7310585786300049, grad=0.0, label=), Value(data=0.6224593312018546, grad=0.0, label=), Value(data=0.726581835296587, grad=0.0, label=), Value(data=0.6224593312018546, grad=0.0, label=), Value(data=0.6224593312018546, grad=0.0, label=), Value(data=0.6224593312018546, grad=0.0, label=), Value(data=0.6224593312018546, grad=0.0, label=), Value(data=0.6224593312018546, grad=0.0, label=), Value(data=0.6224593312018546, grad=0.0, label=), Value(data=0.6224593312018546, grad=0.0, label=), Value(data=0.6224593312018546, grad=0.0, label=), Value(data=0.7139989601351522, grad=0.0, label=), Value(data=0.6224593312018546, grad=0.0, label=), Value(data=0.6224593312018546, grad=0.0, label=), Value(data=0.6224593312018546, grad=0.0, label=), Value(data=0.6224593312018546, grad=0.0, label=), Value(data=0.6224593312018546, grad=0.0, label=), Value(data=0.6224593312018546, grad=0.0, label=), Value(data=0.6224593312018546, grad=0.0, label=), Value(data=0.7310585786300049, grad=0.0, label=), Value(data=0.6224593312018546, grad=0.0, label=), Value(data=0.7310579396883221, grad=0.0, label=), Value(data=0.6224593312018546, grad=0.0, label=), Value(data=0.7223444649717058, grad=0.0, label=), Value(data=0.6224593312018546, grad=0.0, label=), Value(data=0.6224593312018546, grad=0.0, label=), Value(data=0.6224593312018546, grad=0.0, label=), Value(data=0.6224593312018546, grad=0.0, label=), Value(data=0.6224593312018546, grad=0.0, label=), Value(data=0.6224593312018546, grad=0.0, label=), Value(data=0.6224593312018546, grad=0.0, label=), Value(data=0.6224593312018546, grad=0.0, label=), Value(data=0.6224593312018546, grad=0.0, label=), Value(data=0.6224593312018546, grad=0.0, label=), Value(data=0.6224593312018546, grad=0.0, label=), Value(data=0.6224593312018546, grad=0.0, label=), Value(data=0.6224593312018546, grad=0.0, label=), Value(data=0.6224593312018546, grad=0.0, label=), Value(data=0.6224593312018546, grad=0.0, label=), Value(data=0.6224593312018546, grad=0.0, label=), Value(data=0.6224593312018546, grad=0.0, label=), Value(data=0.6224593312018546, grad=0.0, label=), Value(data=0.6224593312018546, grad=0.0, label=), Value(data=0.6224593312018546, grad=0.0, label=), Value(data=0.6224593312018546, grad=0.0, label=), Value(data=0.6224593312018546, grad=0.0, label=), Value(data=0.6224593312018546, grad=0.0, label=), Value(data=0.6224593312018546, grad=0.0, label=), Value(data=0.6224593312018546, grad=0.0, label=), Value(data=0.6224593312018546, grad=0.0, label=), Value(data=0.6224593312018546, grad=0.0, label=), Value(data=0.6224593312018546, grad=0.0, label=), Value(data=0.6224593312018546, grad=0.0, label=), Value(data=0.6224593312018546, grad=0.0, label=), Value(data=0.6224593312018546, grad=0.0, label=), Value(data=0.6224593312018546, grad=0.0, label=), Value(data=0.6224593312018546, grad=0.0, label=), Value(data=0.6224593312018546, grad=0.0, label=), Value(data=0.7310585786300049, grad=0.0, label=), Value(data=0.6224593312018546, grad=0.0, label=), Value(data=0.6224593312018546, grad=0.0, label=), Value(data=0.6224593312018546, grad=0.0, label=), Value(data=0.6224593312018546, grad=0.0, label=), Value(data=0.6224593312018546, grad=0.0, label=), Value(data=0.6224593312018546, grad=0.0, label=), Value(data=0.6224593312018546, grad=0.0, label=), Value(data=0.6224593312018546, grad=0.0, label=), Value(data=0.6224593312018546, grad=0.0, label=), Value(data=0.6224593312018546, grad=0.0, label=), Value(data=0.6224593312018546, grad=0.0, label=), Value(data=0.6224593312018546, grad=0.0, label=), Value(data=0.6224593312018546, grad=0.0, label=), Value(data=0.6224593312018546, grad=0.0, label=), Value(data=0.6224593312018546, grad=0.0, label=), Value(data=0.6224593312018546, grad=0.0, label=), Value(data=0.7310568728034821, grad=0.0, label=), Value(data=0.6224593312018546, grad=0.0, label=), Value(data=0.6224593312018546, grad=0.0, label=), Value(data=0.6224593312018546, grad=0.0, label=), Value(data=0.6224593312018546, grad=0.0, label=), Value(data=0.6224593312018546, grad=0.0, label=), Value(data=0.6224593312018546, grad=0.0, label=), Value(data=0.6224593312018546, grad=0.0, label=), Value(data=0.6224593312018546, grad=0.0, label=), Value(data=0.6224593312018546, grad=0.0, label=), Value(data=0.6224593312018546, grad=0.0, label=), Value(data=0.6224593312018546, grad=0.0, label=), Value(data=0.6224593312018546, grad=0.0, label=), Value(data=0.6224593312018546, grad=0.0, label=), Value(data=0.6224593312018546, grad=0.0, label=), Value(data=0.6224593312018546, grad=0.0, label=), Value(data=0.6224593312018546, grad=0.0, label=), Value(data=0.6224593312018546, grad=0.0, label=), Value(data=0.6224593312018546, grad=0.0, label=), Value(data=0.6224593312018546, grad=0.0, label=), Value(data=0.6224593312018546, grad=0.0, label=), Value(data=0.6224593312018546, grad=0.0, label=), Value(data=0.6224593312018546, grad=0.0, label=), Value(data=0.6224593312018546, grad=0.0, label=), Value(data=0.6224593312018546, grad=0.0, label=), Value(data=0.6224593312018546, grad=0.0, label=), Value(data=0.6224593312018546, grad=0.0, label=), Value(data=0.6224593312018546, grad=0.0, label=), Value(data=0.6224593312018546, grad=0.0, label=), Value(data=0.6224593312018546, grad=0.0, label=), Value(data=0.6224593312018546, grad=0.0, label=), Value(data=0.6224593312018546, grad=0.0, label=), Value(data=0.6224593312018546, grad=0.0, label=), Value(data=0.6224593312018546, grad=0.0, label=), Value(data=0.6224593312018546, grad=0.0, label=), Value(data=0.6224593312018546, grad=0.0, label=), Value(data=0.6224593312018546, grad=0.0, label=), Value(data=0.6224593312018546, grad=0.0, label=), Value(data=0.6224593312018546, grad=0.0, label=), Value(data=0.6224593312018546, grad=0.0, label=), Value(data=0.6224593312018546, grad=0.0, label=), Value(data=0.6224593312018546, grad=0.0, label=), Value(data=0.6224593312018546, grad=0.0, label=), Value(data=0.6224593312018546, grad=0.0, label=), Value(data=0.6224593312018546, grad=0.0, label=), Value(data=0.6224593312018546, grad=0.0, label=), Value(data=0.6224593312018546, grad=0.0, label=), Value(data=0.7299126269980711, grad=0.0, label=), Value(data=0.6224593312018546, grad=0.0, label=), Value(data=0.6224593312018546, grad=0.0, label=), Value(data=0.6224593312018546, grad=0.0, label=), Value(data=0.7310460915653317, grad=0.0, label=), Value(data=0.6224593312018546, grad=0.0, label=), Value(data=0.6224593312018546, grad=0.0, label=), Value(data=0.6224593312018546, grad=0.0, label=), Value(data=0.6224593312018546, grad=0.0, label=), Value(data=0.6224593312018546, grad=0.0, label=), Value(data=0.6224593312018546, grad=0.0, label=), Value(data=0.6224593312018546, grad=0.0, label=), Value(data=0.6224593312018546, grad=0.0, label=), Value(data=0.6224593312018546, grad=0.0, label=), Value(data=0.6224593312018546, grad=0.0, label=), Value(data=0.6224593312018546, grad=0.0, label=), Value(data=0.6224593312018546, grad=0.0, label=), Value(data=0.7144589848128731, grad=0.0, label=), Value(data=0.6224593312018546, grad=0.0, label=), Value(data=0.6224593312018546, grad=0.0, label=), Value(data=0.7088078861968558, grad=0.0, label=), Value(data=0.6224593312018546, grad=0.0, label=), Value(data=0.6224593312018546, grad=0.0, label=), Value(data=0.6224593312018546, grad=0.0, label=), Value(data=0.6224593312018546, grad=0.0, label=), Value(data=0.6224593312018546, grad=0.0, label=), Value(data=0.6224593312018546, grad=0.0, label=), Value(data=0.6224593312018546, grad=0.0, label=), Value(data=0.6224593312018546, grad=0.0, label=), Value(data=0.6224593312018546, grad=0.0, label=), Value(data=0.6224593312018546, grad=0.0, label=), Value(data=0.7199634214821168, grad=0.0, label=), Value(data=0.6224593312018546, grad=0.0, label=), Value(data=0.6224593312018546, grad=0.0, label=), Value(data=0.6224593312018546, grad=0.0, label=), Value(data=0.6224593312018546, grad=0.0, label=), Value(data=0.6224593312018546, grad=0.0, label=), Value(data=0.6224593312018546, grad=0.0, label=), Value(data=0.6224593312018546, grad=0.0, label=), Value(data=0.6224593312018546, grad=0.0, label=), Value(data=0.6224593312018546, grad=0.0, label=), Value(data=0.6224593312018546, grad=0.0, label=), Value(data=0.7310585784392645, grad=0.0, label=), Value(data=0.6224593312018546, grad=0.0, label=), Value(data=0.6224593312018546, grad=0.0, label=), Value(data=0.6224593312018546, grad=0.0, label=), Value(data=0.6224593312018546, grad=0.0, label=), Value(data=0.6224593312018546, grad=0.0, label=), Value(data=0.7253502131113153, grad=0.0, label=), Value(data=0.6224593312018546, grad=0.0, label=), Value(data=0.6224593312018546, grad=0.0, label=), Value(data=0.6224593312018546, grad=0.0, label=), Value(data=0.6224593312018546, grad=0.0, label=), Value(data=0.6224593312018546, grad=0.0, label=), Value(data=0.6224593312018546, grad=0.0, label=), Value(data=0.6224593312018546, grad=0.0, label=), Value(data=0.6224593312018546, grad=0.0, label=), Value(data=0.6224593312018546, grad=0.0, label=), Value(data=0.6224593312018546, grad=0.0, label=), Value(data=0.7310585786300049, grad=0.0, label=), Value(data=0.6224593312018546, grad=0.0, label=), Value(data=0.6224593312018546, grad=0.0, label=), Value(data=0.6224593312018546, grad=0.0, label=), Value(data=0.6224593312018546, grad=0.0, label=), Value(data=0.6224593312018546, grad=0.0, label=), Value(data=0.7307923107956272, grad=0.0, label=), Value(data=0.7255782151085625, grad=0.0, label=), Value(data=0.6224593312018546, grad=0.0, label=), Value(data=0.6307566455790651, grad=0.0, label=), Value(data=0.6224593312018546, grad=0.0, label=), Value(data=0.6224593312018546, grad=0.0, label=), Value(data=0.6224593312018546, grad=0.0, label=), Value(data=0.6224593312018546, grad=0.0, label=), Value(data=0.6224593312018546, grad=0.0, label=), Value(data=0.6224593312018546, grad=0.0, label=), Value(data=0.6224593312018546, grad=0.0, label=), Value(data=0.6224593312018546, grad=0.0, label=), Value(data=0.6224593312018546, grad=0.0, label=), Value(data=0.6224593312018546, grad=0.0, label=), Value(data=0.6224593312018546, grad=0.0, label=), Value(data=0.6224593312018546, grad=0.0, label=), Value(data=0.6224593312018546, grad=0.0, label=), Value(data=0.6224593312018546, grad=0.0, label=), Value(data=0.6224593312018546, grad=0.0, label=), Value(data=0.6224593312018546, grad=0.0, label=), Value(data=0.6224593312018546, grad=0.0, label=), Value(data=0.6224593312018546, grad=0.0, label=), Value(data=0.6224593312018546, grad=0.0, label=), Value(data=0.7310145506187236, grad=0.0, label=), Value(data=0.7272667595198091, grad=0.0, label=), Value(data=0.6224593312018546, grad=0.0, label=), Value(data=0.6224593312018546, grad=0.0, label=), Value(data=0.6224593312018546, grad=0.0, label=), Value(data=0.6224593312018546, grad=0.0, label=), Value(data=0.6224593312018546, grad=0.0, label=), Value(data=0.6224593312018546, grad=0.0, label=), Value(data=0.6224593312018546, grad=0.0, label=), Value(data=0.6224593312018546, grad=0.0, label=), Value(data=0.6224593312018546, grad=0.0, label=), Value(data=0.6224593312018546, grad=0.0, label=), Value(data=0.6224593312018546, grad=0.0, label=), Value(data=0.6224593312018546, grad=0.0, label=), Value(data=0.6224593312018546, grad=0.0, label=), Value(data=0.6224593312018546, grad=0.0, label=), Value(data=0.6224593312018546, grad=0.0, label=), Value(data=0.6224593312018546, grad=0.0, label=), Value(data=0.6224593312018546, grad=0.0, label=), Value(data=0.6224593312018546, grad=0.0, label=), Value(data=0.6224593312018546, grad=0.0, label=), Value(data=0.6224593312018546, grad=0.0, label=), Value(data=0.6224593312018546, grad=0.0, label=), Value(data=0.6224593312018546, grad=0.0, label=), Value(data=0.6224593312018546, grad=0.0, label=), Value(data=0.6224593312018546, grad=0.0, label=), Value(data=0.718002780217286, grad=0.0, label=), Value(data=0.6224593312018546, grad=0.0, label=), Value(data=0.6224593312018546, grad=0.0, label=), Value(data=0.6224593312018546, grad=0.0, label=), Value(data=0.6224593312018546, grad=0.0, label=), Value(data=0.6224593312018546, grad=0.0, label=), Value(data=0.6224593312018546, grad=0.0, label=), Value(data=0.6224593312018546, grad=0.0, label=), Value(data=0.6224593312018546, grad=0.0, label=), Value(data=0.6224593312018546, grad=0.0, label=), Value(data=0.6224593312018546, grad=0.0, label=), Value(data=0.6224593312018546, grad=0.0, label=), Value(data=0.6224593312018546, grad=0.0, label=), Value(data=0.6224593312018546, grad=0.0, label=), Value(data=0.6224593312018546, grad=0.0, label=), Value(data=0.6224593312018546, grad=0.0, label=), Value(data=0.6224593312018546, grad=0.0, label=), Value(data=0.6224593312018546, grad=0.0, label=), Value(data=0.6224593312018546, grad=0.0, label=), Value(data=0.6224593312018546, grad=0.0, label=), Value(data=0.6224593312018546, grad=0.0, label=), Value(data=0.6224593312018546, grad=0.0, label=), Value(data=0.7310585786300049, grad=0.0, label=), Value(data=0.6224593312018546, grad=0.0, label=), Value(data=0.7243366683813127, grad=0.0, label=), Value(data=0.6224593312018546, grad=0.0, label=), Value(data=0.6224593312018546, grad=0.0, label=), Value(data=0.6224593312018546, grad=0.0, label=), Value(data=0.6224593312018546, grad=0.0, label=), Value(data=0.6224593312018546, grad=0.0, label=), Value(data=0.6224593312018546, grad=0.0, label=), Value(data=0.6224593312018546, grad=0.0, label=), Value(data=0.6224593312018546, grad=0.0, label=), Value(data=0.6224593312018546, grad=0.0, label=), Value(data=0.6224593312018546, grad=0.0, label=), Value(data=0.6224593312018546, grad=0.0, label=), Value(data=0.6224593312018546, grad=0.0, label=), Value(data=0.6224593312018546, grad=0.0, label=), Value(data=0.6224593312018546, grad=0.0, label=), Value(data=0.6224593312018546, grad=0.0, label=), Value(data=0.6224593312018546, grad=0.0, label=), Value(data=0.6530629268123411, grad=0.0, label=), Value(data=0.6224593312018546, grad=0.0, label=), Value(data=0.6224593312018546, grad=0.0, label=), Value(data=0.6224593312018546, grad=0.0, label=), Value(data=0.6224593312018546, grad=0.0, label=), Value(data=0.6224593312018546, grad=0.0, label=), Value(data=0.6224593312018546, grad=0.0, label=), Value(data=0.6224593312018546, grad=0.0, label=), Value(data=0.6833097554986357, grad=0.0, label=), Value(data=0.6224593312018546, grad=0.0, label=), Value(data=0.6224593312018546, grad=0.0, label=), Value(data=0.6224593312018546, grad=0.0, label=), Value(data=0.6224593312018546, grad=0.0, label=), Value(data=0.6224593312018546, grad=0.0, label=), Value(data=0.6224593312018546, grad=0.0, label=), Value(data=0.6224593312018546, grad=0.0, label=), Value(data=0.6224593312018546, grad=0.0, label=), Value(data=0.6224593312018546, grad=0.0, label=), Value(data=0.6224593312018546, grad=0.0, label=), Value(data=0.6224593312018546, grad=0.0, label=), Value(data=0.6811241464268014, grad=0.0, label=), Value(data=0.6224593312018546, grad=0.0, label=), Value(data=0.6224593312018546, grad=0.0, label=), Value(data=0.6224593312018546, grad=0.0, label=), Value(data=0.6224593312018546, grad=0.0, label=), Value(data=0.6224593312018546, grad=0.0, label=), Value(data=0.7301686255948534, grad=0.0, label=), Value(data=0.6224593312018546, grad=0.0, label=), Value(data=0.6224593312018546, grad=0.0, label=), Value(data=0.6224593312018546, grad=0.0, label=), Value(data=0.6224593312018546, grad=0.0, label=), Value(data=0.6224593312018546, grad=0.0, label=), Value(data=0.6224593312018546, grad=0.0, label=), Value(data=0.6224593312018546, grad=0.0, label=), Value(data=0.6224593312018546, grad=0.0, label=), Value(data=0.6224593312018546, grad=0.0, label=), Value(data=0.6224593312018546, grad=0.0, label=), Value(data=0.6224593312018546, grad=0.0, label=), Value(data=0.6224593312018546, grad=0.0, label=), Value(data=0.6224593312018546, grad=0.0, label=), Value(data=0.6224593312018546, grad=0.0, label=), Value(data=0.6224593312018546, grad=0.0, label=), Value(data=0.6224593312018546, grad=0.0, label=), Value(data=0.6224593312018546, grad=0.0, label=), Value(data=0.6224593312018546, grad=0.0, label=), Value(data=0.6224593312018546, grad=0.0, label=), Value(data=0.6224593312018546, grad=0.0, label=), Value(data=0.6224593312018546, grad=0.0, label=), Value(data=0.6224593312018546, grad=0.0, label=), Value(data=0.6224593312018546, grad=0.0, label=), Value(data=0.6224593312018546, grad=0.0, label=), Value(data=0.6224593312018546, grad=0.0, label=), Value(data=0.6224593312018546, grad=0.0, label=), Value(data=0.6224593312018546, grad=0.0, label=), Value(data=0.6224593312018546, grad=0.0, label=), Value(data=0.6224593312018546, grad=0.0, label=), Value(data=0.6224593312018546, grad=0.0, label=), Value(data=0.6224593312018546, grad=0.0, label=), Value(data=0.6224593312018546, grad=0.0, label=), Value(data=0.7281010093151402, grad=0.0, label=), Value(data=0.6224593312018546, grad=0.0, label=), Value(data=0.6224593312018546, grad=0.0, label=), Value(data=0.6224593312018546, grad=0.0, label=), Value(data=0.6224593312018546, grad=0.0, label=), Value(data=0.6224593312018546, grad=0.0, label=), Value(data=0.6224593312018546, grad=0.0, label=), Value(data=0.7310584939201317, grad=0.0, label=), Value(data=0.6224593312018546, grad=0.0, label=), Value(data=0.6224593312018546, grad=0.0, label=), Value(data=0.6224593312018546, grad=0.0, label=), Value(data=0.6224593312018546, grad=0.0, label=), Value(data=0.6224593312018546, grad=0.0, label=), Value(data=0.7308934647823515, grad=0.0, label=), Value(data=0.6224593312018546, grad=0.0, label=), Value(data=0.6224593312018546, grad=0.0, label=), Value(data=0.6224593312018546, grad=0.0, label=), Value(data=0.6224593312018546, grad=0.0, label=), Value(data=0.6224593312018546, grad=0.0, label=), Value(data=0.6224593312018546, grad=0.0, label=), Value(data=0.7310585786300049, grad=0.0, label=), Value(data=0.6224593312018546, grad=0.0, label=), Value(data=0.6224593312018546, grad=0.0, label=), Value(data=0.6224593312018546, grad=0.0, label=), Value(data=0.6224593312018546, grad=0.0, label=), Value(data=0.6224593312018546, grad=0.0, label=), Value(data=0.6224593312018546, grad=0.0, label=), Value(data=0.6224593312018546, grad=0.0, label=), Value(data=0.6224593312018546, grad=0.0, label=), Value(data=0.6224593312018546, grad=0.0, label=), Value(data=0.6224593312018546, grad=0.0, label=), Value(data=0.6224593312018546, grad=0.0, label=), Value(data=0.6224593312018546, grad=0.0, label=), Value(data=0.6224593312018546, grad=0.0, label=), Value(data=0.6224593312018546, grad=0.0, label=), Value(data=0.6224593312018546, grad=0.0, label=), Value(data=0.7310580509996141, grad=0.0, label=), Value(data=0.6224593312018546, grad=0.0, label=), Value(data=0.6224593312018546, grad=0.0, label=), Value(data=0.6224593312018546, grad=0.0, label=), Value(data=0.6224593312018546, grad=0.0, label=), Value(data=0.6224593312018546, grad=0.0, label=), Value(data=0.6224593312018546, grad=0.0, label=), Value(data=0.6224593312018546, grad=0.0, label=), Value(data=0.6224593312018546, grad=0.0, label=), Value(data=0.6224593312018546, grad=0.0, label=), Value(data=0.6224593312018546, grad=0.0, label=), Value(data=0.6224593312018546, grad=0.0, label=), Value(data=0.6224593312018546, grad=0.0, label=), Value(data=0.6907620082524074, grad=0.0, label=), Value(data=0.6224593312018546, grad=0.0, label=), Value(data=0.6224593312018546, grad=0.0, label=), Value(data=0.7309569388236592, grad=0.0, label=), Value(data=0.6224593312018546, grad=0.0, label=), Value(data=0.6224593312018546, grad=0.0, label=), Value(data=0.6224593312018546, grad=0.0, label=), Value(data=0.6224593312018546, grad=0.0, label=), Value(data=0.7295610950301712, grad=0.0, label=), Value(data=0.6224593312018546, grad=0.0, label=), Value(data=0.6224593312018546, grad=0.0, label=), Value(data=0.6224593312018546, grad=0.0, label=), Value(data=0.6224593312018546, grad=0.0, label=), Value(data=0.6224593312018546, grad=0.0, label=), Value(data=0.7257767325496265, grad=0.0, label=), Value(data=0.6224593312018546, grad=0.0, label=), Value(data=0.6224593312018546, grad=0.0, label=), Value(data=0.6224593312018546, grad=0.0, label=), Value(data=0.6224593312018546, grad=0.0, label=), Value(data=0.6224593312018546, grad=0.0, label=), Value(data=0.6224593312018546, grad=0.0, label=), Value(data=0.6224593312018546, grad=0.0, label=), Value(data=0.6224593312018546, grad=0.0, label=), Value(data=0.6224593312018546, grad=0.0, label=), Value(data=0.6224593312018546, grad=0.0, label=), Value(data=0.6224593312018546, grad=0.0, label=), Value(data=0.6224593312018546, grad=0.0, label=), Value(data=0.6224593312018546, grad=0.0, label=), Value(data=0.6224593312018546, grad=0.0, label=), Value(data=0.6224593312018546, grad=0.0, label=), Value(data=0.6224593312018546, grad=0.0, label=), Value(data=0.6224593312018546, grad=0.0, label=), Value(data=0.6224593312018546, grad=0.0, label=), Value(data=0.6224593312018546, grad=0.0, label=), Value(data=0.6224593312018546, grad=0.0, label=), Value(data=0.6224593312018546, grad=0.0, label=), Value(data=0.6224593312018546, grad=0.0, label=), Value(data=0.6224593312018546, grad=0.0, label=), Value(data=0.6224593312018546, grad=0.0, label=), Value(data=0.6224593312018546, grad=0.0, label=), Value(data=0.6224593312018546, grad=0.0, label=), Value(data=0.6224593312018546, grad=0.0, label=), Value(data=0.7310585786300049, grad=0.0, label=), Value(data=0.6224593312018546, grad=0.0, label=), Value(data=0.6224593312018546, grad=0.0, label=), Value(data=0.6224593312018546, grad=0.0, label=), Value(data=0.6224593312018546, grad=0.0, label=), Value(data=0.6224593312018546, grad=0.0, label=), Value(data=0.6224593312018546, grad=0.0, label=), Value(data=0.6224593312018546, grad=0.0, label=), Value(data=0.6224593312018546, grad=0.0, label=), Value(data=0.6224593312018546, grad=0.0, label=), Value(data=0.6224593312018546, grad=0.0, label=), Value(data=0.6224593312018546, grad=0.0, label=), Value(data=0.6224593312018546, grad=0.0, label=), Value(data=0.6224593312018546, grad=0.0, label=), Value(data=0.6224593312018546, grad=0.0, label=), Value(data=0.6224593312018546, grad=0.0, label=), Value(data=0.6224593312018546, grad=0.0, label=), Value(data=0.6224593312018546, grad=0.0, label=), Value(data=0.6224593312018546, grad=0.0, label=), Value(data=0.6224593312018546, grad=0.0, label=), Value(data=0.6224593312018546, grad=0.0, label=), Value(data=0.6224593312018546, grad=0.0, label=), Value(data=0.6224593312018546, grad=0.0, label=), Value(data=0.6224593312018546, grad=0.0, label=), Value(data=0.6224593312018546, grad=0.0, label=), Value(data=0.6224593312018546, grad=0.0, label=), Value(data=0.6224593312018546, grad=0.0, label=), Value(data=0.6224593312018546, grad=0.0, label=), Value(data=0.6269914032938833, grad=0.0, label=), Value(data=0.6224593312018546, grad=0.0, label=), Value(data=0.6224593312018546, grad=0.0, label=), Value(data=0.6224593312018546, grad=0.0, label=), Value(data=0.6224593312018546, grad=0.0, label=), Value(data=0.6224593312018546, grad=0.0, label=), Value(data=0.6224593312018546, grad=0.0, label=), Value(data=0.6224593312018546, grad=0.0, label=), Value(data=0.6224593312018546, grad=0.0, label=), Value(data=0.6224593312018546, grad=0.0, label=), Value(data=0.6224593312018546, grad=0.0, label=), Value(data=0.6224593312018546, grad=0.0, label=), Value(data=0.6224593312018546, grad=0.0, label=), Value(data=0.6224593312018546, grad=0.0, label=), Value(data=0.6224593312018546, grad=0.0, label=), Value(data=0.6224593312018546, grad=0.0, label=), Value(data=0.6224593312018546, grad=0.0, label=), Value(data=0.6224593312018546, grad=0.0, label=), Value(data=0.6224593312018546, grad=0.0, label=), Value(data=0.6224593312018546, grad=0.0, label=), Value(data=0.6224593312018546, grad=0.0, label=), Value(data=0.6224593312018546, grad=0.0, label=), Value(data=0.6224593312018546, grad=0.0, label=), Value(data=0.6224593312018546, grad=0.0, label=), Value(data=0.6224593312018546, grad=0.0, label=), Value(data=0.6224593312018546, grad=0.0, label=), Value(data=0.6224593312018546, grad=0.0, label=), Value(data=0.6224593312018546, grad=0.0, label=), Value(data=0.6224593312018546, grad=0.0, label=), Value(data=0.6224593312018546, grad=0.0, label=), Value(data=0.6224593312018546, grad=0.0, label=), Value(data=0.6224593312018546, grad=0.0, label=), Value(data=0.6224593312018546, grad=0.0, label=), Value(data=0.6224593312018546, grad=0.0, label=), Value(data=0.6224593312018546, grad=0.0, label=), Value(data=0.6224593312018546, grad=0.0, label=), Value(data=0.6224593312018546, grad=0.0, label=), Value(data=0.7302269748543034, grad=0.0, label=), Value(data=0.6224593312018546, grad=0.0, label=), Value(data=0.6224593312018546, grad=0.0, label=), Value(data=0.6224593312018546, grad=0.0, label=), Value(data=0.6224593312018546, grad=0.0, label=), Value(data=0.6224593312018546, grad=0.0, label=), Value(data=0.6224593312018546, grad=0.0, label=), Value(data=0.7248971772382147, grad=0.0, label=), Value(data=0.724336109255285, grad=0.0, label=), Value(data=0.6224593312018546, grad=0.0, label=), Value(data=0.6224593312018546, grad=0.0, label=), Value(data=0.7308283715320025, grad=0.0, label=), Value(data=0.6224593312018546, grad=0.0, label=), Value(data=0.6224593312018546, grad=0.0, label=), Value(data=0.6224593312018546, grad=0.0, label=), Value(data=0.6224593312018546, grad=0.0, label=), Value(data=0.6224593312018546, grad=0.0, label=), Value(data=0.6224593312018546, grad=0.0, label=), Value(data=0.6224593312018546, grad=0.0, label=), Value(data=0.6224593312018546, grad=0.0, label=), Value(data=0.6224593312018546, grad=0.0, label=), Value(data=0.6224593312018546, grad=0.0, label=), Value(data=0.6224593312018546, grad=0.0, label=), Value(data=0.6224593312018546, grad=0.0, label=), Value(data=0.6224593312018546, grad=0.0, label=), Value(data=0.6224593312018546, grad=0.0, label=), Value(data=0.6224593312018546, grad=0.0, label=), Value(data=0.6224593312018546, grad=0.0, label=), Value(data=0.6224593312018546, grad=0.0, label=), Value(data=0.6224593312018546, grad=0.0, label=), Value(data=0.6224593312018546, grad=0.0, label=), Value(data=0.6224593312018546, grad=0.0, label=), Value(data=0.6224593312018546, grad=0.0, label=), Value(data=0.730392553996362, grad=0.0, label=), Value(data=0.6224593312018546, grad=0.0, label=), Value(data=0.6224593312018546, grad=0.0, label=), Value(data=0.6224593312018546, grad=0.0, label=), Value(data=0.6224593312018546, grad=0.0, label=), Value(data=0.7283851824040203, grad=0.0, label=), Value(data=0.6224593312018546, grad=0.0, label=), Value(data=0.6224593312018546, grad=0.0, label=), Value(data=0.6224593312018546, grad=0.0, label=), Value(data=0.6224593312018546, grad=0.0, label=), Value(data=0.6224593312018546, grad=0.0, label=), Value(data=0.6224593312018546, grad=0.0, label=), Value(data=0.6224593312018546, grad=0.0, label=), Value(data=0.6224593312018546, grad=0.0, label=), Value(data=0.6224593312018546, grad=0.0, label=)]\n"
     ]
    }
   ],
   "source": [
    "Yp = [yp.sigmoid() for yp in Yp]\n",
    "print(Yp)"
   ]
  },
  {
   "cell_type": "code",
   "execution_count": null,
   "metadata": {},
   "outputs": [
    {
     "name": "stdout",
     "output_type": "stream",
     "text": [
      "Value(data=0.5, grad=0.0, label=)\n"
     ]
    }
   ],
   "source": [
    "for yp in Yp:\n",
    "    print(yp.sigmoid())\n",
    "    break"
   ]
  },
  {
   "cell_type": "markdown",
   "metadata": {},
   "source": [
    "# `step_size` or `learning_rate`:"
   ]
  },
  {
   "cell_type": "code",
   "execution_count": null,
   "metadata": {},
   "outputs": [],
   "source": []
  },
  {
   "cell_type": "code",
   "execution_count": null,
   "metadata": {},
   "outputs": [
    {
     "data": {
      "image/png": "[encoded data removed]",
      "text/plain": [
       "<Figure size 640x480 with 1 Axes>"
      ]
     },
     "metadata": {},
     "output_type": "display_data"
    }
   ],
   "source": [
    "step_size = 1\n",
    "epochs = 50\n",
    "S = []\n",
    "for epoch in range(epochs):\n",
    "    step_size = 1. - (0.9*epoch)/100\n",
    "    # print(step_size)\n",
    "    S.append(step_size)\n",
    "#end-for\n",
    "    \n",
    "plt.plot(S)\n",
    "plt.show()"
   ]
  },
  {
   "cell_type": "code",
   "execution_count": null,
   "metadata": {},
   "outputs": [],
   "source": [
    "# epochs = 200\n",
    "\n",
    "# step_size = 1.0\n",
    "# for epoch in range(epochs):\n",
    "\n",
    "\n",
    "#     # if step_size > 0.0:\n",
    "#     #     pass\n",
    "#     # else:\n",
    "#     #     step_size = 0.001\n",
    "\n",
    "#     print(step_size)\n",
    "#     # step_size -= 0.009\n",
    "# #end-for"
   ]
  },
  {
   "cell_type": "code",
   "execution_count": null,
   "metadata": {},
   "outputs": [
    {
     "name": "stdout",
     "output_type": "stream",
     "text": [
      "[ 0.0528484  -0.32314751  0.42411402  1.40349462]\n",
      "[Value(data=0.052848400454335955, grad=0.0, label=), Value(data=-0.3231475073976876, grad=0.0, label=), Value(data=0.4241140195838776, grad=0.0, label=), Value(data=1.4034946212844044, grad=0.0, label=)]\n"
     ]
    }
   ],
   "source": [
    "N = 4 \n",
    "V = np.random.randn(N) * np.sqrt(2.0/N)\n",
    "print(V)\n",
    "W = [Value(v) for v in V]\n",
    "print(W)"
   ]
  },
  {
   "cell_type": "markdown",
   "metadata": {},
   "source": [
    "# GraphViz"
   ]
  },
  {
   "cell_type": "code",
   "execution_count": null,
   "metadata": {},
   "outputs": [],
   "source": [
    "# import graphviz  \n",
    "dot = Digraph(comment='The Round Table')\n",
    "\n",
    "dot.node('A', 'A')  \n",
    "dot.node('B', 'B')\n",
    "dot.edges(['AB', 'AC', 'AD', 'DB', 'BC'])\n",
    "dot.node('C', 'C')\n",
    "dot.node('D', 'D')\n",
    "\n",
    "dot.edge('B', 'A', constraint='false')"
   ]
  },
  {
   "cell_type": "code",
   "execution_count": null,
   "metadata": {},
   "outputs": [],
   "source": [
    "# print(dot.source)"
   ]
  },
  {
   "cell_type": "code",
   "execution_count": null,
   "metadata": {},
   "outputs": [
    {
     "data": {
      "text/plain": [
       "'round-table.pdf'"
      ]
     },
     "execution_count": 164,
     "metadata": {},
     "output_type": "execute_result"
    }
   ],
   "source": [
    "dot.render('round-table', view=True)  \n",
    "# doctest_mark_exe()\n"
   ]
  },
  {
   "cell_type": "code",
   "execution_count": null,
   "metadata": {},
   "outputs": [
    {
     "name": "stdout",
     "output_type": "stream",
     "text": [
      "0\n",
      "1\n",
      "2\n",
      "3\n",
      "4\n",
      "5\n",
      "6\n",
      "7\n",
      "8\n",
      "9\n"
     ]
    }
   ],
   "source": [
    "for i in range(10):\n",
    "    print(i)\n",
    "#end-forL"
   ]
  },
  {
   "cell_type": "markdown",
   "metadata": {},
   "source": [
    "dd"
   ]
  },
  {
   "cell_type": "markdown",
   "metadata": {},
   "source": [
    "### learning rate decay:"
   ]
  },
  {
   "cell_type": "code",
   "execution_count": null,
   "metadata": {},
   "outputs": [],
   "source": [
    "# epochs = 500\n",
    "\n",
    "# for epoch in range(epochs):\n",
    "#     lr = 1- ((0.9*epoch)/100.0)\n",
    "#     print(lr)\n",
    "# #end-for"
   ]
  },
  {
   "cell_type": "markdown",
   "metadata": {},
   "source": [
    "# Square Numbers:"
   ]
  },
  {
   "cell_type": "code",
   "execution_count": null,
   "metadata": {},
   "outputs": [],
   "source": [
    "h = 0.5\n",
    "\n",
    "X = list(np.arange(-20, 20+h, h))\n",
    "Y = [x*x for x in X]\n",
    "\n",
    "X = np.array(X).reshape(-1, 1)\n",
    "\n",
    "\n",
    "network = MLP(1, [2, 1])"
   ]
  },
  {
   "cell_type": "code",
   "execution_count": null,
   "metadata": {},
   "outputs": [
    {
     "data": {
      "text/plain": [
       "81"
      ]
     },
     "execution_count": 231,
     "metadata": {},
     "output_type": "execute_result"
    }
   ],
   "source": [
    "len(Y)"
   ]
  },
  {
   "cell_type": "code",
   "execution_count": null,
   "metadata": {},
   "outputs": [
    {
     "data": {
      "text/plain": [
       "Value(data=0.0, grad=0.0, label=)"
      ]
     },
     "execution_count": 232,
     "metadata": {},
     "output_type": "execute_result"
    }
   ],
   "source": [
    "network([12])"
   ]
  },
  {
   "cell_type": "code",
   "execution_count": null,
   "metadata": {},
   "outputs": [
    {
     "name": "stdout",
     "output_type": "stream",
     "text": [
      "epach:0, step_size=0.01, loss:2722666.500000\n",
      "epach:1, step_size=0.01, loss:2722666.500000\n",
      "epach:2, step_size=0.01, loss:2722666.500000\n",
      "epach:3, step_size=0.01, loss:2722666.500000\n",
      "epach:4, step_size=0.01, loss:2722666.500000\n",
      "epach:5, step_size=0.01, loss:2722666.500000\n",
      "epach:6, step_size=0.01, loss:2722666.500000\n",
      "epach:7, step_size=0.01, loss:2722666.500000\n",
      "epach:8, step_size=0.01, loss:2722666.500000\n",
      "epach:9, step_size=0.01, loss:2722666.500000\n",
      "epach:10, step_size=0.01, loss:2722666.500000\n",
      "epach:11, step_size=0.01, loss:2722666.500000\n",
      "epach:12, step_size=0.01, loss:2722666.500000\n",
      "epach:13, step_size=0.01, loss:2722666.500000\n",
      "epach:14, step_size=0.01, loss:2722666.500000\n",
      "epach:15, step_size=0.01, loss:2722666.500000\n",
      "epach:16, step_size=0.01, loss:2722666.500000\n",
      "epach:17, step_size=0.01, loss:2722666.500000\n",
      "epach:18, step_size=0.01, loss:2722666.500000\n",
      "epach:19, step_size=0.01, loss:2722666.500000\n",
      "epach:20, step_size=0.01, loss:2722666.500000\n",
      "epach:21, step_size=0.01, loss:2722666.500000\n",
      "epach:22, step_size=0.01, loss:2722666.500000\n",
      "epach:23, step_size=0.01, loss:2722666.500000\n",
      "epach:24, step_size=0.01, loss:2722666.500000\n",
      "epach:25, step_size=0.01, loss:2722666.500000\n",
      "epach:26, step_size=0.01, loss:2722666.500000\n",
      "epach:27, step_size=0.01, loss:2722666.500000\n",
      "epach:28, step_size=0.01, loss:2722666.500000\n",
      "epach:29, step_size=0.01, loss:2722666.500000\n",
      "epach:30, step_size=0.01, loss:2722666.500000\n",
      "epach:31, step_size=0.01, loss:2722666.500000\n",
      "epach:32, step_size=0.01, loss:2722666.500000\n",
      "epach:33, step_size=0.01, loss:2722666.500000\n",
      "epach:34, step_size=0.01, loss:2722666.500000\n",
      "epach:35, step_size=0.01, loss:2722666.500000\n",
      "epach:36, step_size=0.01, loss:2722666.500000\n",
      "epach:37, step_size=0.01, loss:2722666.500000\n",
      "epach:38, step_size=0.01, loss:2722666.500000\n",
      "epach:39, step_size=0.01, loss:2722666.500000\n",
      "epach:40, step_size=0.01, loss:2722666.500000\n",
      "epach:41, step_size=0.01, loss:2722666.500000\n",
      "epach:42, step_size=0.01, loss:2722666.500000\n",
      "epach:43, step_size=0.01, loss:2722666.500000\n",
      "epach:44, step_size=0.01, loss:2722666.500000\n",
      "epach:45, step_size=0.01, loss:2722666.500000\n",
      "epach:46, step_size=0.01, loss:2722666.500000\n",
      "epach:47, step_size=0.01, loss:2722666.500000\n",
      "epach:48, step_size=0.01, loss:2722666.500000\n",
      "epach:49, step_size=0.01, loss:2722666.500000\n",
      "epach:50, step_size=0.01, loss:2722666.500000\n",
      "epach:51, step_size=0.01, loss:2722666.500000\n",
      "epach:52, step_size=0.01, loss:2722666.500000\n",
      "epach:53, step_size=0.01, loss:2722666.500000\n",
      "epach:54, step_size=0.01, loss:2722666.500000\n",
      "epach:55, step_size=0.01, loss:2722666.500000\n",
      "epach:56, step_size=0.01, loss:2722666.500000\n",
      "epach:57, step_size=0.01, loss:2722666.500000\n",
      "epach:58, step_size=0.01, loss:2722666.500000\n",
      "epach:59, step_size=0.01, loss:2722666.500000\n",
      "epach:60, step_size=0.01, loss:2722666.500000\n",
      "epach:61, step_size=0.01, loss:2722666.500000\n",
      "epach:62, step_size=0.01, loss:2722666.500000\n",
      "epach:63, step_size=0.01, loss:2722666.500000\n",
      "epach:64, step_size=0.01, loss:2722666.500000\n",
      "epach:65, step_size=0.01, loss:2722666.500000\n",
      "epach:66, step_size=0.01, loss:2722666.500000\n",
      "epach:67, step_size=0.01, loss:2722666.500000\n",
      "epach:68, step_size=0.01, loss:2722666.500000\n",
      "epach:69, step_size=0.01, loss:2722666.500000\n",
      "epach:70, step_size=0.01, loss:2722666.500000\n",
      "epach:71, step_size=0.01, loss:2722666.500000\n",
      "epach:72, step_size=0.01, loss:2722666.500000\n",
      "epach:73, step_size=0.01, loss:2722666.500000\n",
      "epach:74, step_size=0.01, loss:2722666.500000\n",
      "epach:75, step_size=0.01, loss:2722666.500000\n",
      "epach:76, step_size=0.01, loss:2722666.500000\n",
      "epach:77, step_size=0.01, loss:2722666.500000\n",
      "epach:78, step_size=0.01, loss:2722666.500000\n",
      "epach:79, step_size=0.01, loss:2722666.500000\n",
      "epach:80, step_size=0.01, loss:2722666.500000\n",
      "epach:81, step_size=0.01, loss:2722666.500000\n",
      "epach:82, step_size=0.01, loss:2722666.500000\n",
      "epach:83, step_size=0.01, loss:2722666.500000\n",
      "epach:84, step_size=0.01, loss:2722666.500000\n",
      "epach:85, step_size=0.01, loss:2722666.500000\n",
      "epach:86, step_size=0.01, loss:2722666.500000\n",
      "epach:87, step_size=0.01, loss:2722666.500000\n",
      "epach:88, step_size=0.01, loss:2722666.500000\n",
      "epach:89, step_size=0.01, loss:2722666.500000\n",
      "epach:90, step_size=0.01, loss:2722666.500000\n",
      "epach:91, step_size=0.01, loss:2722666.500000\n",
      "epach:92, step_size=0.01, loss:2722666.500000\n",
      "epach:93, step_size=0.01, loss:2722666.500000\n",
      "epach:94, step_size=0.01, loss:2722666.500000\n",
      "epach:95, step_size=0.01, loss:2722666.500000\n",
      "epach:96, step_size=0.01, loss:2722666.500000\n",
      "epach:97, step_size=0.01, loss:2722666.500000\n",
      "epach:98, step_size=0.01, loss:2722666.500000\n",
      "epach:99, step_size=0.01, loss:2722666.500000\n"
     ]
    }
   ],
   "source": [
    "maxIter = 100\n",
    "step_size = 0.01\n",
    "threshold = 0.1\n",
    "\n",
    "params = network.parameters()\n",
    "\n",
    "losses = []\n",
    "\n",
    "for epoch in range(maxIter):\n",
    "    # Forward pass\n",
    "    Yp = [network(x) for x in X]\n",
    "    loss = sum((y-yp)**2 for (y,yp) in zip(Y, Yp))\n",
    "\n",
    "    # Backward pass\n",
    "    for param in params:\n",
    "        param.grad = 0.0\n",
    "    #end-for\n",
    "    loss.backward()\n",
    "\n",
    "\n",
    "    # Update\n",
    "    for param in params:\n",
    "        param.data += -(step_size * param.grad)\n",
    "    #end-def\n",
    "        \n",
    "    #outputs:\n",
    "    print(f'epach:{epoch}, step_size={step_size}, loss:{loss.data:0.6f}')\n",
    "    losses.append(loss.data)\n",
    "#end-for"
   ]
  },
  {
   "cell_type": "code",
   "execution_count": null,
   "metadata": {},
   "outputs": [],
   "source": [
    "import torch\n",
    "import torch.nn as nn\n",
    "import torch.optim as optim\n",
    "\n",
    "# Define a simple neural network\n",
    "class NN(nn.Module):\n",
    "    def __init__(self):\n",
    "        super(NN, self).__init__()\n",
    "        self.linear = nn.Linear(1, 1)\n",
    "    #end-def\n",
    "        \n",
    "    def forward(self, x):\n",
    "        return self.linear(x)\n",
    "    #end-def\n",
    "#end-class\n",
    "\n",
    "# Create an instance of the model\n",
    "model = NN()\n",
    "\n",
    "# Define loss function and optimizer\n",
    "criterion = nn.MSELoss()\n",
    "optimizer = optim.SGD(model.parameters(), lr=0.01)"
   ]
  },
  {
   "cell_type": "code",
   "execution_count": null,
   "metadata": {},
   "outputs": [],
   "source": [
    "# h = 0.5\n",
    "\n",
    "# X = list(np.arange(-20, 20+h, h))\n",
    "# # Y = [x*x for x in X]\n",
    "# X = torch.tensor(X, dtype=torch.float32).reshape(-1,1)\n",
    "\n",
    "# Y = X**2.0\n",
    "# print(X)"
   ]
  },
  {
   "cell_type": "code",
   "execution_count": null,
   "metadata": {},
   "outputs": [
    {
     "name": "stdout",
     "output_type": "stream",
     "text": [
      "Epoch 0/5000, Loss: 3115.481201171875\n",
      "Epoch 100/5000, Loss: 104.68913269042969\n",
      "Epoch 200/5000, Loss: 75.16357421875\n",
      "Epoch 300/5000, Loss: 62.43841552734375\n",
      "Epoch 400/5000, Loss: 56.954017639160156\n",
      "Epoch 500/5000, Loss: 54.59032440185547\n",
      "Epoch 600/5000, Loss: 53.57158660888672\n",
      "Epoch 700/5000, Loss: 53.13254928588867\n",
      "Epoch 800/5000, Loss: 52.94330978393555\n",
      "Epoch 900/5000, Loss: 52.861778259277344\n",
      "Epoch 1000/5000, Loss: 52.826622009277344\n",
      "Epoch 1100/5000, Loss: 52.81145095825195\n",
      "Epoch 1200/5000, Loss: 52.804954528808594\n",
      "Epoch 1300/5000, Loss: 52.8021240234375\n",
      "Epoch 1400/5000, Loss: 52.8009147644043\n",
      "Epoch 1500/5000, Loss: 52.800384521484375\n",
      "Epoch 1600/5000, Loss: 52.80015182495117\n",
      "Epoch 1700/5000, Loss: 52.800086975097656\n",
      "Epoch 1800/5000, Loss: 52.800018310546875\n",
      "Epoch 1900/5000, Loss: 52.800010681152344\n",
      "Epoch 2000/5000, Loss: 52.800018310546875\n",
      "Epoch 2100/5000, Loss: 52.800010681152344\n",
      "Epoch 2200/5000, Loss: 52.800018310546875\n",
      "Epoch 2300/5000, Loss: 52.79998779296875\n",
      "Epoch 2400/5000, Loss: 52.79999923706055\n",
      "Epoch 2500/5000, Loss: 52.79999923706055\n",
      "Epoch 2600/5000, Loss: 52.79999923706055\n",
      "Epoch 2700/5000, Loss: 52.800010681152344\n",
      "Epoch 2800/5000, Loss: 52.79998779296875\n",
      "Epoch 2900/5000, Loss: 52.79998779296875\n",
      "Epoch 3000/5000, Loss: 52.79998779296875\n",
      "Epoch 3100/5000, Loss: 52.79998779296875\n",
      "Epoch 3200/5000, Loss: 52.79998779296875\n",
      "Epoch 3300/5000, Loss: 52.79998779296875\n",
      "Epoch 3400/5000, Loss: 52.79998779296875\n",
      "Epoch 3500/5000, Loss: 52.79998779296875\n",
      "Epoch 3600/5000, Loss: 52.79998779296875\n",
      "Epoch 3700/5000, Loss: 52.79998779296875\n",
      "Epoch 3800/5000, Loss: 52.79998779296875\n",
      "Epoch 3900/5000, Loss: 52.79998779296875\n",
      "Epoch 4000/5000, Loss: 52.79998779296875\n",
      "Epoch 4100/5000, Loss: 52.79998779296875\n",
      "Epoch 4200/5000, Loss: 52.79998779296875\n",
      "Epoch 4300/5000, Loss: 52.79998779296875\n",
      "Epoch 4400/5000, Loss: 52.79998779296875\n",
      "Epoch 4500/5000, Loss: 52.79998779296875\n",
      "Epoch 4600/5000, Loss: 52.79998779296875\n",
      "Epoch 4700/5000, Loss: 52.79998779296875\n",
      "Epoch 4800/5000, Loss: 52.79998779296875\n",
      "Epoch 4900/5000, Loss: 52.79998779296875\n",
      "Predicted square of 6.0: 44.000030517578125\n"
     ]
    }
   ],
   "source": [
    "import torch\n",
    "import torch.nn as nn\n",
    "import torch.optim as optim\n",
    "\n",
    "# Define a simple neural network\n",
    "class SquarePredictor(nn.Module):\n",
    "    def __init__(self):\n",
    "        super(SquarePredictor, self).__init__()\n",
    "        self.linear = nn.Linear(1, 1)\n",
    "\n",
    "    def forward(self, x):\n",
    "        return self.linear(x)\n",
    "\n",
    "# Create an instance of the model\n",
    "model = SquarePredictor()\n",
    "\n",
    "# Define loss function and optimizer\n",
    "criterion = nn.MSELoss()\n",
    "optimizer = optim.SGD(model.parameters(), lr=0.01)\n",
    "\n",
    "# Training data\n",
    "# input_values = torch.tensor([[2.0], [3.0], [4.0], [5.0]], dtype=torch.float32)\n",
    "# target_values = torch.tensor([[4.0], [9.0], [16.0], [25.0]], dtype=torch.float32)\n",
    "\n",
    "\n",
    "input_values = torch.tensor([1, 2, 3, 4, 5, 6, 7, 8, 9, 10], dtype=torch.float32).reshape(-1,1)\n",
    "\n",
    "target_values = torch.tensor([1, 4, 9, 16, 25, 36, 49, 64, 81, 100], dtype=torch.float32).reshape(-1,1)\n",
    "\n",
    "\n",
    "# Training loop\n",
    "epochs = 5000\n",
    "for epoch in range(epochs):\n",
    "    # Forward pass\n",
    "    predictions = model(input_values)\n",
    "    loss = criterion(predictions, target_values)\n",
    "\n",
    "    # Backward pass and optimization\n",
    "    optimizer.zero_grad()\n",
    "    loss.backward()\n",
    "    optimizer.step()\n",
    "\n",
    "    if epoch % 100 == 0:\n",
    "        print(f'Epoch {epoch}/{epochs}, Loss: {loss.item()}')\n",
    "\n",
    "# Test the model\n",
    "test_value = torch.tensor([[6.0]], dtype=torch.float32)\n",
    "predicted_square = model(test_value).item()\n",
    "\n",
    "print(f'Predicted square of {test_value.item()}: {predicted_square}')\n"
   ]
  },
  {
   "cell_type": "code",
   "execution_count": null,
   "metadata": {},
   "outputs": [],
   "source": []
  },
  {
   "cell_type": "markdown",
   "metadata": {},
   "source": [
    "# PyTorch:"
   ]
  },
  {
   "cell_type": "code",
   "execution_count": 20,
   "metadata": {},
   "outputs": [],
   "source": [
    "# Define the XOR dataset\n",
    "X = torch.tensor([[0, 0], [0, 1], [1, 0], [1, 1]], dtype=torch.float32)\n",
    "Y = torch.tensor([[0], [1], [1], [0]], dtype=torch.float32)"
   ]
  },
  {
   "cell_type": "code",
   "execution_count": 25,
   "metadata": {},
   "outputs": [],
   "source": [
    "# Define the MLP model\n",
    "class MLP(nn.Module):\n",
    "    def __init__(self, weight_init=nn.init.kaiming_normal_):\n",
    "        super(MLP, self).__init__()\n",
    "        self.network = nn.Sequential(\n",
    "            nn.Linear(in_features=2, out_features=4),\n",
    "            nn.ReLU(),\n",
    "            nn.Linear(in_features=4, out_features=4),\n",
    "            nn.ReLU(),\n",
    "            nn.Linear(in_features=4, out_features=4),\n",
    "            nn.ReLU(),\n",
    "            nn.Linear(in_features=4, out_features=1),\n",
    "            nn.Sigmoid(),\n",
    "        )\n",
    "    #end-def\n",
    "    def forward(self, x):\n",
    "        return self.network(x)\n",
    "    #end-def\n",
    "#end-class"
   ]
  },
  {
   "cell_type": "code",
   "execution_count": 26,
   "metadata": {},
   "outputs": [
    {
     "name": "stdout",
     "output_type": "stream",
     "text": [
      "MLP(\n",
      "  (network): Sequential(\n",
      "    (0): Linear(in_features=2, out_features=4, bias=True)\n",
      "    (1): ReLU()\n",
      "    (2): Linear(in_features=4, out_features=4, bias=True)\n",
      "    (3): ReLU()\n",
      "    (4): Linear(in_features=4, out_features=4, bias=True)\n",
      "    (5): ReLU()\n",
      "    (6): Linear(in_features=4, out_features=1, bias=True)\n",
      "    (7): Sigmoid()\n",
      "  )\n",
      ")\n",
      "Epach: [500/10000], Loss: 0.00020798193872906268\n",
      "Epach: [1000/10000], Loss: 5.5670650908723474e-05\n",
      "Epach: [1500/10000], Loss: 2.5018911401275545e-05\n",
      "Epach: [2000/10000], Loss: 1.3763021343038417e-05\n",
      "Epach: [2500/10000], Loss: 8.419297955697402e-06\n",
      "Epach: [3000/10000], Loss: 5.491982847161125e-06\n",
      "Epach: [3500/10000], Loss: 3.736361577466596e-06\n",
      "Epach: [4000/10000], Loss: 2.6169564080191776e-06\n",
      "Epach: [4500/10000], Loss: 1.8710783251663088e-06\n",
      "Epach: [5000/10000], Loss: 1.3582762221631128e-06\n",
      "Epach: [5500/10000], Loss: 9.972411589842523e-07\n",
      "Epach: [6000/10000], Loss: 7.386865945591126e-07\n",
      "Epach: [6500/10000], Loss: 5.506713591785228e-07\n",
      "Epach: [7000/10000], Loss: 4.1259093563894567e-07\n",
      "Epach: [7500/10000], Loss: 3.104369170614518e-07\n",
      "Epach: [8000/10000], Loss: 2.3430101236954215e-07\n",
      "Epach: [8500/10000], Loss: 1.7727576562265313e-07\n",
      "Epach: [9000/10000], Loss: 1.344138809145079e-07\n",
      "Epach: [9500/10000], Loss: 1.0209914336201109e-07\n",
      "Epach: [10000/10000], Loss: 7.765069653942192e-08\n"
     ]
    }
   ],
   "source": [
    "model = MLP()\n",
    "print(model)\n",
    "\n",
    "criterion = nn.MSELoss()\n",
    "optimizer = torch.optim.Adam(model.parameters(), lr=0.01)\n",
    "\n",
    "epochs = 10000\n",
    "for epoch in range(epochs):\n",
    "    # Step-1: forward pass:\n",
    "    Yp = model(X)\n",
    "    loss = criterion(Yp, Y)\n",
    "\n",
    "    # Step-2: backward pass:\n",
    "    optimizer.zero_grad()\n",
    "    loss.backward()\n",
    "\n",
    "    # Step-3: update parameters:\n",
    "    optimizer.step()\n",
    "    \n",
    "    if (epoch+1) % 500 == 0:\n",
    "        print(f'Epach: [{epoch+1}/{epochs}], Loss: {loss}')\n",
    "    #end-if/else\n",
    "#end-for"
   ]
  },
  {
   "cell_type": "code",
   "execution_count": 16,
   "metadata": {},
   "outputs": [
    {
     "name": "stdout",
     "output_type": "stream",
     "text": [
      "tensor([[2.1562e-04],\n",
      "        [9.9981e-01],\n",
      "        [9.9988e-01],\n",
      "        [2.1559e-04]])\n",
      "tensor([[0.],\n",
      "        [1.],\n",
      "        [1.],\n",
      "        [0.]])\n"
     ]
    }
   ],
   "source": [
    "with torch.no_grad():\n",
    "    predicted = model(X)\n",
    "    print(predicted)\n",
    "    print(predicted.round())\n",
    "#end-with"
   ]
  },
  {
   "cell_type": "code",
   "execution_count": null,
   "metadata": {},
   "outputs": [],
   "source": []
  },
  {
   "cell_type": "markdown",
   "metadata": {},
   "source": [
    "# Using Original MicroGrad:"
   ]
  },
  {
   "cell_type": "code",
   "execution_count": 30,
   "metadata": {},
   "outputs": [],
   "source": [
    "# import micrograd.nn\n",
    "# import micrograd.engine"
   ]
  },
  {
   "cell_type": "code",
   "execution_count": 1,
   "metadata": {},
   "outputs": [
    {
     "name": "stdout",
     "output_type": "stream",
     "text": [
      "Value(data=-4.0, grad=0)\n"
     ]
    }
   ],
   "source": [
    "from micrograd.engine import Value\n",
    "\n",
    "a = Value(-4.0)\n",
    "print(a)"
   ]
  },
  {
   "cell_type": "code",
   "execution_count": 132,
   "metadata": {},
   "outputs": [],
   "source": [
    "from micrograd import nn\n",
    "\n",
    "model = nn.MLP(3, [4, 4, 1])\n",
    "\n",
    "# X = [\n",
    "#     [2,   3,  -1],\n",
    "#     [3,  -1, 0.5],\n",
    "#     [0.5, 1,   1],\n",
    "#     [1,   1,  -1],\n",
    "# ]\n",
    "\n",
    "# Y = [1, -1, -1, 1]\n",
    "\n",
    "\n",
    "X = [\n",
    "    [0, 0],\n",
    "    [0, 1],\n",
    "    [1, 0],\n",
    "    [1, 1],\n",
    "]\n",
    "\n",
    "Y = [0, 1, 1, 0]"
   ]
  },
  {
   "cell_type": "code",
   "execution_count": 133,
   "metadata": {},
   "outputs": [
    {
     "data": {
      "text/plain": [
       "MLP of [Layer of [ReLUNeuron(3), ReLUNeuron(3), ReLUNeuron(3), ReLUNeuron(3)], Layer of [ReLUNeuron(4), ReLUNeuron(4), ReLUNeuron(4), ReLUNeuron(4)], Layer of [LinearNeuron(4)]]"
      ]
     },
     "execution_count": 133,
     "metadata": {},
     "output_type": "execute_result"
    }
   ],
   "source": [
    "model"
   ]
  },
  {
   "cell_type": "code",
   "execution_count": 134,
   "metadata": {},
   "outputs": [
    {
     "name": "stdout",
     "output_type": "stream",
     "text": [
      "Epach: [500/2000], Loss: 0.060515639955189215\n",
      "Epach: [1000/2000], Loss: 8.50322095801415e-05\n",
      "Epach: [1500/2000], Loss: 6.741713132570278e-08\n",
      "Epach: [2000/2000], Loss: 4.7261735526840644e-11\n"
     ]
    }
   ],
   "source": [
    "epochs = 2000\n",
    "\n",
    "losses = []\n",
    "\n",
    "for epoch in range(1, epochs+1):\n",
    "\n",
    "    # Step-1: forward pass:\n",
    "    Yp = [model(x) for x in X]\n",
    "\n",
    "    loss = sum([(y-yp)**2.0 for (y, yp) in zip(Y, Yp)])\n",
    "\n",
    "    # print(f'epach:{epoch}, loss:{loss.data:0.6f}')\n",
    "    losses.append(loss.data)\n",
    "\n",
    "    # Step-2: backward pass:\n",
    "    for param in model.parameters():\n",
    "        param.grad = 0.0\n",
    "    #end-for\n",
    "    loss.backward()\n",
    "\n",
    "\n",
    "    # Step-3: update parameters:\n",
    "    for param in model.parameters():\n",
    "        param.data += - (0.01 * param.grad)\n",
    "    #end-for\n",
    "        \n",
    "    if (epoch+1) % 500 == 0:\n",
    "        print(f'Epach: [{epoch+1}/{epochs}], Loss: {loss.data}')\n",
    "    #end-if/else\n",
    "#end-for"
   ]
  },
  {
   "cell_type": "code",
   "execution_count": 136,
   "metadata": {},
   "outputs": [
    {
     "data": {
      "image/png": "[encoded data removed]",
      "text/plain": [
       "<Figure size 640x480 with 1 Axes>"
      ]
     },
     "metadata": {},
     "output_type": "display_data"
    }
   ],
   "source": [
    "def lossPlot(data):\n",
    "    plt.title(label='Graph: Loss vs. Epoch', fontsize=16)\n",
    "\n",
    "    plt.plot(data, label='Training Loss', marker='.')\n",
    "    plt.plot(np.arange(len(data)), np.zeros(len(data)), label='expected loss', marker='.', color='red')\n",
    "\n",
    "    plt.xlabel('Epoch', fontsize=16)\n",
    "    plt.ylabel('Loss',  fontsize=16)\n",
    "    plt.legend()\n",
    "    \n",
    "    plt.savefig(fname='Loss_vs_Epoch.png', dpi=300)\n",
    "\n",
    "    plt.show()\n",
    "#end-def\n",
    "    \n",
    "lossPlot(losses)"
   ]
  },
  {
   "cell_type": "code",
   "execution_count": 20,
   "metadata": {},
   "outputs": [
    {
     "data": {
      "text/plain": [
       "<matplotlib.collections.PathCollection at 0x7b083237b820>"
      ]
     },
     "execution_count": 20,
     "metadata": {},
     "output_type": "execute_result"
    },
    {
     "data": {
      "image/png": "[encoded data removed]",
      "text/plain": [
       "<Figure size 500x500 with 1 Axes>"
      ]
     },
     "metadata": {},
     "output_type": "display_data"
    }
   ],
   "source": [
    "# make up a dataset\n",
    "\n",
    "from sklearn.datasets import make_moons, make_blobs\n",
    "X, y = make_moons(n_samples=100, noise=0.1)\n",
    "\n",
    "y = y*2 - 1 # make y be -1 or 1\n",
    "# visualize in 2D\n",
    "plt.figure(figsize=(5,5))\n",
    "plt.scatter(X[:,0], X[:,1], c=y, s=20, cmap='jet')"
   ]
  },
  {
   "cell_type": "code",
   "execution_count": 21,
   "metadata": {},
   "outputs": [
    {
     "name": "stdout",
     "output_type": "stream",
     "text": [
      "MLP of [Layer of [ReLUNeuron(2), ReLUNeuron(2), ReLUNeuron(2), ReLUNeuron(2), ReLUNeuron(2), ReLUNeuron(2), ReLUNeuron(2), ReLUNeuron(2), ReLUNeuron(2), ReLUNeuron(2), ReLUNeuron(2), ReLUNeuron(2), ReLUNeuron(2), ReLUNeuron(2), ReLUNeuron(2), ReLUNeuron(2)], Layer of [ReLUNeuron(16), ReLUNeuron(16), ReLUNeuron(16), ReLUNeuron(16), ReLUNeuron(16), ReLUNeuron(16), ReLUNeuron(16), ReLUNeuron(16), ReLUNeuron(16), ReLUNeuron(16), ReLUNeuron(16), ReLUNeuron(16), ReLUNeuron(16), ReLUNeuron(16), ReLUNeuron(16), ReLUNeuron(16)], Layer of [LinearNeuron(16)]]\n",
      "number of parameters 337\n"
     ]
    }
   ],
   "source": [
    "# initialize a model \n",
    "model = nn.MLP(2, [16, 16, 1]) # 2-layer neural network\n",
    "print(model)\n",
    "print(\"number of parameters\", len(model.parameters()))"
   ]
  },
  {
   "cell_type": "code",
   "execution_count": 22,
   "metadata": {},
   "outputs": [
    {
     "name": "stdout",
     "output_type": "stream",
     "text": [
      "Value(data=1.2701283662305118, grad=0) 0.55\n"
     ]
    }
   ],
   "source": [
    "# loss function\n",
    "def loss(batch_size=None):\n",
    "    \n",
    "    # inline DataLoader :)\n",
    "    if batch_size is None:\n",
    "        Xb, yb = X, y\n",
    "    else:\n",
    "        ri = np.random.permutation(X.shape[0])[:batch_size]\n",
    "        Xb, yb = X[ri], y[ri]\n",
    "    inputs = [list(map(Value, xrow)) for xrow in Xb]\n",
    "    \n",
    "    # forward the model to get scores\n",
    "    scores = list(map(model, inputs))\n",
    "    \n",
    "    # svm \"max-margin\" loss\n",
    "    losses = [(1 + -yi*scorei).relu() for yi, scorei in zip(yb, scores)]\n",
    "    data_loss = sum(losses) * (1.0 / len(losses))\n",
    "    # L2 regularization\n",
    "    alpha = 1e-4\n",
    "    reg_loss = alpha * sum((p*p for p in model.parameters()))\n",
    "    total_loss = data_loss + reg_loss\n",
    "    \n",
    "    # also get accuracy\n",
    "    accuracy = [(yi > 0) == (scorei.data > 0) for yi, scorei in zip(yb, scores)]\n",
    "    return total_loss, sum(accuracy) / len(accuracy)\n",
    "\n",
    "total_loss, acc = loss()\n",
    "print(total_loss, acc)"
   ]
  },
  {
   "cell_type": "code",
   "execution_count": 23,
   "metadata": {},
   "outputs": [
    {
     "name": "stdout",
     "output_type": "stream",
     "text": [
      "step 0 loss 1.2701283662305118, accuracy 55.00000000000001%\n",
      "step 1 loss 1.966729813644742, accuracy 50.0%\n",
      "step 2 loss 0.850336032316854, accuracy 55.00000000000001%\n",
      "step 3 loss 0.511338919920125, accuracy 79.0%\n",
      "step 4 loss 0.8075498953315874, accuracy 83.0%\n",
      "step 5 loss 0.37357358415136693, accuracy 85.0%\n",
      "step 6 loss 0.32161350979203107, accuracy 86.0%\n",
      "step 7 loss 0.2652196770975695, accuracy 88.0%\n",
      "step 8 loss 0.2652369709176007, accuracy 91.0%\n",
      "step 9 loss 0.30459788327912546, accuracy 86.0%\n",
      "step 10 loss 0.31823760841481546, accuracy 89.0%\n",
      "step 11 loss 0.24720219730115423, accuracy 86.0%\n",
      "step 12 loss 0.25267172070000904, accuracy 89.0%\n",
      "step 13 loss 0.1674022923777313, accuracy 94.0%\n",
      "step 14 loss 0.16029385217407702, accuracy 94.0%\n",
      "step 15 loss 0.16990128427096282, accuracy 95.0%\n",
      "step 16 loss 0.24420413864627355, accuracy 92.0%\n",
      "step 17 loss 0.1631428216553493, accuracy 95.0%\n",
      "step 18 loss 0.13035280427582482, accuracy 95.0%\n",
      "step 19 loss 0.11142751646514569, accuracy 97.0%\n",
      "step 20 loss 0.1322485605014841, accuracy 95.0%\n",
      "step 21 loss 0.11238964573751357, accuracy 95.0%\n",
      "step 22 loss 0.07766308965614174, accuracy 97.0%\n",
      "step 23 loss 0.09842038197720109, accuracy 98.0%\n",
      "step 24 loss 0.13796509065077733, accuracy 95.0%\n",
      "step 25 loss 0.098604103174491, accuracy 98.0%\n",
      "step 26 loss 0.1021501386481814, accuracy 95.0%\n",
      "step 27 loss 0.06916355359863437, accuracy 97.0%\n",
      "step 28 loss 0.0619285235089009, accuracy 100.0%\n",
      "step 29 loss 0.07025059457499339, accuracy 97.0%\n",
      "step 30 loss 0.03631619015455852, accuracy 100.0%\n",
      "step 31 loss 0.03367775820263401, accuracy 100.0%\n",
      "step 32 loss 0.037637862038958754, accuracy 99.0%\n",
      "step 33 loss 0.056522475240640954, accuracy 100.0%\n",
      "step 34 loss 0.12433824710883767, accuracy 95.0%\n",
      "step 35 loss 0.0682928659804663, accuracy 98.0%\n",
      "step 36 loss 0.029425721533769898, accuracy 100.0%\n",
      "step 37 loss 0.03162628575199628, accuracy 100.0%\n",
      "step 38 loss 0.04593405099541284, accuracy 98.0%\n",
      "step 39 loss 0.02090920274726178, accuracy 100.0%\n",
      "step 40 loss 0.032341260001770504, accuracy 100.0%\n",
      "step 41 loss 0.059929436372209044, accuracy 97.0%\n",
      "step 42 loss 0.024558393171743118, accuracy 100.0%\n",
      "step 43 loss 0.01706469712565189, accuracy 100.0%\n",
      "step 44 loss 0.0178383119022375, accuracy 100.0%\n",
      "step 45 loss 0.018093891233251724, accuracy 100.0%\n",
      "step 46 loss 0.037787179980458996, accuracy 99.0%\n",
      "step 47 loss 0.01638564039415586, accuracy 100.0%\n",
      "step 48 loss 0.01673138044956339, accuracy 100.0%\n",
      "step 49 loss 0.02495824622338263, accuracy 100.0%\n",
      "step 50 loss 0.015221803201939922, accuracy 100.0%\n",
      "step 51 loss 0.015129241811346911, accuracy 100.0%\n",
      "step 52 loss 0.014595198537800131, accuracy 100.0%\n",
      "step 53 loss 0.014338746349736213, accuracy 100.0%\n",
      "step 54 loss 0.014043007733533012, accuracy 100.0%\n",
      "step 55 loss 0.014092782313341275, accuracy 100.0%\n",
      "step 56 loss 0.014886642340142937, accuracy 100.0%\n",
      "step 57 loss 0.015467925487815153, accuracy 100.0%\n",
      "step 58 loss 0.013374796331496122, accuracy 100.0%\n",
      "step 59 loss 0.013151844007101506, accuracy 100.0%\n",
      "step 60 loss 0.013021730508976245, accuracy 100.0%\n",
      "step 61 loss 0.012823802462488447, accuracy 100.0%\n",
      "step 62 loss 0.012671142387629949, accuracy 100.0%\n",
      "step 63 loss 0.012557544158112522, accuracy 100.0%\n",
      "step 64 loss 0.012443278276148724, accuracy 100.0%\n",
      "step 65 loss 0.012332004547565587, accuracy 100.0%\n",
      "step 66 loss 0.012589481080548925, accuracy 100.0%\n",
      "step 67 loss 0.012886260279797852, accuracy 100.0%\n",
      "step 68 loss 0.012241291736551158, accuracy 100.0%\n",
      "step 69 loss 0.01210536047988868, accuracy 100.0%\n",
      "step 70 loss 0.012032551480882399, accuracy 100.0%\n",
      "step 71 loss 0.01192563177110096, accuracy 100.0%\n",
      "step 72 loss 0.011813851456687943, accuracy 100.0%\n",
      "step 73 loss 0.011817037888041518, accuracy 100.0%\n",
      "step 74 loss 0.012255091795459477, accuracy 100.0%\n",
      "step 75 loss 0.011750657427848435, accuracy 100.0%\n",
      "step 76 loss 0.01163289565456617, accuracy 100.0%\n",
      "step 77 loss 0.011566487008590646, accuracy 100.0%\n",
      "step 78 loss 0.01147023965375828, accuracy 100.0%\n",
      "step 79 loss 0.011375288135534541, accuracy 100.0%\n",
      "step 80 loss 0.011423144627633587, accuracy 100.0%\n",
      "step 81 loss 0.011642841419786325, accuracy 100.0%\n",
      "step 82 loss 0.011506339576350815, accuracy 100.0%\n",
      "step 83 loss 0.011431844769120422, accuracy 100.0%\n",
      "step 84 loss 0.011223240148041616, accuracy 100.0%\n",
      "step 85 loss 0.011135653948111338, accuracy 100.0%\n",
      "step 86 loss 0.011059278658305586, accuracy 100.0%\n",
      "step 87 loss 0.01101389894937635, accuracy 100.0%\n",
      "step 88 loss 0.010944994494869827, accuracy 100.0%\n",
      "step 89 loss 0.010949324086739121, accuracy 100.0%\n",
      "step 90 loss 0.011381920345127614, accuracy 100.0%\n",
      "step 91 loss 0.011146154029053015, accuracy 100.0%\n",
      "step 92 loss 0.010933890952224768, accuracy 100.0%\n",
      "step 93 loss 0.01086838440043727, accuracy 100.0%\n",
      "step 94 loss 0.01080899378288232, accuracy 100.0%\n",
      "step 95 loss 0.010757910359772287, accuracy 100.0%\n",
      "step 96 loss 0.010709670664247722, accuracy 100.0%\n",
      "step 97 loss 0.010664299657003674, accuracy 100.0%\n",
      "step 98 loss 0.010621820919125662, accuracy 100.0%\n",
      "step 99 loss 0.01065647770689462, accuracy 100.0%\n"
     ]
    }
   ],
   "source": [
    "# optimization\n",
    "for k in range(100):\n",
    "    \n",
    "    # forward\n",
    "    total_loss, acc = loss()\n",
    "    \n",
    "    # backward\n",
    "    model.zero_grad()\n",
    "    total_loss.backward()\n",
    "    \n",
    "    # update (sgd)\n",
    "    learning_rate = 1.0 - 0.9*k/100\n",
    "    for p in model.parameters():\n",
    "        p.data -= learning_rate * p.grad\n",
    "    \n",
    "    if k % 1 == 0:\n",
    "        print(f\"step {k} loss {total_loss.data}, accuracy {acc*100}%\")"
   ]
  },
  {
   "cell_type": "code",
   "execution_count": 24,
   "metadata": {},
   "outputs": [
    {
     "data": {
      "text/plain": [
       "(-1.548639298268643, 1.951360701731357)"
      ]
     },
     "execution_count": 24,
     "metadata": {},
     "output_type": "execute_result"
    },
    {
     "data": {
      "image/png": "[encoded data removed]",
      "text/plain": [
       "<Figure size 640x480 with 1 Axes>"
      ]
     },
     "metadata": {},
     "output_type": "display_data"
    }
   ],
   "source": [
    "# visualize decision boundary\n",
    "\n",
    "h = 0.25\n",
    "x_min, x_max = X[:, 0].min() - 1, X[:, 0].max() + 1\n",
    "y_min, y_max = X[:, 1].min() - 1, X[:, 1].max() + 1\n",
    "xx, yy = np.meshgrid(np.arange(x_min, x_max, h),\n",
    "                     np.arange(y_min, y_max, h))\n",
    "Xmesh = np.c_[xx.ravel(), yy.ravel()]\n",
    "inputs = [list(map(Value, xrow)) for xrow in Xmesh]\n",
    "scores = list(map(model, inputs))\n",
    "Z = np.array([s.data > 0 for s in scores])\n",
    "Z = Z.reshape(xx.shape)\n",
    "\n",
    "fig = plt.figure()\n",
    "plt.contourf(xx, yy, Z, cmap=plt.cm.Spectral, alpha=0.8)\n",
    "plt.scatter(X[:, 0], X[:, 1], c=y, s=40, cmap=plt.cm.Spectral)\n",
    "plt.xlim(xx.min(), xx.max())\n",
    "plt.ylim(yy.min(), yy.max())"
   ]
  },
  {
   "cell_type": "code",
   "execution_count": 2,
   "metadata": {},
   "outputs": [
    {
     "name": "stdout",
     "output_type": "stream",
     "text": [
      "True\n",
      "True\n",
      "False\n"
     ]
    }
   ],
   "source": [
    "nouts = [4, 4, 1]\n",
    "\n",
    "nonlinear = True\n",
    "for i in range(len(nouts)):\n",
    "    # print(i)\n",
    "    # nonlin=i!=len(nouts)-1)\n",
    "    nonlinear = i!=len(nouts)-1\n",
    "    print(nonlinear)\n",
    "#end-for"
   ]
  },
  {
   "cell_type": "code",
   "execution_count": 16,
   "metadata": {},
   "outputs": [
    {
     "data": {
      "text/plain": [
       "[True, True, False]"
      ]
     },
     "execution_count": 16,
     "metadata": {},
     "output_type": "execute_result"
    }
   ],
   "source": [
    "nouts = [4, 4, 1]\n",
    "\n",
    "# nonlinear = [i!=len(nouts)-1 for i in range(len(nouts))]\n",
    "# print(nonlinear)\n",
    "\n",
    "nonlinear = [True]*(len(nouts)-1)\n",
    "nonlinear += [False]\n",
    "nonlinear "
   ]
  },
  {
   "cell_type": "code",
   "execution_count": null,
   "metadata": {},
   "outputs": [],
   "source": []
  }
 ],
 "metadata": {
  "kernelspec": {
   "display_name": "deep",
   "language": "python",
   "name": "python3"
  },
  "language_info": {
   "codemirror_mode": {
    "name": "ipython",
    "version": 3
   },
   "file_extension": ".py",
   "mimetype": "text/x-python",
   "name": "python",
   "nbconvert_exporter": "python",
   "pygments_lexer": "ipython3",
   "version": "3.10.12"
  }
 },
 "nbformat": 4,
 "nbformat_minor": 2
}
